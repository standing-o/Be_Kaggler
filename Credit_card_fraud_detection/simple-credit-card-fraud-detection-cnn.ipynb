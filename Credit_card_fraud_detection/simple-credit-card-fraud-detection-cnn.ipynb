{
 "cells": [
  {
   "cell_type": "markdown",
   "metadata": {
    "papermill": {
     "duration": 0.028212,
     "end_time": "2022-07-21T16:03:06.717012",
     "exception": false,
     "start_time": "2022-07-21T16:03:06.688800",
     "status": "completed"
    },
    "tags": []
   },
   "source": [
    "# **Credit Card Fraud Detection**\n",
    "> [Simple Credit card Fraud Detection 95% Accuracy by KRUTARTH DARJI](https://www.kaggle.com/code/krutarthhd/simple-credit-card-fraud-detection-95-accuracy)\n",
    "\n",
    "## **Data field**\n",
    "- `V1`, `V2`,...,`V28` : the result of a PCA transformation\n",
    "- `Time` : the seconds elapsed between each transaction and the first transaction in the dataset. \n",
    "- `Amount` : the transaction Amount, this feature can be used for example-dependant cost-sensitive learning. \n",
    "- `Class` : the response variable and it takes value 1 in case of fraud and 0 otherwise.\n",
    "\n",
    "  - This dataset presents transactions that occurred in two days, where we have 492 frauds out of 284,807 transactions. \n",
    "  - The dataset is highly unbalanced, the positive class (frauds) account for 0.172% of all transactions.\n",
    "\n"
   ]
  },
  {
   "cell_type": "code",
   "execution_count": 1,
   "metadata": {
    "execution": {
     "iopub.execute_input": "2022-07-21T16:03:06.773382Z",
     "iopub.status.busy": "2022-07-21T16:03:06.772670Z",
     "iopub.status.idle": "2022-07-21T16:03:16.388786Z",
     "shell.execute_reply": "2022-07-21T16:03:16.389495Z",
     "shell.execute_reply.started": "2022-07-21T15:54:21.898098Z"
    },
    "id": "k4CmPnBtyQmt",
    "papermill": {
     "duration": 9.646127,
     "end_time": "2022-07-21T16:03:16.389697",
     "exception": false,
     "start_time": "2022-07-21T16:03:06.743570",
     "status": "completed"
    },
    "tags": []
   },
   "outputs": [],
   "source": [
    "import numpy as np\n",
    "import pandas as pd\n",
    "import matplotlib.pyplot as plt\n",
    "\n",
    "from sklearn.model_selection import train_test_split\n",
    "from sklearn.preprocessing import StandardScaler\n",
    "\n",
    "import tensorflow as tf\n",
    "from tensorflow.keras import Sequential\n",
    "from tensorflow.keras.layers import BatchNormalization,Dropout,Dense,Flatten,Conv1D\n",
    "from tensorflow.keras.optimizers import Adam\n",
    "\n",
    "%matplotlib inline"
   ]
  },
  {
   "cell_type": "markdown",
   "metadata": {
    "id": "XLk8uVvjstvv",
    "papermill": {
     "duration": 0.02723,
     "end_time": "2022-07-21T16:03:16.446292",
     "exception": false,
     "start_time": "2022-07-21T16:03:16.419062",
     "status": "completed"
    },
    "tags": []
   },
   "source": [
    "## 1. Gathering the data and assessing the data"
   ]
  },
  {
   "cell_type": "code",
   "execution_count": 2,
   "metadata": {
    "execution": {
     "iopub.execute_input": "2022-07-21T16:03:16.505008Z",
     "iopub.status.busy": "2022-07-21T16:03:16.504288Z",
     "iopub.status.idle": "2022-07-21T16:03:20.770587Z",
     "shell.execute_reply": "2022-07-21T16:03:20.768749Z",
     "shell.execute_reply.started": "2022-07-21T15:55:16.057160Z"
    },
    "id": "E1GSd9y7yQm8",
    "papermill": {
     "duration": 4.296883,
     "end_time": "2022-07-21T16:03:20.770759",
     "exception": false,
     "start_time": "2022-07-21T16:03:16.473876",
     "status": "completed"
    },
    "tags": []
   },
   "outputs": [
    {
     "name": "stdout",
     "output_type": "stream",
     "text": [
      "(284807, 31)\n"
     ]
    },
    {
     "data": {
      "text/html": [
       "<div>\n",
       "<style scoped>\n",
       "    .dataframe tbody tr th:only-of-type {\n",
       "        vertical-align: middle;\n",
       "    }\n",
       "\n",
       "    .dataframe tbody tr th {\n",
       "        vertical-align: top;\n",
       "    }\n",
       "\n",
       "    .dataframe thead th {\n",
       "        text-align: right;\n",
       "    }\n",
       "</style>\n",
       "<table border=\"1\" class=\"dataframe\">\n",
       "  <thead>\n",
       "    <tr style=\"text-align: right;\">\n",
       "      <th></th>\n",
       "      <th>Time</th>\n",
       "      <th>V1</th>\n",
       "      <th>V2</th>\n",
       "      <th>V3</th>\n",
       "      <th>V4</th>\n",
       "      <th>V5</th>\n",
       "      <th>V6</th>\n",
       "      <th>V7</th>\n",
       "      <th>V8</th>\n",
       "      <th>V9</th>\n",
       "      <th>...</th>\n",
       "      <th>V21</th>\n",
       "      <th>V22</th>\n",
       "      <th>V23</th>\n",
       "      <th>V24</th>\n",
       "      <th>V25</th>\n",
       "      <th>V26</th>\n",
       "      <th>V27</th>\n",
       "      <th>V28</th>\n",
       "      <th>Amount</th>\n",
       "      <th>Class</th>\n",
       "    </tr>\n",
       "  </thead>\n",
       "  <tbody>\n",
       "    <tr>\n",
       "      <th>0</th>\n",
       "      <td>0.0</td>\n",
       "      <td>-1.359807</td>\n",
       "      <td>-0.072781</td>\n",
       "      <td>2.536347</td>\n",
       "      <td>1.378155</td>\n",
       "      <td>-0.338321</td>\n",
       "      <td>0.462388</td>\n",
       "      <td>0.239599</td>\n",
       "      <td>0.098698</td>\n",
       "      <td>0.363787</td>\n",
       "      <td>...</td>\n",
       "      <td>-0.018307</td>\n",
       "      <td>0.277838</td>\n",
       "      <td>-0.110474</td>\n",
       "      <td>0.066928</td>\n",
       "      <td>0.128539</td>\n",
       "      <td>-0.189115</td>\n",
       "      <td>0.133558</td>\n",
       "      <td>-0.021053</td>\n",
       "      <td>149.62</td>\n",
       "      <td>0</td>\n",
       "    </tr>\n",
       "    <tr>\n",
       "      <th>1</th>\n",
       "      <td>0.0</td>\n",
       "      <td>1.191857</td>\n",
       "      <td>0.266151</td>\n",
       "      <td>0.166480</td>\n",
       "      <td>0.448154</td>\n",
       "      <td>0.060018</td>\n",
       "      <td>-0.082361</td>\n",
       "      <td>-0.078803</td>\n",
       "      <td>0.085102</td>\n",
       "      <td>-0.255425</td>\n",
       "      <td>...</td>\n",
       "      <td>-0.225775</td>\n",
       "      <td>-0.638672</td>\n",
       "      <td>0.101288</td>\n",
       "      <td>-0.339846</td>\n",
       "      <td>0.167170</td>\n",
       "      <td>0.125895</td>\n",
       "      <td>-0.008983</td>\n",
       "      <td>0.014724</td>\n",
       "      <td>2.69</td>\n",
       "      <td>0</td>\n",
       "    </tr>\n",
       "    <tr>\n",
       "      <th>2</th>\n",
       "      <td>1.0</td>\n",
       "      <td>-1.358354</td>\n",
       "      <td>-1.340163</td>\n",
       "      <td>1.773209</td>\n",
       "      <td>0.379780</td>\n",
       "      <td>-0.503198</td>\n",
       "      <td>1.800499</td>\n",
       "      <td>0.791461</td>\n",
       "      <td>0.247676</td>\n",
       "      <td>-1.514654</td>\n",
       "      <td>...</td>\n",
       "      <td>0.247998</td>\n",
       "      <td>0.771679</td>\n",
       "      <td>0.909412</td>\n",
       "      <td>-0.689281</td>\n",
       "      <td>-0.327642</td>\n",
       "      <td>-0.139097</td>\n",
       "      <td>-0.055353</td>\n",
       "      <td>-0.059752</td>\n",
       "      <td>378.66</td>\n",
       "      <td>0</td>\n",
       "    </tr>\n",
       "    <tr>\n",
       "      <th>3</th>\n",
       "      <td>1.0</td>\n",
       "      <td>-0.966272</td>\n",
       "      <td>-0.185226</td>\n",
       "      <td>1.792993</td>\n",
       "      <td>-0.863291</td>\n",
       "      <td>-0.010309</td>\n",
       "      <td>1.247203</td>\n",
       "      <td>0.237609</td>\n",
       "      <td>0.377436</td>\n",
       "      <td>-1.387024</td>\n",
       "      <td>...</td>\n",
       "      <td>-0.108300</td>\n",
       "      <td>0.005274</td>\n",
       "      <td>-0.190321</td>\n",
       "      <td>-1.175575</td>\n",
       "      <td>0.647376</td>\n",
       "      <td>-0.221929</td>\n",
       "      <td>0.062723</td>\n",
       "      <td>0.061458</td>\n",
       "      <td>123.50</td>\n",
       "      <td>0</td>\n",
       "    </tr>\n",
       "    <tr>\n",
       "      <th>4</th>\n",
       "      <td>2.0</td>\n",
       "      <td>-1.158233</td>\n",
       "      <td>0.877737</td>\n",
       "      <td>1.548718</td>\n",
       "      <td>0.403034</td>\n",
       "      <td>-0.407193</td>\n",
       "      <td>0.095921</td>\n",
       "      <td>0.592941</td>\n",
       "      <td>-0.270533</td>\n",
       "      <td>0.817739</td>\n",
       "      <td>...</td>\n",
       "      <td>-0.009431</td>\n",
       "      <td>0.798278</td>\n",
       "      <td>-0.137458</td>\n",
       "      <td>0.141267</td>\n",
       "      <td>-0.206010</td>\n",
       "      <td>0.502292</td>\n",
       "      <td>0.219422</td>\n",
       "      <td>0.215153</td>\n",
       "      <td>69.99</td>\n",
       "      <td>0</td>\n",
       "    </tr>\n",
       "  </tbody>\n",
       "</table>\n",
       "<p>5 rows × 31 columns</p>\n",
       "</div>"
      ],
      "text/plain": [
       "   Time        V1        V2        V3        V4        V5        V6        V7  \\\n",
       "0   0.0 -1.359807 -0.072781  2.536347  1.378155 -0.338321  0.462388  0.239599   \n",
       "1   0.0  1.191857  0.266151  0.166480  0.448154  0.060018 -0.082361 -0.078803   \n",
       "2   1.0 -1.358354 -1.340163  1.773209  0.379780 -0.503198  1.800499  0.791461   \n",
       "3   1.0 -0.966272 -0.185226  1.792993 -0.863291 -0.010309  1.247203  0.237609   \n",
       "4   2.0 -1.158233  0.877737  1.548718  0.403034 -0.407193  0.095921  0.592941   \n",
       "\n",
       "         V8        V9  ...       V21       V22       V23       V24       V25  \\\n",
       "0  0.098698  0.363787  ... -0.018307  0.277838 -0.110474  0.066928  0.128539   \n",
       "1  0.085102 -0.255425  ... -0.225775 -0.638672  0.101288 -0.339846  0.167170   \n",
       "2  0.247676 -1.514654  ...  0.247998  0.771679  0.909412 -0.689281 -0.327642   \n",
       "3  0.377436 -1.387024  ... -0.108300  0.005274 -0.190321 -1.175575  0.647376   \n",
       "4 -0.270533  0.817739  ... -0.009431  0.798278 -0.137458  0.141267 -0.206010   \n",
       "\n",
       "        V26       V27       V28  Amount  Class  \n",
       "0 -0.189115  0.133558 -0.021053  149.62      0  \n",
       "1  0.125895 -0.008983  0.014724    2.69      0  \n",
       "2 -0.139097 -0.055353 -0.059752  378.66      0  \n",
       "3 -0.221929  0.062723  0.061458  123.50      0  \n",
       "4  0.502292  0.219422  0.215153   69.99      0  \n",
       "\n",
       "[5 rows x 31 columns]"
      ]
     },
     "execution_count": 2,
     "metadata": {},
     "output_type": "execute_result"
    }
   ],
   "source": [
    "df = pd.read_csv('../input/creditcardfraud/creditcard.csv')\n",
    "\n",
    "print(df.shape)\n",
    "df.head()"
   ]
  },
  {
   "cell_type": "code",
   "execution_count": 3,
   "metadata": {
    "execution": {
     "iopub.execute_input": "2022-07-21T16:03:20.832529Z",
     "iopub.status.busy": "2022-07-21T16:03:20.831692Z",
     "iopub.status.idle": "2022-07-21T16:03:20.875521Z",
     "shell.execute_reply": "2022-07-21T16:03:20.874902Z",
     "shell.execute_reply.started": "2022-07-21T15:55:27.392350Z"
    },
    "id": "hPl8RE4jyQnF",
    "outputId": "ab11f6f8-90ce-48dc-b57c-bc3d6a77a8eb",
    "papermill": {
     "duration": 0.076496,
     "end_time": "2022-07-21T16:03:20.875647",
     "exception": false,
     "start_time": "2022-07-21T16:03:20.799151",
     "status": "completed"
    },
    "tags": []
   },
   "outputs": [
    {
     "name": "stdout",
     "output_type": "stream",
     "text": [
      "<class 'pandas.core.frame.DataFrame'>\n",
      "RangeIndex: 284807 entries, 0 to 284806\n",
      "Data columns (total 31 columns):\n",
      " #   Column  Non-Null Count   Dtype  \n",
      "---  ------  --------------   -----  \n",
      " 0   Time    284807 non-null  float64\n",
      " 1   V1      284807 non-null  float64\n",
      " 2   V2      284807 non-null  float64\n",
      " 3   V3      284807 non-null  float64\n",
      " 4   V4      284807 non-null  float64\n",
      " 5   V5      284807 non-null  float64\n",
      " 6   V6      284807 non-null  float64\n",
      " 7   V7      284807 non-null  float64\n",
      " 8   V8      284807 non-null  float64\n",
      " 9   V9      284807 non-null  float64\n",
      " 10  V10     284807 non-null  float64\n",
      " 11  V11     284807 non-null  float64\n",
      " 12  V12     284807 non-null  float64\n",
      " 13  V13     284807 non-null  float64\n",
      " 14  V14     284807 non-null  float64\n",
      " 15  V15     284807 non-null  float64\n",
      " 16  V16     284807 non-null  float64\n",
      " 17  V17     284807 non-null  float64\n",
      " 18  V18     284807 non-null  float64\n",
      " 19  V19     284807 non-null  float64\n",
      " 20  V20     284807 non-null  float64\n",
      " 21  V21     284807 non-null  float64\n",
      " 22  V22     284807 non-null  float64\n",
      " 23  V23     284807 non-null  float64\n",
      " 24  V24     284807 non-null  float64\n",
      " 25  V25     284807 non-null  float64\n",
      " 26  V26     284807 non-null  float64\n",
      " 27  V27     284807 non-null  float64\n",
      " 28  V28     284807 non-null  float64\n",
      " 29  Amount  284807 non-null  float64\n",
      " 30  Class   284807 non-null  int64  \n",
      "dtypes: float64(30), int64(1)\n",
      "memory usage: 67.4 MB\n"
     ]
    }
   ],
   "source": [
    "df.info()"
   ]
  },
  {
   "cell_type": "code",
   "execution_count": 4,
   "metadata": {
    "execution": {
     "iopub.execute_input": "2022-07-21T16:03:20.945217Z",
     "iopub.status.busy": "2022-07-21T16:03:20.944631Z",
     "iopub.status.idle": "2022-07-21T16:03:20.951870Z",
     "shell.execute_reply": "2022-07-21T16:03:20.951393Z",
     "shell.execute_reply.started": "2022-07-21T15:55:31.962022Z"
    },
    "id": "E6NbzI2eyQnN",
    "outputId": "86ef8d68-2dcb-44a6-9b0e-5bb56d405cbc",
    "papermill": {
     "duration": 0.045987,
     "end_time": "2022-07-21T16:03:20.951976",
     "exception": false,
     "start_time": "2022-07-21T16:03:20.905989",
     "status": "completed"
    },
    "tags": []
   },
   "outputs": [
    {
     "data": {
      "text/plain": [
       "array([0, 1])"
      ]
     },
     "execution_count": 4,
     "metadata": {},
     "output_type": "execute_result"
    }
   ],
   "source": [
    "df.Class.unique()"
   ]
  },
  {
   "cell_type": "markdown",
   "metadata": {
    "id": "ctOEEGohtxDg",
    "papermill": {
     "duration": 0.020193,
     "end_time": "2022-07-21T16:03:20.991592",
     "exception": false,
     "start_time": "2022-07-21T16:03:20.971399",
     "status": "completed"
    },
    "tags": []
   },
   "source": [
    "## 2. Uneven class distribution"
   ]
  },
  {
   "cell_type": "code",
   "execution_count": 5,
   "metadata": {
    "execution": {
     "iopub.execute_input": "2022-07-21T16:03:21.036471Z",
     "iopub.status.busy": "2022-07-21T16:03:21.035708Z",
     "iopub.status.idle": "2022-07-21T16:03:21.047360Z",
     "shell.execute_reply": "2022-07-21T16:03:21.046487Z",
     "shell.execute_reply.started": "2022-07-21T15:55:47.505148Z"
    },
    "id": "GSb37bO6yQnQ",
    "outputId": "e3382eb3-3ecc-4c9e-c454-1a30edeeeaca",
    "papermill": {
     "duration": 0.036252,
     "end_time": "2022-07-21T16:03:21.047515",
     "exception": false,
     "start_time": "2022-07-21T16:03:21.011263",
     "status": "completed"
    },
    "tags": []
   },
   "outputs": [
    {
     "data": {
      "text/plain": [
       "0    284315\n",
       "1       492\n",
       "Name: Class, dtype: int64"
      ]
     },
     "execution_count": 5,
     "metadata": {},
     "output_type": "execute_result"
    }
   ],
   "source": [
    "df.Class.value_counts()"
   ]
  },
  {
   "cell_type": "code",
   "execution_count": 6,
   "metadata": {
    "execution": {
     "iopub.execute_input": "2022-07-21T16:03:21.115643Z",
     "iopub.status.busy": "2022-07-21T16:03:21.115071Z",
     "iopub.status.idle": "2022-07-21T16:03:21.148926Z",
     "shell.execute_reply": "2022-07-21T16:03:21.148471Z",
     "shell.execute_reply.started": "2022-07-21T15:55:55.961745Z"
    },
    "id": "qpIuOCQByQnU",
    "papermill": {
     "duration": 0.071353,
     "end_time": "2022-07-21T16:03:21.149048",
     "exception": false,
     "start_time": "2022-07-21T16:03:21.077695",
     "status": "completed"
    },
    "tags": []
   },
   "outputs": [],
   "source": [
    "nf = df[df.Class==0]\n",
    "f = df[df.Class==1]"
   ]
  },
  {
   "cell_type": "code",
   "execution_count": 7,
   "metadata": {
    "execution": {
     "iopub.execute_input": "2022-07-21T16:03:21.194108Z",
     "iopub.status.busy": "2022-07-21T16:03:21.193602Z",
     "iopub.status.idle": "2022-07-21T16:03:21.198340Z",
     "shell.execute_reply": "2022-07-21T16:03:21.199228Z",
     "shell.execute_reply.started": "2022-07-21T15:56:07.854043Z"
    },
    "papermill": {
     "duration": 0.030283,
     "end_time": "2022-07-21T16:03:21.199489",
     "exception": false,
     "start_time": "2022-07-21T16:03:21.169206",
     "status": "completed"
    },
    "tags": []
   },
   "outputs": [
    {
     "name": "stdout",
     "output_type": "stream",
     "text": [
      "(284315, 31)\n",
      "(492, 31)\n"
     ]
    }
   ],
   "source": [
    "print(nf.shape)\n",
    "print(f.shape)"
   ]
  },
  {
   "cell_type": "markdown",
   "metadata": {
    "id": "B8AQjuWdt1yT",
    "papermill": {
     "duration": 0.019107,
     "end_time": "2022-07-21T16:03:21.239791",
     "exception": false,
     "start_time": "2022-07-21T16:03:21.220684",
     "status": "completed"
    },
    "tags": []
   },
   "source": [
    "## 3. Extracting random entries of class-0\n",
    "- Total entries are 1.5* NO. of class-1 entries"
   ]
  },
  {
   "cell_type": "code",
   "execution_count": 8,
   "metadata": {
    "execution": {
     "iopub.execute_input": "2022-07-21T16:03:21.282928Z",
     "iopub.status.busy": "2022-07-21T16:03:21.282296Z",
     "iopub.status.idle": "2022-07-21T16:03:21.304745Z",
     "shell.execute_reply": "2022-07-21T16:03:21.304169Z",
     "shell.execute_reply.started": "2022-07-21T15:57:18.587291Z"
    },
    "id": "frs1ct-JyQnY",
    "papermill": {
     "duration": 0.045084,
     "end_time": "2022-07-21T16:03:21.304842",
     "exception": false,
     "start_time": "2022-07-21T16:03:21.259758",
     "status": "completed"
    },
    "tags": []
   },
   "outputs": [],
   "source": [
    "nf = nf.sample(738)"
   ]
  },
  {
   "cell_type": "markdown",
   "metadata": {
    "id": "sqSJJfzxuJ6-",
    "papermill": {
     "duration": 0.020341,
     "end_time": "2022-07-21T16:03:21.345341",
     "exception": false,
     "start_time": "2022-07-21T16:03:21.325000",
     "status": "completed"
    },
    "tags": []
   },
   "source": [
    "## 4. Creating new dataframe"
   ]
  },
  {
   "cell_type": "code",
   "execution_count": 9,
   "metadata": {
    "execution": {
     "iopub.execute_input": "2022-07-21T16:03:21.392226Z",
     "iopub.status.busy": "2022-07-21T16:03:21.391570Z",
     "iopub.status.idle": "2022-07-21T16:03:21.394808Z",
     "shell.execute_reply": "2022-07-21T16:03:21.395213Z",
     "shell.execute_reply.started": "2022-07-21T15:57:36.989164Z"
    },
    "id": "KwSVp7u2yQnb",
    "papermill": {
     "duration": 0.029457,
     "end_time": "2022-07-21T16:03:21.395349",
     "exception": false,
     "start_time": "2022-07-21T16:03:21.365892",
     "status": "completed"
    },
    "tags": []
   },
   "outputs": [],
   "source": [
    "data = f.append(nf, ignore_index=True)"
   ]
  },
  {
   "cell_type": "code",
   "execution_count": 10,
   "metadata": {
    "execution": {
     "iopub.execute_input": "2022-07-21T16:03:21.442288Z",
     "iopub.status.busy": "2022-07-21T16:03:21.441775Z",
     "iopub.status.idle": "2022-07-21T16:03:21.446253Z",
     "shell.execute_reply": "2022-07-21T16:03:21.445610Z",
     "shell.execute_reply.started": "2022-07-21T15:57:42.920181Z"
    },
    "id": "f3fQLr0cyQnf",
    "outputId": "67555591-4d34-4988-f1f2-ece56e2be824",
    "papermill": {
     "duration": 0.029435,
     "end_time": "2022-07-21T16:03:21.446377",
     "exception": false,
     "start_time": "2022-07-21T16:03:21.416942",
     "status": "completed"
    },
    "tags": []
   },
   "outputs": [
    {
     "name": "stdout",
     "output_type": "stream",
     "text": [
      "(1230, 31)\n"
     ]
    }
   ],
   "source": [
    "print(data.shape)"
   ]
  },
  {
   "cell_type": "code",
   "execution_count": 11,
   "metadata": {
    "execution": {
     "iopub.execute_input": "2022-07-21T16:03:21.496885Z",
     "iopub.status.busy": "2022-07-21T16:03:21.496286Z",
     "iopub.status.idle": "2022-07-21T16:03:21.500522Z",
     "shell.execute_reply": "2022-07-21T16:03:21.499991Z",
     "shell.execute_reply.started": "2022-07-21T15:57:57.345475Z"
    },
    "id": "u-K-HdhtyQni",
    "papermill": {
     "duration": 0.03312,
     "end_time": "2022-07-21T16:03:21.500630",
     "exception": false,
     "start_time": "2022-07-21T16:03:21.467510",
     "status": "completed"
    },
    "tags": []
   },
   "outputs": [],
   "source": [
    "X = data.drop(['Class'],axis=1)\n",
    "y = data['Class']"
   ]
  },
  {
   "cell_type": "markdown",
   "metadata": {
    "id": "5VtK1_nGuP2A",
    "papermill": {
     "duration": 0.02037,
     "end_time": "2022-07-21T16:03:21.542442",
     "exception": false,
     "start_time": "2022-07-21T16:03:21.522072",
     "status": "completed"
    },
    "tags": []
   },
   "source": [
    "## 5. Train-Test Split"
   ]
  },
  {
   "cell_type": "code",
   "execution_count": 12,
   "metadata": {
    "execution": {
     "iopub.execute_input": "2022-07-21T16:03:21.592209Z",
     "iopub.status.busy": "2022-07-21T16:03:21.591647Z",
     "iopub.status.idle": "2022-07-21T16:03:21.609141Z",
     "shell.execute_reply": "2022-07-21T16:03:21.608576Z",
     "shell.execute_reply.started": "2022-07-21T15:58:24.266193Z"
    },
    "id": "0OMK_lXkyQnm",
    "papermill": {
     "duration": 0.046221,
     "end_time": "2022-07-21T16:03:21.609243",
     "exception": false,
     "start_time": "2022-07-21T16:03:21.563022",
     "status": "completed"
    },
    "tags": []
   },
   "outputs": [],
   "source": [
    "x_train, x_test, y_train, y_test = train_test_split(X, y, test_size=0.2, stratify = y)"
   ]
  },
  {
   "cell_type": "code",
   "execution_count": 13,
   "metadata": {
    "execution": {
     "iopub.execute_input": "2022-07-21T16:03:21.660598Z",
     "iopub.status.busy": "2022-07-21T16:03:21.660050Z",
     "iopub.status.idle": "2022-07-21T16:03:21.667198Z",
     "shell.execute_reply": "2022-07-21T16:03:21.666668Z",
     "shell.execute_reply.started": "2022-07-21T15:59:27.431127Z"
    },
    "id": "ZsrubtAWyQnq",
    "outputId": "fb3a98d6-74f4-474e-c434-bfe42e8e69e0",
    "papermill": {
     "duration": 0.036636,
     "end_time": "2022-07-21T16:03:21.667455",
     "exception": false,
     "start_time": "2022-07-21T16:03:21.630819",
     "status": "completed"
    },
    "tags": []
   },
   "outputs": [
    {
     "name": "stdout",
     "output_type": "stream",
     "text": [
      "Shape of train X: (984, 30)\n",
      "Shape of train y: (984,)\n",
      "Shape of test X: (246, 30)\n",
      "Shape of test X: (246,)\n"
     ]
    }
   ],
   "source": [
    "print(\"Shape of train X:\", x_train.shape)\n",
    "print(\"Shape of train y:\", y_train.shape)\n",
    "print(\"Shape of test X:\", x_test.shape)\n",
    "print(\"Shape of test X:\", y_test.shape)"
   ]
  },
  {
   "cell_type": "markdown",
   "metadata": {
    "id": "L-yRp8TvuUF2",
    "papermill": {
     "duration": 0.020878,
     "end_time": "2022-07-21T16:03:21.709522",
     "exception": false,
     "start_time": "2022-07-21T16:03:21.688644",
     "status": "completed"
    },
    "tags": []
   },
   "source": [
    "## 6. Applying StandardScaler to obtain all the features in similar range"
   ]
  },
  {
   "cell_type": "code",
   "execution_count": 14,
   "metadata": {
    "execution": {
     "iopub.execute_input": "2022-07-21T16:03:21.762161Z",
     "iopub.status.busy": "2022-07-21T16:03:21.761371Z",
     "iopub.status.idle": "2022-07-21T16:03:21.767699Z",
     "shell.execute_reply": "2022-07-21T16:03:21.767205Z",
     "shell.execute_reply.started": "2022-07-21T15:59:48.549751Z"
    },
    "id": "y8k9Q1z_yQnt",
    "papermill": {
     "duration": 0.036476,
     "end_time": "2022-07-21T16:03:21.767809",
     "exception": false,
     "start_time": "2022-07-21T16:03:21.731333",
     "status": "completed"
    },
    "tags": []
   },
   "outputs": [],
   "source": [
    "scaler = StandardScaler()\n",
    "x_train = scaler.fit_transform(x_train)\n",
    "x_test = scaler.transform(x_test)"
   ]
  },
  {
   "cell_type": "code",
   "execution_count": 15,
   "metadata": {
    "execution": {
     "iopub.execute_input": "2022-07-21T16:03:21.817012Z",
     "iopub.status.busy": "2022-07-21T16:03:21.816226Z",
     "iopub.status.idle": "2022-07-21T16:03:21.821468Z",
     "shell.execute_reply": "2022-07-21T16:03:21.821954Z",
     "shell.execute_reply.started": "2022-07-21T15:59:53.784685Z"
    },
    "id": "eg_H4_cRyQnw",
    "papermill": {
     "duration": 0.032166,
     "end_time": "2022-07-21T16:03:21.822129",
     "exception": false,
     "start_time": "2022-07-21T16:03:21.789963",
     "status": "completed"
    },
    "tags": []
   },
   "outputs": [],
   "source": [
    "y_train = y_train.to_numpy()\n",
    "y_test = y_test.to_numpy()"
   ]
  },
  {
   "cell_type": "markdown",
   "metadata": {
    "id": "wpLnlOopucM3",
    "papermill": {
     "duration": 0.023053,
     "end_time": "2022-07-21T16:03:21.867820",
     "exception": false,
     "start_time": "2022-07-21T16:03:21.844767",
     "status": "completed"
    },
    "tags": []
   },
   "source": [
    "## 7. Reshaping the input to 3D."
   ]
  },
  {
   "cell_type": "code",
   "execution_count": 16,
   "metadata": {
    "execution": {
     "iopub.execute_input": "2022-07-21T16:03:21.915119Z",
     "iopub.status.busy": "2022-07-21T16:03:21.914395Z",
     "iopub.status.idle": "2022-07-21T16:03:21.919324Z",
     "shell.execute_reply": "2022-07-21T16:03:21.919771Z",
     "shell.execute_reply.started": "2022-07-21T16:00:14.770028Z"
    },
    "id": "uN99S6I0yQn0",
    "papermill": {
     "duration": 0.029106,
     "end_time": "2022-07-21T16:03:21.919900",
     "exception": false,
     "start_time": "2022-07-21T16:03:21.890794",
     "status": "completed"
    },
    "tags": []
   },
   "outputs": [],
   "source": [
    "x_train = x_train.reshape(x_train.shape[0], x_train.shape[1],1)\n",
    "x_test = x_test.reshape(x_test.shape[0], x_test.shape[1],1)"
   ]
  },
  {
   "cell_type": "markdown",
   "metadata": {
    "id": "XYYsZnliugPd",
    "papermill": {
     "duration": 0.020994,
     "end_time": "2022-07-21T16:03:21.961713",
     "exception": false,
     "start_time": "2022-07-21T16:03:21.940719",
     "status": "completed"
    },
    "tags": []
   },
   "source": [
    "## 8. CNN model"
   ]
  },
  {
   "cell_type": "code",
   "execution_count": 17,
   "metadata": {
    "execution": {
     "iopub.execute_input": "2022-07-21T16:03:22.009879Z",
     "iopub.status.busy": "2022-07-21T16:03:22.009148Z",
     "iopub.status.idle": "2022-07-21T16:03:22.339396Z",
     "shell.execute_reply": "2022-07-21T16:03:22.338881Z",
     "shell.execute_reply.started": "2022-07-21T16:00:41.648031Z"
    },
    "id": "VwMDh-ocyQn3",
    "papermill": {
     "duration": 0.355325,
     "end_time": "2022-07-21T16:03:22.339524",
     "exception": false,
     "start_time": "2022-07-21T16:03:21.984199",
     "status": "completed"
    },
    "tags": []
   },
   "outputs": [],
   "source": [
    "model = Sequential()\n",
    "model.add(Conv1D(32,2,activation='relu', input_shape = x_train[0].shape))\n",
    "model.add(BatchNormalization())\n",
    "model.add(Dropout(0.2))\n",
    "\n",
    "model.add(Conv1D(64,2,activation='relu'))\n",
    "model.add(BatchNormalization())\n",
    "model.add(Dropout(0.5))\n",
    "\n",
    "model.add(Flatten())\n",
    "model.add(Dense(64,activation='relu'))\n",
    "model.add(Dropout(0.5))\n",
    "\n",
    "model.add(Dense(1,activation='sigmoid'))"
   ]
  },
  {
   "cell_type": "code",
   "execution_count": 18,
   "metadata": {
    "execution": {
     "iopub.execute_input": "2022-07-21T16:03:22.384890Z",
     "iopub.status.busy": "2022-07-21T16:03:22.384186Z",
     "iopub.status.idle": "2022-07-21T16:03:22.396959Z",
     "shell.execute_reply": "2022-07-21T16:03:22.396234Z",
     "shell.execute_reply.started": "2022-07-21T16:00:57.496611Z"
    },
    "id": "NdU4-FziyQn-",
    "outputId": "4deccda8-a751-470d-c7a8-1c18ef73e43d",
    "papermill": {
     "duration": 0.035932,
     "end_time": "2022-07-21T16:03:22.397121",
     "exception": false,
     "start_time": "2022-07-21T16:03:22.361189",
     "status": "completed"
    },
    "tags": []
   },
   "outputs": [
    {
     "name": "stdout",
     "output_type": "stream",
     "text": [
      "Model: \"sequential\"\n",
      "_________________________________________________________________\n",
      "Layer (type)                 Output Shape              Param #   \n",
      "=================================================================\n",
      "conv1d (Conv1D)              (None, 29, 32)            96        \n",
      "_________________________________________________________________\n",
      "batch_normalization (BatchNo (None, 29, 32)            128       \n",
      "_________________________________________________________________\n",
      "dropout (Dropout)            (None, 29, 32)            0         \n",
      "_________________________________________________________________\n",
      "conv1d_1 (Conv1D)            (None, 28, 64)            4160      \n",
      "_________________________________________________________________\n",
      "batch_normalization_1 (Batch (None, 28, 64)            256       \n",
      "_________________________________________________________________\n",
      "dropout_1 (Dropout)          (None, 28, 64)            0         \n",
      "_________________________________________________________________\n",
      "flatten (Flatten)            (None, 1792)              0         \n",
      "_________________________________________________________________\n",
      "dense (Dense)                (None, 64)                114752    \n",
      "_________________________________________________________________\n",
      "dropout_2 (Dropout)          (None, 64)                0         \n",
      "_________________________________________________________________\n",
      "dense_1 (Dense)              (None, 1)                 65        \n",
      "=================================================================\n",
      "Total params: 119,457\n",
      "Trainable params: 119,265\n",
      "Non-trainable params: 192\n",
      "_________________________________________________________________\n"
     ]
    }
   ],
   "source": [
    "model.summary()"
   ]
  },
  {
   "cell_type": "markdown",
   "metadata": {
    "id": "631noVrgumk_",
    "papermill": {
     "duration": 0.021124,
     "end_time": "2022-07-21T16:03:22.439936",
     "exception": false,
     "start_time": "2022-07-21T16:03:22.418812",
     "status": "completed"
    },
    "tags": []
   },
   "source": [
    "## 9. Compiling and Fiting"
   ]
  },
  {
   "cell_type": "code",
   "execution_count": 19,
   "metadata": {
    "execution": {
     "iopub.execute_input": "2022-07-21T16:03:22.507109Z",
     "iopub.status.busy": "2022-07-21T16:03:22.490655Z",
     "iopub.status.idle": "2022-07-21T16:03:22.529023Z",
     "shell.execute_reply": "2022-07-21T16:03:22.529494Z",
     "shell.execute_reply.started": "2022-07-21T16:01:24.771394Z"
    },
    "id": "n5ROzdTiyQoD",
    "papermill": {
     "duration": 0.067432,
     "end_time": "2022-07-21T16:03:22.529639",
     "exception": false,
     "start_time": "2022-07-21T16:03:22.462207",
     "status": "completed"
    },
    "tags": []
   },
   "outputs": [],
   "source": [
    "model.compile(optimizer=Adam(learning_rate=0.0001), loss='binary_crossentropy', metrics=['accuracy'])"
   ]
  },
  {
   "cell_type": "code",
   "execution_count": 20,
   "metadata": {
    "execution": {
     "iopub.execute_input": "2022-07-21T16:03:22.576110Z",
     "iopub.status.busy": "2022-07-21T16:03:22.575553Z",
     "iopub.status.idle": "2022-07-21T16:03:29.696028Z",
     "shell.execute_reply": "2022-07-21T16:03:29.696774Z",
     "shell.execute_reply.started": "2022-07-21T16:01:32.405272Z"
    },
    "id": "f4MCei45yQoH",
    "outputId": "1ce65206-b630-4702-b7c5-1880490accb5",
    "papermill": {
     "duration": 7.145957,
     "end_time": "2022-07-21T16:03:29.697000",
     "exception": false,
     "start_time": "2022-07-21T16:03:22.551043",
     "status": "completed"
    },
    "tags": []
   },
   "outputs": [
    {
     "name": "stdout",
     "output_type": "stream",
     "text": [
      "Train on 984 samples, validate on 246 samples\n",
      "Epoch 1/20\n",
      "984/984 [==============================] - 2s 2ms/sample - loss: 0.7522 - accuracy: 0.6606 - val_loss: 0.5791 - val_accuracy: 0.8130\n",
      "Epoch 2/20\n",
      "984/984 [==============================] - 0s 251us/sample - loss: 0.4833 - accuracy: 0.8303 - val_loss: 0.5069 - val_accuracy: 0.7967\n",
      "Epoch 3/20\n",
      "984/984 [==============================] - 0s 260us/sample - loss: 0.3391 - accuracy: 0.8740 - val_loss: 0.4552 - val_accuracy: 0.8211\n",
      "Epoch 4/20\n",
      "984/984 [==============================] - 0s 265us/sample - loss: 0.3417 - accuracy: 0.8872 - val_loss: 0.4106 - val_accuracy: 0.8699\n",
      "Epoch 5/20\n",
      "984/984 [==============================] - 0s 249us/sample - loss: 0.3008 - accuracy: 0.9065 - val_loss: 0.3672 - val_accuracy: 0.9065\n",
      "Epoch 6/20\n",
      "984/984 [==============================] - 0s 246us/sample - loss: 0.2785 - accuracy: 0.9085 - val_loss: 0.3249 - val_accuracy: 0.9146\n",
      "Epoch 7/20\n",
      "984/984 [==============================] - 0s 290us/sample - loss: 0.2344 - accuracy: 0.9238 - val_loss: 0.2888 - val_accuracy: 0.9187\n",
      "Epoch 8/20\n",
      "984/984 [==============================] - 0s 255us/sample - loss: 0.2572 - accuracy: 0.9177 - val_loss: 0.2610 - val_accuracy: 0.9187\n",
      "Epoch 9/20\n",
      "984/984 [==============================] - 0s 297us/sample - loss: 0.2264 - accuracy: 0.9167 - val_loss: 0.2352 - val_accuracy: 0.9228\n",
      "Epoch 10/20\n",
      "984/984 [==============================] - 0s 287us/sample - loss: 0.2706 - accuracy: 0.9167 - val_loss: 0.2156 - val_accuracy: 0.9228\n",
      "Epoch 11/20\n",
      "984/984 [==============================] - 0s 273us/sample - loss: 0.2174 - accuracy: 0.9350 - val_loss: 0.2062 - val_accuracy: 0.9268\n",
      "Epoch 12/20\n",
      "984/984 [==============================] - 0s 267us/sample - loss: 0.2281 - accuracy: 0.9187 - val_loss: 0.1984 - val_accuracy: 0.9268\n",
      "Epoch 13/20\n",
      "984/984 [==============================] - 0s 280us/sample - loss: 0.2288 - accuracy: 0.9319 - val_loss: 0.1932 - val_accuracy: 0.9268\n",
      "Epoch 14/20\n",
      "984/984 [==============================] - 0s 288us/sample - loss: 0.2369 - accuracy: 0.9268 - val_loss: 0.1948 - val_accuracy: 0.9228\n",
      "Epoch 15/20\n",
      "984/984 [==============================] - 0s 275us/sample - loss: 0.1834 - accuracy: 0.9390 - val_loss: 0.1910 - val_accuracy: 0.9228\n",
      "Epoch 16/20\n",
      "984/984 [==============================] - 0s 268us/sample - loss: 0.1891 - accuracy: 0.9329 - val_loss: 0.1904 - val_accuracy: 0.9228\n",
      "Epoch 17/20\n",
      "984/984 [==============================] - 0s 270us/sample - loss: 0.2088 - accuracy: 0.9309 - val_loss: 0.1896 - val_accuracy: 0.9268\n",
      "Epoch 18/20\n",
      "984/984 [==============================] - 0s 290us/sample - loss: 0.2008 - accuracy: 0.9360 - val_loss: 0.1807 - val_accuracy: 0.9268\n",
      "Epoch 19/20\n",
      "984/984 [==============================] - 0s 262us/sample - loss: 0.1921 - accuracy: 0.9380 - val_loss: 0.1796 - val_accuracy: 0.9228\n",
      "Epoch 20/20\n",
      "984/984 [==============================] - 0s 270us/sample - loss: 0.1878 - accuracy: 0.9370 - val_loss: 0.1776 - val_accuracy: 0.9228\n"
     ]
    }
   ],
   "source": [
    "history = model.fit(x_train, y_train, epochs=20, validation_data=(x_test,y_test))"
   ]
  },
  {
   "cell_type": "code",
   "execution_count": 21,
   "metadata": {
    "execution": {
     "iopub.execute_input": "2022-07-21T16:03:29.816067Z",
     "iopub.status.busy": "2022-07-21T16:03:29.815456Z",
     "iopub.status.idle": "2022-07-21T16:03:29.828909Z",
     "shell.execute_reply": "2022-07-21T16:03:29.829660Z",
     "shell.execute_reply.started": "2022-07-21T16:02:02.095017Z"
    },
    "id": "pOnGAC9dyQoU",
    "papermill": {
     "duration": 0.07698,
     "end_time": "2022-07-21T16:03:29.829841",
     "exception": false,
     "start_time": "2022-07-21T16:03:29.752861",
     "status": "completed"
    },
    "tags": []
   },
   "outputs": [],
   "source": [
    "def plotLearningCurve(history,epochs):\n",
    "    epochRange = range(1,epochs+1)\n",
    "    plt.plot(epochRange,history.history['accuracy'])\n",
    "    plt.plot(epochRange,history.history['val_accuracy'])\n",
    "    plt.title('Model Accuracy')\n",
    "    plt.xlabel('Epoch')\n",
    "    plt.ylabel('Accuracy')\n",
    "    plt.legend(['Train','Validation'],loc='upper left')\n",
    "    plt.show()\n",
    "\n",
    "    plt.plot(epochRange,history.history['loss'])\n",
    "    plt.plot(epochRange,history.history['val_loss'])\n",
    "    plt.title('Model Loss')\n",
    "    plt.xlabel('Epoch')\n",
    "    plt.ylabel('Loss')\n",
    "    plt.legend(['Train','Validation'],loc='upper left')\n",
    "    plt.show()"
   ]
  },
  {
   "cell_type": "code",
   "execution_count": 22,
   "metadata": {
    "execution": {
     "iopub.execute_input": "2022-07-21T16:03:29.952684Z",
     "iopub.status.busy": "2022-07-21T16:03:29.952043Z",
     "iopub.status.idle": "2022-07-21T16:03:30.385113Z",
     "shell.execute_reply": "2022-07-21T16:03:30.385564Z",
     "shell.execute_reply.started": "2022-07-21T16:02:04.034862Z"
    },
    "id": "S61145LqHQd-",
    "outputId": "b3249462-5f20-492c-f7d2-a0c080e5904e",
    "papermill": {
     "duration": 0.495292,
     "end_time": "2022-07-21T16:03:30.385687",
     "exception": false,
     "start_time": "2022-07-21T16:03:29.890395",
     "status": "completed"
    },
    "tags": []
   },
   "outputs": [
    {
     "data": {
      "image/png": "[encoded data removed]",
      "text/plain": [
       "<Figure size 432x288 with 1 Axes>"
      ]
     },
     "metadata": {
      "needs_background": "light"
     },
     "output_type": "display_data"
    },
    {
     "data": {
      "image/png": "[encoded data removed]",
      "text/plain": [
       "<Figure size 432x288 with 1 Axes>"
      ]
     },
     "metadata": {
      "needs_background": "light"
     },
     "output_type": "display_data"
    }
   ],
   "source": [
    "plotLearningCurve(history,20)"
   ]
  }
 ],
 "metadata": {
  "kernelspec": {
   "display_name": "Python 3",
   "language": "python",
   "name": "python3"
  },
  "language_info": {
   "codemirror_mode": {
    "name": "ipython",
    "version": 3
   },
   "file_extension": ".py",
   "mimetype": "text/x-python",
   "name": "python",
   "nbconvert_exporter": "python",
   "pygments_lexer": "ipython3",
   "version": "3.7.6"
  },
  "papermill": {
   "duration": 29.403175,
   "end_time": "2022-07-21T16:03:30.551100",
   "environment_variables": {},
   "exception": null,
   "input_path": "__notebook__.ipynb",
   "output_path": "__notebook__.ipynb",
   "parameters": {},
   "start_time": "2022-07-21T16:03:01.147925",
   "version": "2.1.0"
  }
 },
 "nbformat": 4,
 "nbformat_minor": 4
}
