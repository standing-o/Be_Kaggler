{
 "cells": [
  {
   "cell_type": "markdown",
   "metadata": {},
   "source": [
    "# House Prices - Advanced Regression Techniques\n",
    "> Original code : [Advanced Regression Techniques(Regularization) by ALFRED](https://www.kaggle.com/code/alfredmaboa/advanced-regression-techniques-regularization#Start-Model-Building)"
   ]
  },
  {
   "cell_type": "markdown",
   "metadata": {},
   "source": [
    "## Data field\n",
    "#### **SalePrice: target($)**  \n",
    "\n",
    "**MSSubClass** : The building class | **MSZoning** : The general zoning classification  \n",
    "**LotFrontage** : Linear feet of street connected to property | **otArea** : Lot size in square feet | **LotShape** : General shape of property  \n",
    "**Street** : Type of road access | **Alley** : Type of alley access  \n",
    "**LandContour** : Flatness of the property | **Utilities** : Type of utilities available  \n",
    "**LotConfig** : Lot configuration | **LandSlope** : Slope of property | **Neighborhood** : Physical locations within Ames city limits  \n",
    "**Condition1** : Proximity to main road or railroad | **Condition2** : Proximity to main road or railroad (if a second is present)  \n",
    "**BldgType** : Type of dwelling | **HouseStyle** : Style of dwelling  \n",
    "**verallQua** : Overall material and finish quality | **OverallCond** : Overall condition rating  \n",
    "**YearBuilt** : Original construction date | **YearRemodAdd** : Remodel date  \n",
    "**RoofStyle** : Type of roof | **RoofMatl** : Roof material  \n",
    "**Exterior1st** : Exterior covering on house | **Exterior2nd** : Exterior covering on house (if more than one material)  \n",
    "**MasVnrType** : Masonry veneer type | **MasVnrArea** : Masonry veneer area in square feet  \n",
    "**ExterQual** : Exterior material quality | **ExterCond** : Present condition of the material on the exterior  \n",
    "**Foundation** : Type of foundation | **BsmtQual** : Height of the basement | **BsmtCond** : General condition of the basement  \n",
    "**BsmtExposure** : Walkout or garden level basement walls | **BsmtFinType1** : Quality of basement finished area | **BsmtFinSF1** : Type 1 finished square feet  \n",
    "**BsmtFinType2** : Quality of second finished area (if present) | **BsmtFinSF2** : Type 2 finished square feet | **BsmtUnfSF** : Unfinished square feet of basement area  \n",
    "**TotalBsmtSF** : Total square feet of basement area | **Heating** : Type of heating | **HeatingQC** : Heating quality and condition  \n",
    "**CentralAir** : Central air conditioning | **Electrical** : Electrical system  \n",
    "**1stFlrSF** : First Floor square feet | **2ndFlrSF** : Second floor square feet  \n",
    "**LowQualFinSF** : Low quality finished square feet (all floors) | **GrLivArea** : Above grade (ground) living area square feet  \n",
    "**BsmtFullBath** : Basement full bathrooms | **BsmtHalfBath** : Basement half bathrooms  \n",
    "**FullBath** : Full bathrooms above grade | **HalfBath** : Half baths above grade  \n",
    "**Bedroom** : Number of bedrooms above basement level | **Kitchen** : Number of kitchens | **KitchenQual** : Kitchen quality  \n",
    "**TotRmsAbvGrd** : Total rooms above grade (does not include bathrooms) | **Functional** : Home functionality rating | **Fireplaces** : Number of fireplaces  \n",
    "**FireplaceQu** : Fireplace quality | **GarageType** : Garage location | **GarageYrBlt** : Year garage was built  \n",
    "**GarageFinish** : Interior finish of the garage | **GarageCars** : Size of garage in car capacity | **GarageArea** : Size of garage in square feet  \n",
    "**GarageQual** : Garage quality | **GarageCond** : Garage condition | **PavedDrive** : Paved driveway  \n",
    "**WoodDeckSF** : Wood deck area in square feet | **OpenPorchSF** : Open porch area in square feet | **nclosedPorch** : Enclosed porch area in square feet  \n",
    "**3SsnPorch** : Three season porch area in square feet | **ScreenPorch** : Screen porch area in square feet | **PoolArea** : Pool area in square feet  \n",
    "**PoolQC** : Pool quality | **Fence** : Fence quality | **MiscFeature** : Miscellaneous feature not covered in other categories  \n",
    "**MiscVal** : Value of miscellaneous feature | **MoSold** : Month Sold | **YrSold** : Year Sold  \n",
    "**SaleType** : Type of sale | **SaleCondition** : Condition of sale"
   ]
  },
  {
   "cell_type": "markdown",
   "metadata": {},
   "source": [
    "## 1. Import Libraries"
   ]
  },
  {
   "cell_type": "code",
   "execution_count": 1,
   "metadata": {
    "execution": {
     "iopub.execute_input": "2022-06-08T02:20:08.949180Z",
     "iopub.status.busy": "2022-06-08T02:20:08.948497Z",
     "iopub.status.idle": "2022-06-08T02:20:10.225924Z",
     "shell.execute_reply": "2022-06-08T02:20:10.224696Z",
     "shell.execute_reply.started": "2022-06-08T02:20:08.949062Z"
    }
   },
   "outputs": [],
   "source": [
    "# linear algebra, data handling, visualization\n",
    "import numpy as np\n",
    "import pandas as pd\n",
    "import matplotlib.pyplot as plt\n",
    "import seaborn as sns\n",
    "\n",
    "# preprocessing\n",
    "from datetime import datetime\n",
    "from scipy import stats\n",
    "from scipy.stats import norm, skew\n",
    "from scipy.special import boxcox1p\n",
    "from scipy.stats import boxcox_normmax\n",
    "\n",
    "# modeling\n",
    "from sklearn.preprocessing import RobustScaler\n",
    "from sklearn.model_selection import KFold, cross_val_score\n",
    "from sklearn.metrics import mean_squared_error\n",
    "from sklearn.linear_model import ElasticNetCV, LassoCV, RidgeCV\n",
    "from sklearn.pipeline import make_pipeline\n",
    "\n",
    "import os\n",
    "for dirname, _, filenames in os.walk('/kaggle/input'):\n",
    "    for filename in filenames:\n",
    "        print(os.path.join(dirname, filename))\n",
    "        \n",
    "import warnings\n",
    "warnings.filterwarnings('ignore')"
   ]
  },
  {
   "cell_type": "markdown",
   "metadata": {},
   "source": [
    "## 2. Import Dataset"
   ]
  },
  {
   "cell_type": "code",
   "execution_count": 2,
   "metadata": {
    "execution": {
     "iopub.execute_input": "2022-06-08T02:20:24.451725Z",
     "iopub.status.busy": "2022-06-08T02:20:24.451282Z",
     "iopub.status.idle": "2022-06-08T02:20:24.531352Z",
     "shell.execute_reply": "2022-06-08T02:20:24.530207Z",
     "shell.execute_reply.started": "2022-06-08T02:20:24.451691Z"
    }
   },
   "outputs": [],
   "source": [
    "train = pd.read_csv(\"../input/house-prices-advanced-regression-techniques/train.csv\")\n",
    "test = pd.read_csv(\"../input/house-prices-advanced-regression-techniques/test.csv\")\n",
    "\n",
    "print(\"Shape of train :\", train.shape)\n",
    "print(\"Shape of test :\", test.shape)"
   ]
  },
  {
   "cell_type": "code",
   "execution_count": 3,
   "metadata": {
    "execution": {
     "iopub.execute_input": "2022-06-08T02:21:12.475555Z",
     "iopub.status.busy": "2022-06-08T02:21:12.475161Z",
     "iopub.status.idle": "2022-06-08T02:21:12.513868Z",
     "shell.execute_reply": "2022-06-08T02:21:12.513119Z",
     "shell.execute_reply.started": "2022-06-08T02:21:12.475523Z"
    }
   },
   "outputs": [],
   "source": [
    "train.head()"
   ]
  },
  {
   "cell_type": "code",
   "execution_count": 4,
   "metadata": {
    "execution": {
     "iopub.execute_input": "2022-06-08T02:21:12.746668Z",
     "iopub.status.busy": "2022-06-08T02:21:12.745625Z",
     "iopub.status.idle": "2022-06-08T02:21:12.777422Z",
     "shell.execute_reply": "2022-06-08T02:21:12.776559Z",
     "shell.execute_reply.started": "2022-06-08T02:21:12.746620Z"
    }
   },
   "outputs": [],
   "source": [
    "test.head()"
   ]
  },
  {
   "cell_type": "markdown",
   "metadata": {},
   "source": [
    "## 3. Data preprocessing"
   ]
  },
  {
   "cell_type": "code",
   "execution_count": 5,
   "metadata": {
    "execution": {
     "iopub.execute_input": "2022-06-08T02:22:05.268143Z",
     "iopub.status.busy": "2022-06-08T02:22:05.267726Z",
     "iopub.status.idle": "2022-06-08T02:22:05.282399Z",
     "shell.execute_reply": "2022-06-08T02:22:05.281271Z",
     "shell.execute_reply.started": "2022-06-08T02:22:05.268111Z"
    }
   },
   "outputs": [],
   "source": [
    "train_id = train['Id']\n",
    "test_id = test['Id']\n",
    "\n",
    "# drop the 'ID' column -> no need for training\n",
    "train.drop(['Id'], axis = 1, inplace = True)\n",
    "test.drop(['Id'], axis = 1, inplace = True)"
   ]
  },
  {
   "cell_type": "code",
   "execution_count": 6,
   "metadata": {
    "execution": {
     "iopub.execute_input": "2022-06-08T02:22:10.806864Z",
     "iopub.status.busy": "2022-06-08T02:22:10.806140Z",
     "iopub.status.idle": "2022-06-08T02:22:10.839144Z",
     "shell.execute_reply": "2022-06-08T02:22:10.838201Z",
     "shell.execute_reply.started": "2022-06-08T02:22:10.806812Z"
    }
   },
   "outputs": [],
   "source": [
    "train.head()"
   ]
  },
  {
   "cell_type": "markdown",
   "metadata": {},
   "source": [
    "- Distribution of the target to see if it fits a normal distribution,due to the parametric nature"
   ]
  },
  {
   "cell_type": "code",
   "execution_count": 20,
   "metadata": {
    "execution": {
     "iopub.execute_input": "2022-06-08T02:28:04.535869Z",
     "iopub.status.busy": "2022-06-08T02:28:04.535442Z",
     "iopub.status.idle": "2022-06-08T02:28:04.903235Z",
     "shell.execute_reply": "2022-06-08T02:28:04.902203Z",
     "shell.execute_reply.started": "2022-06-08T02:28:04.535819Z"
    }
   },
   "outputs": [],
   "source": [
    "# Before normalization\n",
    "\n",
    "sns.set_style(\"white\")\n",
    "sns.set_color_codes(palette = 'deep')\n",
    "f, ax = plt.subplots(figsize = (8, 6))\n",
    "\n",
    "sns.distplot(train['SalePrice'], color = 'b')\n",
    "ax.xaxis.grid(False)\n",
    "ax.set(ylabel=\"Frequency\")\n",
    "ax.set(xlabel=\"SalePrice\")\n",
    "ax.set(title=\"SalePrice distribution\")\n",
    "\n",
    "sns.despine(trim=True, left=True)  # delete border\n",
    "plt.show()"
   ]
  },
  {
   "cell_type": "markdown",
   "metadata": {},
   "source": [
    "- skewed to the right\n",
    "  - apply log(1+x) to all elements of the column which fixes the skeweness of the distribution."
   ]
  },
  {
   "cell_type": "code",
   "execution_count": 21,
   "metadata": {
    "execution": {
     "iopub.execute_input": "2022-06-08T02:29:37.098424Z",
     "iopub.status.busy": "2022-06-08T02:29:37.097693Z",
     "iopub.status.idle": "2022-06-08T02:29:37.495722Z",
     "shell.execute_reply": "2022-06-08T02:29:37.494479Z",
     "shell.execute_reply.started": "2022-06-08T02:29:37.098388Z"
    }
   },
   "outputs": [],
   "source": [
    "train[\"SalePrice\"] = np.log1p(train[\"SalePrice\"])\n",
    "\n",
    "# new distribution\n",
    "f, ax = plt.subplots(figsize=(8, 7))\n",
    "sns.distplot(train['SalePrice'] , fit=norm, color=\"b\");  # plotting with normal distribution (black line)"
   ]
  },
  {
   "cell_type": "markdown",
   "metadata": {},
   "source": [
    "- Check fitted parameters of normal distribution"
   ]
  },
  {
   "cell_type": "code",
   "execution_count": 22,
   "metadata": {
    "execution": {
     "iopub.execute_input": "2022-06-08T02:30:54.677156Z",
     "iopub.status.busy": "2022-06-08T02:30:54.676600Z",
     "iopub.status.idle": "2022-06-08T02:30:54.684453Z",
     "shell.execute_reply": "2022-06-08T02:30:54.683375Z",
     "shell.execute_reply.started": "2022-06-08T02:30:54.677120Z"
    }
   },
   "outputs": [],
   "source": [
    "(mu, sigma) = norm.fit(train['SalePrice'])\n",
    "print( '\\n mu = {:.2f} and sigma = {:.2f}\\n'.format(mu, sigma))"
   ]
  },
  {
   "cell_type": "code",
   "execution_count": 23,
   "metadata": {
    "execution": {
     "iopub.execute_input": "2022-06-08T02:31:43.931943Z",
     "iopub.status.busy": "2022-06-08T02:31:43.930779Z",
     "iopub.status.idle": "2022-06-08T02:31:43.941900Z",
     "shell.execute_reply": "2022-06-08T02:31:43.940902Z",
     "shell.execute_reply.started": "2022-06-08T02:31:43.931896Z"
    }
   },
   "outputs": [],
   "source": [
    "# target\n",
    "y = train.SalePrice.reset_index(drop=True)\n",
    "y"
   ]
  },
  {
   "cell_type": "code",
   "execution_count": 25,
   "metadata": {
    "execution": {
     "iopub.execute_input": "2022-06-08T02:32:36.208519Z",
     "iopub.status.busy": "2022-06-08T02:32:36.208127Z",
     "iopub.status.idle": "2022-06-08T02:32:36.239687Z",
     "shell.execute_reply": "2022-06-08T02:32:36.238643Z",
     "shell.execute_reply.started": "2022-06-08T02:32:36.208477Z"
    }
   },
   "outputs": [],
   "source": [
    "train_features = train.drop(['SalePrice'], axis=1)\n",
    "test_features = test\n",
    "\n",
    "# concatinate the train and the test set as features for tranformation to avoid mismatch\n",
    "features = pd.concat([train_features, test_features]).reset_index(drop=True)"
   ]
  },
  {
   "cell_type": "code",
   "execution_count": 26,
   "metadata": {
    "execution": {
     "iopub.execute_input": "2022-06-08T02:32:40.652363Z",
     "iopub.status.busy": "2022-06-08T02:32:40.651948Z",
     "iopub.status.idle": "2022-06-08T02:32:40.657231Z",
     "shell.execute_reply": "2022-06-08T02:32:40.656288Z",
     "shell.execute_reply.started": "2022-06-08T02:32:40.652330Z"
    }
   },
   "outputs": [],
   "source": [
    "print('Features size:', features.shape)"
   ]
  },
  {
   "cell_type": "markdown",
   "metadata": {},
   "source": [
    "## 4. Feature Engineering"
   ]
  },
  {
   "cell_type": "markdown",
   "metadata": {},
   "source": [
    "### 4-(1). Missing values"
   ]
  },
  {
   "cell_type": "code",
   "execution_count": 27,
   "metadata": {
    "execution": {
     "iopub.execute_input": "2022-06-08T02:37:54.082736Z",
     "iopub.status.busy": "2022-06-08T02:37:54.082341Z",
     "iopub.status.idle": "2022-06-08T02:37:54.137506Z",
     "shell.execute_reply": "2022-06-08T02:37:54.136362Z",
     "shell.execute_reply.started": "2022-06-08T02:37:54.082705Z"
    }
   },
   "outputs": [],
   "source": [
    "# determining the threshold of missing values\n",
    "def percent_missing(df):\n",
    "    data = pd.DataFrame(df)\n",
    "    df_cols = list(pd.DataFrame(data))\n",
    "    dict_x = {}\n",
    "    for i in range(0, len(df_cols)):\n",
    "        dict_x.update({df_cols[i]: round(data[df_cols[i]].isnull().mean()*100,2)})\n",
    "    \n",
    "    return dict_x\n",
    "\n",
    "missing = percent_missing(features)\n",
    "df_miss = sorted(missing.items(), key=lambda x: x[1], reverse=True)\n",
    "print('Percent of missing data')\n",
    "df_miss[0:10]"
   ]
  },
  {
   "cell_type": "code",
   "execution_count": 30,
   "metadata": {
    "execution": {
     "iopub.execute_input": "2022-06-08T02:39:30.157707Z",
     "iopub.status.busy": "2022-06-08T02:39:30.157294Z",
     "iopub.status.idle": "2022-06-08T02:39:30.550317Z",
     "shell.execute_reply": "2022-06-08T02:39:30.549240Z",
     "shell.execute_reply.started": "2022-06-08T02:39:30.157674Z"
    }
   },
   "outputs": [],
   "source": [
    "f, ax = plt.subplots(figsize=(8, 7))\n",
    "missing = round(train.isnull().mean()*100,2)\n",
    "missing = missing[missing > 0]\n",
    "missing.sort_values(inplace=True)\n",
    "missing.plot.bar(color=\"b\")\n",
    "\n",
    "ax.xaxis.grid(False)\n",
    "ax.set(ylabel=\"Percent of missing values\")\n",
    "ax.set(xlabel=\"Features\")\n",
    "ax.set(title=\"Percent missing data by feature\")\n",
    "sns.despine(trim=True, left=True)"
   ]
  },
  {
   "cell_type": "code",
   "execution_count": 32,
   "metadata": {
    "execution": {
     "iopub.execute_input": "2022-06-08T02:42:54.787925Z",
     "iopub.status.busy": "2022-06-08T02:42:54.787502Z",
     "iopub.status.idle": "2022-06-08T02:42:54.795518Z",
     "shell.execute_reply": "2022-06-08T02:42:54.794748Z",
     "shell.execute_reply.started": "2022-06-08T02:42:54.787892Z"
    }
   },
   "outputs": [],
   "source": [
    "features['Exterior1st'].mode()[0]"
   ]
  },
  {
   "cell_type": "code",
   "execution_count": 33,
   "metadata": {
    "execution": {
     "iopub.execute_input": "2022-06-08T02:45:36.244317Z",
     "iopub.status.busy": "2022-06-08T02:45:36.243658Z",
     "iopub.status.idle": "2022-06-08T02:45:36.314414Z",
     "shell.execute_reply": "2022-06-08T02:45:36.313309Z",
     "shell.execute_reply.started": "2022-06-08T02:45:36.244279Z"
    }
   },
   "outputs": [],
   "source": [
    "# Some of the non-numeric predictors are stored as numbers --> we convert them into strings \n",
    "features['MSSubClass'] = features['MSSubClass'].apply(str)\n",
    "features['YrSold'] = features['YrSold'].astype(str)\n",
    "features['MoSold'] = features['MoSold'].astype(str)\n",
    "\n",
    "# data description says NA means typical\n",
    "features['Functional'] = features['Functional'].fillna('Typ')\n",
    "\n",
    "# one NA value. We set 'SBrkr' (which is the most frequent)\n",
    "features['Electrical'] = features['Electrical'].fillna(\"SBrkr\")\n",
    "# one NA value, We set 'TA' (which is the most frequent)\n",
    "features['KitchenQual'] = features['KitchenQual'].fillna(\"TA\")\n",
    "\n",
    "# one NA value. We substitute in the most common string\n",
    "features['Exterior1st'] = features['Exterior1st'].fillna(features['Exterior1st'].mode()[0])\n",
    "features['Exterior2nd'] = features['Exterior2nd'].fillna(features['Exterior2nd'].mode()[0])\n",
    "\n",
    "# Fill with most frequent one\n",
    "features['SaleType'] = features['SaleType'].fillna(features['SaleType'].mode()[0])\n",
    "\n",
    "# data description says NA means \"No Pool\" (majority of houses have no Pool at all in general.)\n",
    "features[\"PoolQC\"] = features[\"PoolQC\"].fillna(\"None\")\n",
    "\n",
    "# Replacing missing data with 0 (Since No garage = no cars in such garage.)\n",
    "for col in ('GarageYrBlt', 'GarageArea', 'GarageCars'):\n",
    "    features[col] = features[col].fillna(0)\n",
    "    \n",
    "# Replacing missing data with None\n",
    "for col in ['GarageType', 'GarageFinish', 'GarageQual', 'GarageCond']:\n",
    "    features[col] = features[col].fillna('None')\n",
    "    \n",
    "# For all these categorical basement-related features, NaN means that there is no basement\n",
    "for col in ('BsmtQual', 'BsmtCond', 'BsmtExposure', 'BsmtFinType1', 'BsmtFinType2'):\n",
    "    features[col] = features[col].fillna('None')\n",
    "\n",
    "# Fill with most frequent 'RL'\n",
    "features['MSZoning'] = features.groupby('MSSubClass')['MSZoning'].transform(lambda x: x.fillna(x.mode()[0]))\n",
    "\n",
    "# group by neighborhood and fill in missing value by the median LotFrontage of all the neighborhood\n",
    "features['LotFrontage'] = features.groupby('Neighborhood')['LotFrontage'].transform(lambda x: x.fillna(x.median()))\n",
    "\n",
    "print('Features size:', features.shape)  # no change -> dropping X"
   ]
  },
  {
   "cell_type": "code",
   "execution_count": 37,
   "metadata": {
    "execution": {
     "iopub.execute_input": "2022-06-08T02:46:45.836210Z",
     "iopub.status.busy": "2022-06-08T02:46:45.835788Z",
     "iopub.status.idle": "2022-06-08T02:46:45.857175Z",
     "shell.execute_reply": "2022-06-08T02:46:45.856357Z",
     "shell.execute_reply.started": "2022-06-08T02:46:45.836179Z"
    }
   },
   "outputs": [],
   "source": [
    "features.isnull().sum().sum()"
   ]
  },
  {
   "cell_type": "code",
   "execution_count": 38,
   "metadata": {
    "execution": {
     "iopub.execute_input": "2022-06-08T02:47:15.095147Z",
     "iopub.status.busy": "2022-06-08T02:47:15.094686Z",
     "iopub.status.idle": "2022-06-08T02:47:15.166650Z",
     "shell.execute_reply": "2022-06-08T02:47:15.165733Z",
     "shell.execute_reply.started": "2022-06-08T02:47:15.095112Z"
    }
   },
   "outputs": [],
   "source": [
    "# Filling the rest of the categorical features (String)\n",
    "objects = []\n",
    "for i in features.columns:\n",
    "    if features[i].dtype == object:\n",
    "        objects.append(i)\n",
    "features.update(features[objects].fillna('None'))"
   ]
  },
  {
   "cell_type": "code",
   "execution_count": 39,
   "metadata": {
    "execution": {
     "iopub.execute_input": "2022-06-08T02:47:26.903082Z",
     "iopub.status.busy": "2022-06-08T02:47:26.902671Z",
     "iopub.status.idle": "2022-06-08T02:47:26.935154Z",
     "shell.execute_reply": "2022-06-08T02:47:26.934299Z",
     "shell.execute_reply.started": "2022-06-08T02:47:26.903050Z"
    }
   },
   "outputs": [],
   "source": [
    "# Filling in the rest of the NA's (numeric)\n",
    "numeric_dtypes = ['int16', 'int32', 'int64', 'float16', 'float32', 'float64']\n",
    "numerics = []\n",
    "for i in features.columns:\n",
    "    if features[i].dtype in numeric_dtypes:\n",
    "        numerics.append(i)\n",
    "features.update(features[numerics].fillna(0))"
   ]
  },
  {
   "cell_type": "code",
   "execution_count": 40,
   "metadata": {
    "execution": {
     "iopub.execute_input": "2022-06-08T02:47:41.895857Z",
     "iopub.status.busy": "2022-06-08T02:47:41.895452Z",
     "iopub.status.idle": "2022-06-08T02:47:41.947454Z",
     "shell.execute_reply": "2022-06-08T02:47:41.946613Z",
     "shell.execute_reply.started": "2022-06-08T02:47:41.895806Z"
    }
   },
   "outputs": [],
   "source": [
    "# Check the remaining missing values\n",
    "missing = percent_missing(features)\n",
    "df_miss = sorted(missing.items(), key=lambda x: x[1], reverse=True)\n",
    "print('Percent of missing data')\n",
    "df_miss[0:10]"
   ]
  },
  {
   "cell_type": "markdown",
   "metadata": {},
   "source": [
    "- No more missing values"
   ]
  },
  {
   "cell_type": "markdown",
   "metadata": {},
   "source": [
    "### 4-(2). More feature engineering"
   ]
  },
  {
   "cell_type": "code",
   "execution_count": 41,
   "metadata": {
    "execution": {
     "iopub.execute_input": "2022-06-08T02:49:22.174356Z",
     "iopub.status.busy": "2022-06-08T02:49:22.173962Z",
     "iopub.status.idle": "2022-06-08T02:49:22.184711Z",
     "shell.execute_reply": "2022-06-08T02:49:22.183722Z",
     "shell.execute_reply.started": "2022-06-08T02:49:22.174325Z"
    }
   },
   "outputs": [],
   "source": [
    "# We need to find all numeric features in the data\n",
    "numeric_dtypes = ['int16', 'int32', 'int64', 'float16', 'float32', 'float64']\n",
    "numerics2 = []\n",
    "for i in features.columns:\n",
    "    if features[i].dtype in numeric_dtypes:\n",
    "        numerics2.append(i)"
   ]
  },
  {
   "cell_type": "code",
   "execution_count": 42,
   "metadata": {
    "execution": {
     "iopub.execute_input": "2022-06-08T02:49:46.765663Z",
     "iopub.status.busy": "2022-06-08T02:49:46.765276Z",
     "iopub.status.idle": "2022-06-08T02:49:48.634434Z",
     "shell.execute_reply": "2022-06-08T02:49:48.633542Z",
     "shell.execute_reply.started": "2022-06-08T02:49:46.765630Z"
    }
   },
   "outputs": [],
   "source": [
    "# Box plots for all our numeric features\n",
    "f, ax = plt.subplots(figsize=(16, 14))\n",
    "ax.set_xscale(\"log\")\n",
    "\n",
    "ax = sns.boxplot(data=features[numerics2] , orient=\"h\", palette=\"Set1\")\n",
    "\n",
    "ax.xaxis.grid(False)\n",
    "ax.set(ylabel=\"Feature names\")\n",
    "ax.set(xlabel=\"Numeric values\")\n",
    "ax.set(title=\"Numeric Distribution of Features\")\n",
    "sns.despine(trim=True, left=True)"
   ]
  },
  {
   "cell_type": "markdown",
   "metadata": {},
   "source": [
    "- some data that is not normaly distributed (Skewed)"
   ]
  },
  {
   "cell_type": "code",
   "execution_count": 43,
   "metadata": {
    "execution": {
     "iopub.execute_input": "2022-06-08T02:50:19.158797Z",
     "iopub.status.busy": "2022-06-08T02:50:19.158344Z",
     "iopub.status.idle": "2022-06-08T02:50:19.187204Z",
     "shell.execute_reply": "2022-06-08T02:50:19.186339Z",
     "shell.execute_reply.started": "2022-06-08T02:50:19.158766Z"
    }
   },
   "outputs": [],
   "source": [
    "# Calculate the skewness\n",
    "skew_features = features[numerics2].apply(lambda x: skew(x)).sort_values(ascending=False)\n",
    "\n",
    "high_skew = skew_features[skew_features > 0.5]\n",
    "skew_index = high_skew.index\n",
    "print(\"There are {} numerical features with Skew > 0.5 :\".format(high_skew.shape[0]))\n",
    "skewness = pd.DataFrame({'Skew' :high_skew})\n",
    "skew_features.head(10)"
   ]
  },
  {
   "attachments": {},
   "cell_type": "markdown",
   "metadata": {},
   "source": [
    "#### Box-cox transformation\n",
    "- simple transformation that leads to normality."
   ]
  },
  {
   "cell_type": "code",
   "execution_count": 45,
   "metadata": {
    "execution": {
     "iopub.execute_input": "2022-06-08T02:54:26.680717Z",
     "iopub.status.busy": "2022-06-08T02:54:26.680298Z",
     "iopub.status.idle": "2022-06-08T02:54:26.918779Z",
     "shell.execute_reply": "2022-06-08T02:54:26.917811Z",
     "shell.execute_reply.started": "2022-06-08T02:54:26.680685Z"
    }
   },
   "outputs": [],
   "source": [
    "for i in skew_index:\n",
    "    features[i] = boxcox1p(features[i], boxcox_normmax(features[i] + 1))"
   ]
  },
  {
   "cell_type": "code",
   "execution_count": 46,
   "metadata": {
    "execution": {
     "iopub.execute_input": "2022-06-08T02:54:28.354010Z",
     "iopub.status.busy": "2022-06-08T02:54:28.353445Z",
     "iopub.status.idle": "2022-06-08T02:54:29.748569Z",
     "shell.execute_reply": "2022-06-08T02:54:29.747252Z",
     "shell.execute_reply.started": "2022-06-08T02:54:28.353968Z"
    }
   },
   "outputs": [],
   "source": [
    "f, ax = plt.subplots(figsize=(16, 14))\n",
    "ax.set_xscale(\"log\")\n",
    "\n",
    "ax = sns.boxplot(data=features[skew_index] , orient=\"h\", palette=\"Set1\")\n",
    "\n",
    "ax.xaxis.grid(False)\n",
    "ax.set(ylabel=\"Feature names\")\n",
    "ax.set(xlabel=\"Numeric values\")\n",
    "ax.set(title=\"Numeric Distribution of Features\")\n",
    "sns.despine(trim=True, left=True)"
   ]
  },
  {
   "cell_type": "markdown",
   "metadata": {},
   "source": [
    "- `MasVnrArea`, `OpenPorchSF`, `WoodDeckSF`, `BsmtFinSF1`, `2ndFlrSF` could not be normalized -> dropping\n",
    "  - Since `area` related features are very important to determine house prices\n",
    "  - Add `total area of floors`, `bathrooms` and `porch area` before dropping  \n",
    "\n",
    "\n",
    "- `MasVnrArea` : Masonry veneer area in square feet | `penPorchSF` : Open porch area in square feet\n",
    "- `WoodDeckSF` : Wood deck area in square feet | `BsmtFinSF1` : Type 1 finished square feet\n",
    "\n",
    "  "
   ]
  },
  {
   "cell_type": "code",
   "execution_count": 47,
   "metadata": {
    "execution": {
     "iopub.execute_input": "2022-06-08T03:05:40.718097Z",
     "iopub.status.busy": "2022-06-08T03:05:40.717624Z",
     "iopub.status.idle": "2022-06-08T03:05:40.731501Z",
     "shell.execute_reply": "2022-06-08T03:05:40.730483Z",
     "shell.execute_reply.started": "2022-06-08T03:05:40.718061Z"
    }
   },
   "outputs": [],
   "source": [
    "# Calculating totals before droping less significant columns\n",
    "\n",
    "#  Adding total sqfootage feature \n",
    "features['TotalSF']=features['TotalBsmtSF'] + features['1stFlrSF'] + features['2ndFlrSF']\n",
    "\n",
    "#  Adding total bathrooms feature\n",
    "features['Total_Bathrooms'] = (features['FullBath'] + (0.5 * features['HalfBath']) +\n",
    "                               features['BsmtFullBath'] + (0.5 * features['BsmtHalfBath']))\n",
    "#  Adding total porch sqfootage feature\n",
    "features['Total_porch_sf'] = (features['OpenPorchSF'] + features['3SsnPorch'] +\n",
    "                              features['EnclosedPorch'] + features['ScreenPorch'] +\n",
    "                              features['WoodDeckSF'])"
   ]
  },
  {
   "cell_type": "code",
   "execution_count": 48,
   "metadata": {
    "execution": {
     "iopub.execute_input": "2022-06-08T03:06:08.523601Z",
     "iopub.status.busy": "2022-06-08T03:06:08.523213Z",
     "iopub.status.idle": "2022-06-08T03:06:08.532828Z",
     "shell.execute_reply": "2022-06-08T03:06:08.531740Z",
     "shell.execute_reply.started": "2022-06-08T03:06:08.523569Z"
    }
   },
   "outputs": [],
   "source": [
    "# dropping\n",
    "features = features.drop(['MasVnrArea', 'OpenPorchSF', 'WoodDeckSF', 'BsmtFinSF1','2ndFlrSF'], axis=1)"
   ]
  },
  {
   "cell_type": "code",
   "execution_count": 49,
   "metadata": {
    "execution": {
     "iopub.execute_input": "2022-06-08T03:06:54.728738Z",
     "iopub.status.busy": "2022-06-08T03:06:54.728354Z",
     "iopub.status.idle": "2022-06-08T03:06:54.751668Z",
     "shell.execute_reply": "2022-06-08T03:06:54.750846Z",
     "shell.execute_reply.started": "2022-06-08T03:06:54.728706Z"
    }
   },
   "outputs": [],
   "source": [
    "# Adding new simplified features (1 = present, 0 = not present)\n",
    "features['haspool'] = features['PoolArea'].apply(lambda x: 1 if x > 0 else 0)\n",
    "features['hasgarage'] = features['GarageArea'].apply(lambda x: 1 if x > 0 else 0)\n",
    "features['hasbsmt'] = features['TotalBsmtSF'].apply(lambda x: 1 if x > 0 else 0)\n",
    "features['hasfireplace'] = features['Fireplaces'].apply(lambda x: 1 if x > 0 else 0)\n",
    "\n",
    "print('Features size:', features.shape)"
   ]
  },
  {
   "cell_type": "code",
   "execution_count": 68,
   "metadata": {
    "execution": {
     "iopub.execute_input": "2022-06-08T03:11:29.144641Z",
     "iopub.status.busy": "2022-06-08T03:11:29.144194Z",
     "iopub.status.idle": "2022-06-08T03:11:29.208843Z",
     "shell.execute_reply": "2022-06-08T03:11:29.207744Z",
     "shell.execute_reply.started": "2022-06-08T03:11:29.144607Z"
    }
   },
   "outputs": [],
   "source": [
    "# One-hot Encoding the finalized features\n",
    "final_features = pd.get_dummies(features).reset_index(drop=True)\n",
    "\n",
    "print('Features size after one-hot encoding:', final_features.shape)"
   ]
  },
  {
   "cell_type": "code",
   "execution_count": 69,
   "metadata": {
    "execution": {
     "iopub.execute_input": "2022-06-08T03:11:31.224796Z",
     "iopub.status.busy": "2022-06-08T03:11:31.224402Z",
     "iopub.status.idle": "2022-06-08T03:11:31.232106Z",
     "shell.execute_reply": "2022-06-08T03:11:31.231253Z",
     "shell.execute_reply.started": "2022-06-08T03:11:31.224764Z"
    }
   },
   "outputs": [],
   "source": [
    "features['Street'].unique()"
   ]
  },
  {
   "cell_type": "code",
   "execution_count": 70,
   "metadata": {
    "execution": {
     "iopub.execute_input": "2022-06-08T03:11:31.397405Z",
     "iopub.status.busy": "2022-06-08T03:11:31.396814Z",
     "iopub.status.idle": "2022-06-08T03:11:31.408228Z",
     "shell.execute_reply": "2022-06-08T03:11:31.407137Z",
     "shell.execute_reply.started": "2022-06-08T03:11:31.397368Z"
    }
   },
   "outputs": [],
   "source": [
    "final_features[['Street_Pave', 'Street_Grvl']].head()"
   ]
  },
  {
   "cell_type": "code",
   "execution_count": 74,
   "metadata": {
    "execution": {
     "iopub.execute_input": "2022-06-08T03:12:51.871825Z",
     "iopub.status.busy": "2022-06-08T03:12:51.871116Z",
     "iopub.status.idle": "2022-06-08T03:12:51.878945Z",
     "shell.execute_reply": "2022-06-08T03:12:51.877675Z",
     "shell.execute_reply.started": "2022-06-08T03:12:51.871787Z"
    }
   },
   "outputs": [],
   "source": [
    "# Spliting train and test\n",
    "\n",
    "X = final_features.iloc[:len(y), :]\n",
    "X_test = final_features.iloc[len(X):, :]\n",
    "\n",
    "print('Shape of train X', X.shape)\n",
    "print('Shape of train y', y.shape)\n",
    "print('Shape of test X', X_test.shape)"
   ]
  },
  {
   "cell_type": "code",
   "execution_count": 75,
   "metadata": {
    "execution": {
     "iopub.execute_input": "2022-06-08T03:12:52.360173Z",
     "iopub.status.busy": "2022-06-08T03:12:52.359737Z",
     "iopub.status.idle": "2022-06-08T03:12:52.531564Z",
     "shell.execute_reply": "2022-06-08T03:12:52.530646Z",
     "shell.execute_reply.started": "2022-06-08T03:12:52.360140Z"
    }
   },
   "outputs": [],
   "source": [
    "# Removes colums where the threshold of zero's is (> 99.95), means has only zero values \n",
    "\n",
    "overfit = []\n",
    "for i in X.columns:\n",
    "    counts = X[i].value_counts()\n",
    "    zeros = counts.iloc[0]\n",
    "    if zeros / len(X) * 100 > 99.95:\n",
    "        overfit.append(i)\n",
    "\n",
    "overfit = list(overfit)\n",
    "overfit.append('MSZoning_C (all)')\n",
    "\n",
    "X = X.drop(overfit, axis=1).copy()\n",
    "X_test = X_test.drop(overfit, axis=1).copy()\n",
    "\n",
    "print('Shape of train X', X.shape)\n",
    "print('Shape of train y', y.shape)\n",
    "print('Shape of test X', X_test.shape)"
   ]
  },
  {
   "cell_type": "markdown",
   "metadata": {},
   "source": [
    "## 5. Modeling"
   ]
  },
  {
   "attachments": {},
   "cell_type": "markdown",
   "metadata": {},
   "source": [
    "#### Ridge regression\n",
    "- L2 penalty term.\n",
    "\n",
    "#### Lasso regression\n",
    "- L1 penalty term\n",
    "\n",
    "#### Elastic net\n",
    "- Ridge + Lasso"
   ]
  },
  {
   "cell_type": "markdown",
   "metadata": {},
   "source": [
    "- kfolds Cross Validation function where K=10"
   ]
  },
  {
   "cell_type": "code",
   "execution_count": 76,
   "metadata": {
    "execution": {
     "iopub.execute_input": "2022-06-08T03:13:33.902700Z",
     "iopub.status.busy": "2022-06-08T03:13:33.902231Z",
     "iopub.status.idle": "2022-06-08T03:13:33.909747Z",
     "shell.execute_reply": "2022-06-08T03:13:33.908901Z",
     "shell.execute_reply.started": "2022-06-08T03:13:33.902667Z"
    }
   },
   "outputs": [],
   "source": [
    "kfolds = KFold(n_splits = 10, shuffle = True, random_state = 42)\n",
    "\n",
    "# model scoring and validation function\n",
    "def cv_rmse(model, X=X):\n",
    "    rmse = np.sqrt(-cross_val_score(model, X, y,scoring=\"neg_mean_squared_error\",cv=kfolds))\n",
    "    return (rmse)\n",
    "\n",
    "# rmsle scoring function\n",
    "def rmsle(y, y_pred):\n",
    "    return np.sqrt(mean_squared_error(y, y_pred))"
   ]
  },
  {
   "cell_type": "markdown",
   "metadata": {},
   "source": [
    "- RidgeCV, LassoCV, ElasticNetCV"
   ]
  },
  {
   "cell_type": "code",
   "execution_count": 77,
   "metadata": {
    "execution": {
     "iopub.execute_input": "2022-06-08T03:14:11.205132Z",
     "iopub.status.busy": "2022-06-08T03:14:11.204248Z",
     "iopub.status.idle": "2022-06-08T03:16:33.949315Z",
     "shell.execute_reply": "2022-06-08T03:16:33.948084Z",
     "shell.execute_reply.started": "2022-06-08T03:14:11.205096Z"
    }
   },
   "outputs": [],
   "source": [
    "e_alphas = [0.0001, 0.0002, 0.0003, 0.0004, 0.0005, 0.0006, 0.0007]\n",
    "e_l1ratio = [0.8, 0.85, 0.9, 0.95, 0.99, 1]\n",
    "alphas_alt = [14.5, 14.6, 14.7, 14.8, 14.9, 15, 15.1, 15.2, 15.3, 15.4, 15.5]\n",
    "alphas2 = [5e-05, 0.0001, 0.0002, 0.0003, 0.0004, 0.0005, 0.0006, 0.0007, 0.0008]\n",
    "\n",
    "\n",
    "# Kernel Ridge Regression : made robust to outliers\n",
    "ridge = make_pipeline(RobustScaler(), RidgeCV(alphas=alphas_alt, cv=kfolds))\n",
    "\n",
    "# LASSO Regression : made robust to outliers\n",
    "lasso = make_pipeline(RobustScaler(), LassoCV(max_iter=1e7, \n",
    "                    alphas=alphas2,random_state=42, cv=kfolds))\n",
    "\n",
    "# Elastic Net Regression : made robust to outliers\n",
    "elasticnet = make_pipeline(RobustScaler(), ElasticNetCV(max_iter=1e7, \n",
    "                         alphas=e_alphas, cv=kfolds, l1_ratio=e_l1ratio))\n",
    "\n",
    "# store models, scores and prediction values \n",
    "models = {'Ridge': ridge,\n",
    "          'Lasso': lasso, \n",
    "          'ElasticNet': elasticnet}\n",
    "predictions = {}\n",
    "scores = {}\n",
    "\n",
    "for name, model in models.items():\n",
    "    \n",
    "    model.fit(X, y)\n",
    "    predictions[name] = np.expm1(model.predict(X))\n",
    "    \n",
    "    score = cv_rmse(model, X=X)\n",
    "    scores[name] = (score.mean(), score.std())"
   ]
  },
  {
   "cell_type": "markdown",
   "metadata": {},
   "source": [
    "- 10-fold stacking\n",
    "  - we first split the training data into 10 folds. Then we will do 10 iterations. \n",
    "  - In each iteration, we train every base model on 9 folds and predict on the remaining fold (holdout fold)."
   ]
  },
  {
   "cell_type": "code",
   "execution_count": 78,
   "metadata": {
    "execution": {
     "iopub.execute_input": "2022-06-08T03:16:33.952554Z",
     "iopub.status.busy": "2022-06-08T03:16:33.951797Z",
     "iopub.status.idle": "2022-06-08T03:18:36.451423Z",
     "shell.execute_reply": "2022-06-08T03:18:36.447655Z",
     "shell.execute_reply.started": "2022-06-08T03:16:33.952507Z"
    }
   },
   "outputs": [],
   "source": [
    "# evaluation\n",
    "\n",
    "print('---- Score with CV_RMSLE-----')\n",
    "\n",
    "score = cv_rmse(ridge)\n",
    "print(\"Ridge score: {:.4f} ({:.4f})\\n\".format(score.mean(), score.std()))\n",
    "\n",
    "score = cv_rmse(lasso)\n",
    "print(\"Lasso score: {:.4f} ({:.4f})\\n\".format(score.mean(), score.std()))\n",
    "\n",
    "score = cv_rmse(elasticnet)\n",
    "print(\"ElasticNet score: {:.4f} ({:.4f})\\n\".format(score.mean(), score.std()))"
   ]
  },
  {
   "cell_type": "code",
   "execution_count": 79,
   "metadata": {
    "execution": {
     "iopub.execute_input": "2022-06-08T03:18:36.453406Z",
     "iopub.status.busy": "2022-06-08T03:18:36.452965Z",
     "iopub.status.idle": "2022-06-08T03:18:47.561778Z",
     "shell.execute_reply": "2022-06-08T03:18:47.560542Z",
     "shell.execute_reply.started": "2022-06-08T03:18:36.453360Z"
    }
   },
   "outputs": [],
   "source": [
    "# Fit the train dataset\n",
    "print('----START Fit----',datetime.now())\n",
    "\n",
    "print('Elasticnet')\n",
    "elastic_model = elasticnet.fit(X, y)\n",
    "print('Lasso')\n",
    "lasso_model = lasso.fit(X, y)\n",
    "print('Ridge')\n",
    "ridge_model = ridge.fit(X, y)"
   ]
  },
  {
   "cell_type": "code",
   "execution_count": 132,
   "metadata": {
    "execution": {
     "iopub.execute_input": "2022-06-08T03:43:53.827787Z",
     "iopub.status.busy": "2022-06-08T03:43:53.827368Z",
     "iopub.status.idle": "2022-06-08T03:43:54.126758Z",
     "shell.execute_reply": "2022-06-08T03:43:54.125734Z",
     "shell.execute_reply.started": "2022-06-08T03:43:53.827754Z"
    }
   },
   "outputs": [],
   "source": [
    "f, ax = plt.subplots(figsize=(8, 7))\n",
    "sns.set_style(\"white\")\n",
    "\n",
    "model_name = 'Ridge'\n",
    "plt.scatter(predictions[model_name], np.expm1(y))\n",
    "plt.plot([0, 800000], [0, 800000], '--r')\n",
    "\n",
    "plt.xlabel(model_name +' Predictions (y_pred)', size=10)\n",
    "plt.ylabel('Real Values (y_train)', size=10)\n",
    "plt.tick_params(axis='x', labelsize=10)\n",
    "plt.tick_params(axis='y', labelsize=10)\n",
    "\n",
    "plt.title(model_name +' Predictions vs Real Values', size=13)\n",
    "plt.text(0, 700000, 'Mean RMSE: {:.6f} / Std: {:.6f}'.format(scores[model_name][0], scores[model_name][1]), fontsize=10)\n",
    "ax.xaxis.grid(False)\n",
    "sns.despine(trim=True, left=True)\n",
    "plt.show()"
   ]
  },
  {
   "cell_type": "code",
   "execution_count": 131,
   "metadata": {
    "execution": {
     "iopub.execute_input": "2022-06-08T03:43:48.113507Z",
     "iopub.status.busy": "2022-06-08T03:43:48.112879Z",
     "iopub.status.idle": "2022-06-08T03:43:48.423879Z",
     "shell.execute_reply": "2022-06-08T03:43:48.422642Z",
     "shell.execute_reply.started": "2022-06-08T03:43:48.113456Z"
    }
   },
   "outputs": [],
   "source": [
    "f, ax = plt.subplots(figsize=(8, 7))\n",
    "sns.set_style(\"white\")\n",
    "\n",
    "model_name = 'Lasso'\n",
    "plt.scatter(predictions[model_name], np.expm1(y))\n",
    "plt.plot([0, 800000], [0, 800000], '--r')\n",
    "\n",
    "plt.xlabel(model_name +' Predictions (y_pred)', size=10)\n",
    "plt.ylabel('Real Values (y_train)', size=10)\n",
    "plt.tick_params(axis='x', labelsize=10)\n",
    "plt.tick_params(axis='y', labelsize=10)\n",
    "\n",
    "plt.title(model_name +' Predictions vs Real Values', size=13)\n",
    "plt.text(0, 700000, 'Mean RMSE: {:.6f} / Std: {:.6f}'.format(scores[model_name][0], scores[model_name][1]), fontsize=10)\n",
    "ax.xaxis.grid(False)\n",
    "sns.despine(trim=True, left=True)\n",
    "plt.show()"
   ]
  },
  {
   "cell_type": "code",
   "execution_count": 130,
   "metadata": {
    "execution": {
     "iopub.execute_input": "2022-06-08T03:43:41.451968Z",
     "iopub.status.busy": "2022-06-08T03:43:41.451524Z",
     "iopub.status.idle": "2022-06-08T03:43:41.752867Z",
     "shell.execute_reply": "2022-06-08T03:43:41.751753Z",
     "shell.execute_reply.started": "2022-06-08T03:43:41.451907Z"
    }
   },
   "outputs": [],
   "source": [
    "f, ax = plt.subplots(figsize=(8, 7))\n",
    "sns.set_style(\"white\")\n",
    "\n",
    "model_name = 'ElasticNet'\n",
    "plt.scatter(predictions[model_name], np.expm1(y))\n",
    "plt.plot([0, 800000], [0, 800000], '--r')\n",
    "\n",
    "plt.xlabel(model_name +' Predictions (y_pred)', size=10)\n",
    "plt.ylabel('Real Values (y_train)', size=10)\n",
    "plt.tick_params(axis='x', labelsize=10)\n",
    "plt.tick_params(axis='y', labelsize=10)\n",
    "\n",
    "plt.title(model_name +' Predictions vs Real Values', size=13)\n",
    "plt.text(0, 700000, 'Mean RMSE: {:.6f} / Std: {:.6f}'.format(scores[model_name][0], scores[model_name][1]), fontsize=10)\n",
    "ax.xaxis.grid(False)\n",
    "sns.despine(trim=True, left=True)\n",
    "plt.show()"
   ]
  },
  {
   "cell_type": "markdown",
   "metadata": {},
   "source": [
    "#### Ensemble prediction on blended models"
   ]
  },
  {
   "cell_type": "code",
   "execution_count": 94,
   "metadata": {
    "execution": {
     "iopub.execute_input": "2022-06-08T03:24:25.216502Z",
     "iopub.status.busy": "2022-06-08T03:24:25.216117Z",
     "iopub.status.idle": "2022-06-08T03:24:25.313937Z",
     "shell.execute_reply": "2022-06-08T03:24:25.312748Z",
     "shell.execute_reply.started": "2022-06-08T03:24:25.216470Z"
    }
   },
   "outputs": [],
   "source": [
    "def blend_models(X):\n",
    "    return ((elastic_model.predict(X)) + (lasso_model.predict(X)) + (ridge_model.predict(X)))/3\n",
    "\n",
    "blended_score = rmsle(y, blend_models(X))\n",
    "print('RMSLE score on train data:')\n",
    "print(rmsle(y, blend_models(X)))"
   ]
  },
  {
   "cell_type": "code",
   "execution_count": 128,
   "metadata": {
    "execution": {
     "iopub.execute_input": "2022-06-08T03:43:09.694748Z",
     "iopub.status.busy": "2022-06-08T03:43:09.694318Z",
     "iopub.status.idle": "2022-06-08T03:43:10.100362Z",
     "shell.execute_reply": "2022-06-08T03:43:10.099219Z",
     "shell.execute_reply.started": "2022-06-08T03:43:09.694715Z"
    }
   },
   "outputs": [],
   "source": [
    "f, ax = plt.subplots(figsize=(8, 7))\n",
    "sns.set_style(\"white\")\n",
    "\n",
    "plt.scatter(np.expm1(blend_models(X)), np.expm1(y))\n",
    "plt.plot([0, 800000], [0, 800000], '--r')\n",
    "\n",
    "plt.xlabel('Ensemble Predictions (y_pred)', size=10)\n",
    "plt.ylabel('Real Values (y_train)', size=10)\n",
    "plt.tick_params(axis='x', labelsize=10)\n",
    "plt.tick_params(axis='y', labelsize=10)\n",
    "\n",
    "plt.title('Ensemble Predictions vs Real Values', size=13)\n",
    "plt.text(0, 700000, 'RMSE: {:.6f}'.format(rmsle(y, blend_models(X))), fontsize=10)\n",
    "ax.xaxis.grid(False)\n",
    "sns.despine(trim=True, left=True)\n",
    "plt.show()"
   ]
  },
  {
   "cell_type": "code",
   "execution_count": 96,
   "metadata": {
    "execution": {
     "iopub.execute_input": "2022-06-08T03:26:02.632436Z",
     "iopub.status.busy": "2022-06-08T03:26:02.632032Z",
     "iopub.status.idle": "2022-06-08T03:26:02.737777Z",
     "shell.execute_reply": "2022-06-08T03:26:02.736307Z",
     "shell.execute_reply.started": "2022-06-08T03:26:02.632404Z"
    }
   },
   "outputs": [],
   "source": [
    "y_test_r = pd.read_csv(\"../input/house-prices-advanced-regression-techniques/sample_submission.csv\")\n",
    "submission = pd.read_csv(\"../input/house-prices-advanced-regression-techniques/sample_submission.csv\")\n",
    "\n",
    "y_test = np.log1p(y_test_r.iloc[:,1].values)\n",
    "submission.iloc[:,1] = np.expm1(blend_models(X_test))\n",
    "blended_score = rmsle(y_test, blend_models(X_test))"
   ]
  },
  {
   "cell_type": "code",
   "execution_count": 97,
   "metadata": {
    "execution": {
     "iopub.execute_input": "2022-06-08T03:26:16.485081Z",
     "iopub.status.busy": "2022-06-08T03:26:16.484057Z",
     "iopub.status.idle": "2022-06-08T03:26:16.498641Z",
     "shell.execute_reply": "2022-06-08T03:26:16.497755Z",
     "shell.execute_reply.started": "2022-06-08T03:26:16.485030Z"
    }
   },
   "outputs": [],
   "source": [
    "submission.head()"
   ]
  },
  {
   "cell_type": "code",
   "execution_count": 98,
   "metadata": {
    "execution": {
     "iopub.execute_input": "2022-06-08T03:26:32.670614Z",
     "iopub.status.busy": "2022-06-08T03:26:32.670203Z",
     "iopub.status.idle": "2022-06-08T03:26:32.683508Z",
     "shell.execute_reply": "2022-06-08T03:26:32.682739Z",
     "shell.execute_reply.started": "2022-06-08T03:26:32.670581Z"
    }
   },
   "outputs": [],
   "source": [
    "submission.to_csv(\"submission.csv\", index=False)"
   ]
  }
 ],
 "metadata": {
  "kernelspec": {
   "display_name": "Python 3",
   "language": "python",
   "name": "python3"
  },
  "language_info": {
   "codemirror_mode": {
    "name": "ipython",
    "version": 3
   },
   "file_extension": ".py",
   "mimetype": "text/x-python",
   "name": "python",
   "nbconvert_exporter": "python",
   "pygments_lexer": "ipython3",
   "version": "3.8.5"
  }
 },
 "nbformat": 4,
 "nbformat_minor": 4
}
