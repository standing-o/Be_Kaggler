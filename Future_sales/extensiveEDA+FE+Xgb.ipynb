{
 "cells": [
  {
   "cell_type": "markdown",
   "id": "1dfb37b6",
   "metadata": {
    "papermill": {
     "duration": 0.029946,
     "end_time": "2022-06-29T10:19:30.811402",
     "exception": false,
     "start_time": "2022-06-29T10:19:30.781456",
     "status": "completed"
    },
    "tags": []
   },
   "source": [
    "# **Predict Future Sales**\n",
    "> Original code : [Extensive EDA + Feature engineering + Xgboost by ARUNMOHAN_003](https://www.kaggle.com/code/arunmohan003/extensive-eda-feature-engineering-xgboost)"
   ]
  },
  {
   "cell_type": "markdown",
   "id": "ef38d8bd",
   "metadata": {
    "papermill": {
     "duration": 0.025294,
     "end_time": "2022-06-29T10:19:30.863901",
     "exception": false,
     "start_time": "2022-06-29T10:19:30.838607",
     "status": "completed"
    },
    "tags": []
   },
   "source": [
    "## Data field\n",
    "\n",
    "#### **Target) item_cnt_day** : number of products sold.\n",
    "**ID** : an Id that represents a (Shop, Item) tuple within the test set | **shop_id** : unique identifier of a shop  \n",
    "**item_id** : unique identifier of a product | **item_category_id** : unique identifier of item category  \n",
    "**item_price** : current price of an item | **date** : date in format dd/mm/yyyy  \n",
    "**date_block_num** : a consecutive month number, used for convenience. January 2013 is 0, February 2013 is 1,..., October 2015 is 33  \n",
    "**item_name** : name of item | **shop_name** : name of shop | **item_category_name** : name of item category  \n",
    "\n",
    "  \n",
    "- `train.csv` : showing item price and number of items sold on each date. \n",
    "- `shop.csv` : Details of shops corresponding to shop id in `train.csv`.\n",
    "- `item.csv` : Details of items corresponding to item id in `train.csv`\n",
    "- `item_categories.csv` : Details of item category corresponding to category id in `item.csv`\n",
    "- `test.csv` : test data for prediction"
   ]
  },
  {
   "cell_type": "markdown",
   "id": "5db430c4",
   "metadata": {
    "papermill": {
     "duration": 0.025381,
     "end_time": "2022-06-29T10:19:30.914918",
     "exception": false,
     "start_time": "2022-06-29T10:19:30.889537",
     "status": "completed"
    },
    "tags": []
   },
   "source": [
    "- time-series dataset(sales for 34 months from 2013 Jan to 2015 October) consisting of daily sales data, provided by one of the largest Russian software firms - 1C Company"
   ]
  },
  {
   "cell_type": "markdown",
   "id": "cafbc2da",
   "metadata": {
    "papermill": {
     "duration": 0.025957,
     "end_time": "2022-06-29T10:19:30.966620",
     "exception": false,
     "start_time": "2022-06-29T10:19:30.940663",
     "status": "completed"
    },
    "tags": []
   },
   "source": [
    "## **0. Import Packages**"
   ]
  },
  {
   "cell_type": "code",
   "execution_count": 1,
   "id": "50fdb1be",
   "metadata": {
    "execution": {
     "iopub.execute_input": "2022-06-29T10:19:31.020928Z",
     "iopub.status.busy": "2022-06-29T10:19:31.020453Z",
     "iopub.status.idle": "2022-06-29T10:19:32.164660Z",
     "shell.execute_reply": "2022-06-29T10:19:32.163526Z"
    },
    "papermill": {
     "duration": 1.175007,
     "end_time": "2022-06-29T10:19:32.167669",
     "exception": false,
     "start_time": "2022-06-29T10:19:30.992662",
     "status": "completed"
    },
    "tags": []
   },
   "outputs": [],
   "source": [
    "import numpy as np\n",
    "import pandas as pd\n",
    "import seaborn as sns\n",
    "import matplotlib.pyplot as plt\n",
    "import matplotlib.gridspec as gridspec\n",
    "\n",
    "from scipy import stats\n",
    "from termcolor import colored\n",
    "import gc,time,os\n",
    "\n",
    "\n",
    "plt.style.use('seaborn-whitegrid')\n",
    "import warnings\n",
    "warnings.simplefilter(\"ignore\")\n",
    "pd.set_option('display.float_format', lambda x: '%.2f' % x)\n",
    "%matplotlib inline"
   ]
  },
  {
   "cell_type": "markdown",
   "id": "0fccef38",
   "metadata": {
    "papermill": {
     "duration": 0.027727,
     "end_time": "2022-06-29T10:19:32.221135",
     "exception": false,
     "start_time": "2022-06-29T10:19:32.193408",
     "status": "completed"
    },
    "tags": []
   },
   "source": [
    "## **1. Load and make dataset**"
   ]
  },
  {
   "cell_type": "code",
   "execution_count": 2,
   "id": "4d21eb07",
   "metadata": {
    "execution": {
     "iopub.execute_input": "2022-06-29T10:19:32.276119Z",
     "iopub.status.busy": "2022-06-29T10:19:32.275699Z",
     "iopub.status.idle": "2022-06-29T10:19:35.076196Z",
     "shell.execute_reply": "2022-06-29T10:19:35.075032Z"
    },
    "papermill": {
     "duration": 2.830607,
     "end_time": "2022-06-29T10:19:35.078749",
     "exception": false,
     "start_time": "2022-06-29T10:19:32.248142",
     "status": "completed"
    },
    "tags": []
   },
   "outputs": [
    {
     "data": {
      "text/html": [
       "<div>\n",
       "<style scoped>\n",
       "    .dataframe tbody tr th:only-of-type {\n",
       "        vertical-align: middle;\n",
       "    }\n",
       "\n",
       "    .dataframe tbody tr th {\n",
       "        vertical-align: top;\n",
       "    }\n",
       "\n",
       "    .dataframe thead th {\n",
       "        text-align: right;\n",
       "    }\n",
       "</style>\n",
       "<table border=\"1\" class=\"dataframe\">\n",
       "  <thead>\n",
       "    <tr style=\"text-align: right;\">\n",
       "      <th></th>\n",
       "      <th>date</th>\n",
       "      <th>date_block_num</th>\n",
       "      <th>shop_id</th>\n",
       "      <th>item_id</th>\n",
       "      <th>item_price</th>\n",
       "      <th>item_cnt_day</th>\n",
       "    </tr>\n",
       "  </thead>\n",
       "  <tbody>\n",
       "    <tr>\n",
       "      <th>0</th>\n",
       "      <td>02.01.2013</td>\n",
       "      <td>0</td>\n",
       "      <td>59</td>\n",
       "      <td>22154</td>\n",
       "      <td>999.00</td>\n",
       "      <td>1.00</td>\n",
       "    </tr>\n",
       "    <tr>\n",
       "      <th>1</th>\n",
       "      <td>03.01.2013</td>\n",
       "      <td>0</td>\n",
       "      <td>25</td>\n",
       "      <td>2552</td>\n",
       "      <td>899.00</td>\n",
       "      <td>1.00</td>\n",
       "    </tr>\n",
       "    <tr>\n",
       "      <th>2</th>\n",
       "      <td>05.01.2013</td>\n",
       "      <td>0</td>\n",
       "      <td>25</td>\n",
       "      <td>2552</td>\n",
       "      <td>899.00</td>\n",
       "      <td>-1.00</td>\n",
       "    </tr>\n",
       "    <tr>\n",
       "      <th>3</th>\n",
       "      <td>06.01.2013</td>\n",
       "      <td>0</td>\n",
       "      <td>25</td>\n",
       "      <td>2554</td>\n",
       "      <td>1709.05</td>\n",
       "      <td>1.00</td>\n",
       "    </tr>\n",
       "    <tr>\n",
       "      <th>4</th>\n",
       "      <td>15.01.2013</td>\n",
       "      <td>0</td>\n",
       "      <td>25</td>\n",
       "      <td>2555</td>\n",
       "      <td>1099.00</td>\n",
       "      <td>1.00</td>\n",
       "    </tr>\n",
       "  </tbody>\n",
       "</table>\n",
       "</div>"
      ],
      "text/plain": [
       "         date  date_block_num  shop_id  item_id  item_price  item_cnt_day\n",
       "0  02.01.2013               0       59    22154      999.00          1.00\n",
       "1  03.01.2013               0       25     2552      899.00          1.00\n",
       "2  05.01.2013               0       25     2552      899.00         -1.00\n",
       "3  06.01.2013               0       25     2554     1709.05          1.00\n",
       "4  15.01.2013               0       25     2555     1099.00          1.00"
      ]
     },
     "execution_count": 2,
     "metadata": {},
     "output_type": "execute_result"
    }
   ],
   "source": [
    "df_train = pd.read_csv('/kaggle/input/competitive-data-science-predict-future-sales/sales_train.csv')\n",
    "df_train.head()"
   ]
  },
  {
   "cell_type": "code",
   "execution_count": 3,
   "id": "3c5aedea",
   "metadata": {
    "execution": {
     "iopub.execute_input": "2022-06-29T10:19:35.136516Z",
     "iopub.status.busy": "2022-06-29T10:19:35.135650Z",
     "iopub.status.idle": "2022-06-29T10:19:35.154154Z",
     "shell.execute_reply": "2022-06-29T10:19:35.152932Z"
    },
    "papermill": {
     "duration": 0.051114,
     "end_time": "2022-06-29T10:19:35.157068",
     "exception": false,
     "start_time": "2022-06-29T10:19:35.105954",
     "status": "completed"
    },
    "tags": []
   },
   "outputs": [
    {
     "data": {
      "text/html": [
       "<div>\n",
       "<style scoped>\n",
       "    .dataframe tbody tr th:only-of-type {\n",
       "        vertical-align: middle;\n",
       "    }\n",
       "\n",
       "    .dataframe tbody tr th {\n",
       "        vertical-align: top;\n",
       "    }\n",
       "\n",
       "    .dataframe thead th {\n",
       "        text-align: right;\n",
       "    }\n",
       "</style>\n",
       "<table border=\"1\" class=\"dataframe\">\n",
       "  <thead>\n",
       "    <tr style=\"text-align: right;\">\n",
       "      <th></th>\n",
       "      <th>shop_name</th>\n",
       "      <th>shop_id</th>\n",
       "    </tr>\n",
       "  </thead>\n",
       "  <tbody>\n",
       "    <tr>\n",
       "      <th>0</th>\n",
       "      <td>!Якутск Орджоникидзе, 56 фран</td>\n",
       "      <td>0</td>\n",
       "    </tr>\n",
       "    <tr>\n",
       "      <th>1</th>\n",
       "      <td>!Якутск ТЦ \"Центральный\" фран</td>\n",
       "      <td>1</td>\n",
       "    </tr>\n",
       "    <tr>\n",
       "      <th>2</th>\n",
       "      <td>Адыгея ТЦ \"Мега\"</td>\n",
       "      <td>2</td>\n",
       "    </tr>\n",
       "    <tr>\n",
       "      <th>3</th>\n",
       "      <td>Балашиха ТРК \"Октябрь-Киномир\"</td>\n",
       "      <td>3</td>\n",
       "    </tr>\n",
       "    <tr>\n",
       "      <th>4</th>\n",
       "      <td>Волжский ТЦ \"Волга Молл\"</td>\n",
       "      <td>4</td>\n",
       "    </tr>\n",
       "  </tbody>\n",
       "</table>\n",
       "</div>"
      ],
      "text/plain": [
       "                        shop_name  shop_id\n",
       "0   !Якутск Орджоникидзе, 56 фран        0\n",
       "1   !Якутск ТЦ \"Центральный\" фран        1\n",
       "2                Адыгея ТЦ \"Мега\"        2\n",
       "3  Балашиха ТРК \"Октябрь-Киномир\"        3\n",
       "4        Волжский ТЦ \"Волга Молл\"        4"
      ]
     },
     "execution_count": 3,
     "metadata": {},
     "output_type": "execute_result"
    }
   ],
   "source": [
    "df_shop = pd.read_csv('/kaggle/input/competitive-data-science-predict-future-sales/shops.csv')\n",
    "df_shop.head()"
   ]
  },
  {
   "cell_type": "code",
   "execution_count": 4,
   "id": "4bd89ec4",
   "metadata": {
    "execution": {
     "iopub.execute_input": "2022-06-29T10:19:35.214087Z",
     "iopub.status.busy": "2022-06-29T10:19:35.213264Z",
     "iopub.status.idle": "2022-06-29T10:19:35.302720Z",
     "shell.execute_reply": "2022-06-29T10:19:35.301541Z"
    },
    "papermill": {
     "duration": 0.121573,
     "end_time": "2022-06-29T10:19:35.305481",
     "exception": false,
     "start_time": "2022-06-29T10:19:35.183908",
     "status": "completed"
    },
    "tags": []
   },
   "outputs": [
    {
     "data": {
      "text/html": [
       "<div>\n",
       "<style scoped>\n",
       "    .dataframe tbody tr th:only-of-type {\n",
       "        vertical-align: middle;\n",
       "    }\n",
       "\n",
       "    .dataframe tbody tr th {\n",
       "        vertical-align: top;\n",
       "    }\n",
       "\n",
       "    .dataframe thead th {\n",
       "        text-align: right;\n",
       "    }\n",
       "</style>\n",
       "<table border=\"1\" class=\"dataframe\">\n",
       "  <thead>\n",
       "    <tr style=\"text-align: right;\">\n",
       "      <th></th>\n",
       "      <th>item_name</th>\n",
       "      <th>item_id</th>\n",
       "      <th>item_category_id</th>\n",
       "    </tr>\n",
       "  </thead>\n",
       "  <tbody>\n",
       "    <tr>\n",
       "      <th>0</th>\n",
       "      <td>! ВО ВЛАСТИ НАВАЖДЕНИЯ (ПЛАСТ.)         D</td>\n",
       "      <td>0</td>\n",
       "      <td>40</td>\n",
       "    </tr>\n",
       "    <tr>\n",
       "      <th>1</th>\n",
       "      <td>!ABBYY FineReader 12 Professional Edition Full...</td>\n",
       "      <td>1</td>\n",
       "      <td>76</td>\n",
       "    </tr>\n",
       "    <tr>\n",
       "      <th>2</th>\n",
       "      <td>***В ЛУЧАХ СЛАВЫ   (UNV)                    D</td>\n",
       "      <td>2</td>\n",
       "      <td>40</td>\n",
       "    </tr>\n",
       "    <tr>\n",
       "      <th>3</th>\n",
       "      <td>***ГОЛУБАЯ ВОЛНА  (Univ)                      D</td>\n",
       "      <td>3</td>\n",
       "      <td>40</td>\n",
       "    </tr>\n",
       "    <tr>\n",
       "      <th>4</th>\n",
       "      <td>***КОРОБКА (СТЕКЛО)                       D</td>\n",
       "      <td>4</td>\n",
       "      <td>40</td>\n",
       "    </tr>\n",
       "  </tbody>\n",
       "</table>\n",
       "</div>"
      ],
      "text/plain": [
       "                                           item_name  item_id  \\\n",
       "0          ! ВО ВЛАСТИ НАВАЖДЕНИЯ (ПЛАСТ.)         D        0   \n",
       "1  !ABBYY FineReader 12 Professional Edition Full...        1   \n",
       "2      ***В ЛУЧАХ СЛАВЫ   (UNV)                    D        2   \n",
       "3    ***ГОЛУБАЯ ВОЛНА  (Univ)                      D        3   \n",
       "4        ***КОРОБКА (СТЕКЛО)                       D        4   \n",
       "\n",
       "   item_category_id  \n",
       "0                40  \n",
       "1                76  \n",
       "2                40  \n",
       "3                40  \n",
       "4                40  "
      ]
     },
     "execution_count": 4,
     "metadata": {},
     "output_type": "execute_result"
    }
   ],
   "source": [
    "df_item = pd.read_csv('/kaggle/input/competitive-data-science-predict-future-sales/items.csv')\n",
    "df_item.head()"
   ]
  },
  {
   "cell_type": "code",
   "execution_count": 5,
   "id": "ee24375c",
   "metadata": {
    "execution": {
     "iopub.execute_input": "2022-06-29T10:19:35.360974Z",
     "iopub.status.busy": "2022-06-29T10:19:35.360571Z",
     "iopub.status.idle": "2022-06-29T10:19:35.377854Z",
     "shell.execute_reply": "2022-06-29T10:19:35.376755Z"
    },
    "papermill": {
     "duration": 0.047908,
     "end_time": "2022-06-29T10:19:35.380328",
     "exception": false,
     "start_time": "2022-06-29T10:19:35.332420",
     "status": "completed"
    },
    "tags": []
   },
   "outputs": [
    {
     "data": {
      "text/html": [
       "<div>\n",
       "<style scoped>\n",
       "    .dataframe tbody tr th:only-of-type {\n",
       "        vertical-align: middle;\n",
       "    }\n",
       "\n",
       "    .dataframe tbody tr th {\n",
       "        vertical-align: top;\n",
       "    }\n",
       "\n",
       "    .dataframe thead th {\n",
       "        text-align: right;\n",
       "    }\n",
       "</style>\n",
       "<table border=\"1\" class=\"dataframe\">\n",
       "  <thead>\n",
       "    <tr style=\"text-align: right;\">\n",
       "      <th></th>\n",
       "      <th>item_category_name</th>\n",
       "      <th>item_category_id</th>\n",
       "    </tr>\n",
       "  </thead>\n",
       "  <tbody>\n",
       "    <tr>\n",
       "      <th>0</th>\n",
       "      <td>PC - Гарнитуры/Наушники</td>\n",
       "      <td>0</td>\n",
       "    </tr>\n",
       "    <tr>\n",
       "      <th>1</th>\n",
       "      <td>Аксессуары - PS2</td>\n",
       "      <td>1</td>\n",
       "    </tr>\n",
       "    <tr>\n",
       "      <th>2</th>\n",
       "      <td>Аксессуары - PS3</td>\n",
       "      <td>2</td>\n",
       "    </tr>\n",
       "    <tr>\n",
       "      <th>3</th>\n",
       "      <td>Аксессуары - PS4</td>\n",
       "      <td>3</td>\n",
       "    </tr>\n",
       "    <tr>\n",
       "      <th>4</th>\n",
       "      <td>Аксессуары - PSP</td>\n",
       "      <td>4</td>\n",
       "    </tr>\n",
       "  </tbody>\n",
       "</table>\n",
       "</div>"
      ],
      "text/plain": [
       "        item_category_name  item_category_id\n",
       "0  PC - Гарнитуры/Наушники                 0\n",
       "1         Аксессуары - PS2                 1\n",
       "2         Аксессуары - PS3                 2\n",
       "3         Аксессуары - PS4                 3\n",
       "4         Аксессуары - PSP                 4"
      ]
     },
     "execution_count": 5,
     "metadata": {},
     "output_type": "execute_result"
    }
   ],
   "source": [
    "df_itemcat = pd.read_csv('/kaggle/input/competitive-data-science-predict-future-sales/item_categories.csv')\n",
    "df_itemcat.head()"
   ]
  },
  {
   "cell_type": "code",
   "execution_count": 6,
   "id": "739e1f1f",
   "metadata": {
    "execution": {
     "iopub.execute_input": "2022-06-29T10:19:35.435589Z",
     "iopub.status.busy": "2022-06-29T10:19:35.435185Z",
     "iopub.status.idle": "2022-06-29T10:19:35.556862Z",
     "shell.execute_reply": "2022-06-29T10:19:35.555995Z"
    },
    "papermill": {
     "duration": 0.151809,
     "end_time": "2022-06-29T10:19:35.559015",
     "exception": false,
     "start_time": "2022-06-29T10:19:35.407206",
     "status": "completed"
    },
    "tags": []
   },
   "outputs": [
    {
     "data": {
      "text/html": [
       "<div>\n",
       "<style scoped>\n",
       "    .dataframe tbody tr th:only-of-type {\n",
       "        vertical-align: middle;\n",
       "    }\n",
       "\n",
       "    .dataframe tbody tr th {\n",
       "        vertical-align: top;\n",
       "    }\n",
       "\n",
       "    .dataframe thead th {\n",
       "        text-align: right;\n",
       "    }\n",
       "</style>\n",
       "<table border=\"1\" class=\"dataframe\">\n",
       "  <thead>\n",
       "    <tr style=\"text-align: right;\">\n",
       "      <th></th>\n",
       "      <th>ID</th>\n",
       "      <th>shop_id</th>\n",
       "      <th>item_id</th>\n",
       "    </tr>\n",
       "  </thead>\n",
       "  <tbody>\n",
       "    <tr>\n",
       "      <th>0</th>\n",
       "      <td>0</td>\n",
       "      <td>5</td>\n",
       "      <td>5037</td>\n",
       "    </tr>\n",
       "    <tr>\n",
       "      <th>1</th>\n",
       "      <td>1</td>\n",
       "      <td>5</td>\n",
       "      <td>5320</td>\n",
       "    </tr>\n",
       "    <tr>\n",
       "      <th>2</th>\n",
       "      <td>2</td>\n",
       "      <td>5</td>\n",
       "      <td>5233</td>\n",
       "    </tr>\n",
       "    <tr>\n",
       "      <th>3</th>\n",
       "      <td>3</td>\n",
       "      <td>5</td>\n",
       "      <td>5232</td>\n",
       "    </tr>\n",
       "    <tr>\n",
       "      <th>4</th>\n",
       "      <td>4</td>\n",
       "      <td>5</td>\n",
       "      <td>5268</td>\n",
       "    </tr>\n",
       "  </tbody>\n",
       "</table>\n",
       "</div>"
      ],
      "text/plain": [
       "   ID  shop_id  item_id\n",
       "0   0        5     5037\n",
       "1   1        5     5320\n",
       "2   2        5     5233\n",
       "3   3        5     5232\n",
       "4   4        5     5268"
      ]
     },
     "execution_count": 6,
     "metadata": {},
     "output_type": "execute_result"
    }
   ],
   "source": [
    "df_test = pd.read_csv('/kaggle/input/competitive-data-science-predict-future-sales/test.csv')\n",
    "df_test.head()"
   ]
  },
  {
   "cell_type": "markdown",
   "id": "02889ba1",
   "metadata": {
    "papermill": {
     "duration": 0.026708,
     "end_time": "2022-06-29T10:19:35.612447",
     "exception": false,
     "start_time": "2022-06-29T10:19:35.585739",
     "status": "completed"
    },
    "tags": []
   },
   "source": [
    "- As discussed earlier for test data we just have shop id and item id. Train data is spread over 4 files.\n",
    "- From above samples we know that there are common ids on multiple files.It will be great to move forward once we merge those train files based on common id.\n"
   ]
  },
  {
   "cell_type": "code",
   "execution_count": 7,
   "id": "836ad617",
   "metadata": {
    "execution": {
     "iopub.execute_input": "2022-06-29T10:19:35.668247Z",
     "iopub.status.busy": "2022-06-29T10:19:35.667425Z",
     "iopub.status.idle": "2022-06-29T10:19:38.323560Z",
     "shell.execute_reply": "2022-06-29T10:19:38.322491Z"
    },
    "papermill": {
     "duration": 2.686593,
     "end_time": "2022-06-29T10:19:38.325880",
     "exception": false,
     "start_time": "2022-06-29T10:19:35.639287",
     "status": "completed"
    },
    "tags": []
   },
   "outputs": [
    {
     "data": {
      "text/html": [
       "<div>\n",
       "<style scoped>\n",
       "    .dataframe tbody tr th:only-of-type {\n",
       "        vertical-align: middle;\n",
       "    }\n",
       "\n",
       "    .dataframe tbody tr th {\n",
       "        vertical-align: top;\n",
       "    }\n",
       "\n",
       "    .dataframe thead th {\n",
       "        text-align: right;\n",
       "    }\n",
       "</style>\n",
       "<table border=\"1\" class=\"dataframe\">\n",
       "  <thead>\n",
       "    <tr style=\"text-align: right;\">\n",
       "      <th></th>\n",
       "      <th>date</th>\n",
       "      <th>date_block_num</th>\n",
       "      <th>shop_id</th>\n",
       "      <th>item_id</th>\n",
       "      <th>item_price</th>\n",
       "      <th>item_cnt_day</th>\n",
       "      <th>item_category_id</th>\n",
       "      <th>item_category_name</th>\n",
       "      <th>shop_name</th>\n",
       "    </tr>\n",
       "  </thead>\n",
       "  <tbody>\n",
       "    <tr>\n",
       "      <th>0</th>\n",
       "      <td>02.01.2013</td>\n",
       "      <td>0</td>\n",
       "      <td>59</td>\n",
       "      <td>22154</td>\n",
       "      <td>999.00</td>\n",
       "      <td>1.00</td>\n",
       "      <td>37</td>\n",
       "      <td>Кино - Blu-Ray</td>\n",
       "      <td>Ярославль ТЦ \"Альтаир\"</td>\n",
       "    </tr>\n",
       "    <tr>\n",
       "      <th>1</th>\n",
       "      <td>26.04.2013</td>\n",
       "      <td>3</td>\n",
       "      <td>59</td>\n",
       "      <td>944</td>\n",
       "      <td>150.00</td>\n",
       "      <td>1.00</td>\n",
       "      <td>37</td>\n",
       "      <td>Кино - Blu-Ray</td>\n",
       "      <td>Ярославль ТЦ \"Альтаир\"</td>\n",
       "    </tr>\n",
       "    <tr>\n",
       "      <th>2</th>\n",
       "      <td>26.06.2013</td>\n",
       "      <td>5</td>\n",
       "      <td>59</td>\n",
       "      <td>944</td>\n",
       "      <td>199.50</td>\n",
       "      <td>1.00</td>\n",
       "      <td>37</td>\n",
       "      <td>Кино - Blu-Ray</td>\n",
       "      <td>Ярославль ТЦ \"Альтаир\"</td>\n",
       "    </tr>\n",
       "    <tr>\n",
       "      <th>3</th>\n",
       "      <td>20.07.2013</td>\n",
       "      <td>6</td>\n",
       "      <td>59</td>\n",
       "      <td>944</td>\n",
       "      <td>199.50</td>\n",
       "      <td>1.00</td>\n",
       "      <td>37</td>\n",
       "      <td>Кино - Blu-Ray</td>\n",
       "      <td>Ярославль ТЦ \"Альтаир\"</td>\n",
       "    </tr>\n",
       "    <tr>\n",
       "      <th>4</th>\n",
       "      <td>14.09.2013</td>\n",
       "      <td>8</td>\n",
       "      <td>59</td>\n",
       "      <td>944</td>\n",
       "      <td>299.00</td>\n",
       "      <td>2.00</td>\n",
       "      <td>37</td>\n",
       "      <td>Кино - Blu-Ray</td>\n",
       "      <td>Ярославль ТЦ \"Альтаир\"</td>\n",
       "    </tr>\n",
       "  </tbody>\n",
       "</table>\n",
       "</div>"
      ],
      "text/plain": [
       "         date  date_block_num  shop_id  item_id  item_price  item_cnt_day  \\\n",
       "0  02.01.2013               0       59    22154      999.00          1.00   \n",
       "1  26.04.2013               3       59      944      150.00          1.00   \n",
       "2  26.06.2013               5       59      944      199.50          1.00   \n",
       "3  20.07.2013               6       59      944      199.50          1.00   \n",
       "4  14.09.2013               8       59      944      299.00          2.00   \n",
       "\n",
       "   item_category_id item_category_name               shop_name  \n",
       "0                37     Кино - Blu-Ray  Ярославль ТЦ \"Альтаир\"  \n",
       "1                37     Кино - Blu-Ray  Ярославль ТЦ \"Альтаир\"  \n",
       "2                37     Кино - Blu-Ray  Ярославль ТЦ \"Альтаир\"  \n",
       "3                37     Кино - Blu-Ray  Ярославль ТЦ \"Альтаир\"  \n",
       "4                37     Кино - Blu-Ray  Ярославль ТЦ \"Альтаир\"  "
      ]
     },
     "execution_count": 7,
     "metadata": {},
     "output_type": "execute_result"
    }
   ],
   "source": [
    "# Merging all dataframes together\n",
    "dff = df_train.merge(df_item, on=\"item_id\")\n",
    "dff = dff.merge(df_itemcat, on=\"item_category_id\")\n",
    "dff = dff.merge(df_shop, on=\"shop_id\")\n",
    "dff = dff.drop(columns=[\"item_name\"])\n",
    "\n",
    "# masking a copy\n",
    "df = dff.copy()\n",
    "df.head()"
   ]
  },
  {
   "cell_type": "code",
   "execution_count": 8,
   "id": "61fc6936",
   "metadata": {
    "execution": {
     "iopub.execute_input": "2022-06-29T10:19:38.384195Z",
     "iopub.status.busy": "2022-06-29T10:19:38.383758Z",
     "iopub.status.idle": "2022-06-29T10:19:38.912836Z",
     "shell.execute_reply": "2022-06-29T10:19:38.911628Z"
    },
    "papermill": {
     "duration": 0.560549,
     "end_time": "2022-06-29T10:19:38.915359",
     "exception": false,
     "start_time": "2022-06-29T10:19:38.354810",
     "status": "completed"
    },
    "tags": []
   },
   "outputs": [
    {
     "data": {
      "text/html": [
       "<div>\n",
       "<style scoped>\n",
       "    .dataframe tbody tr th:only-of-type {\n",
       "        vertical-align: middle;\n",
       "    }\n",
       "\n",
       "    .dataframe tbody tr th {\n",
       "        vertical-align: top;\n",
       "    }\n",
       "\n",
       "    .dataframe thead th {\n",
       "        text-align: right;\n",
       "    }\n",
       "</style>\n",
       "<table border=\"1\" class=\"dataframe\">\n",
       "  <thead>\n",
       "    <tr style=\"text-align: right;\">\n",
       "      <th></th>\n",
       "      <th>date_block_num</th>\n",
       "      <th>shop_id</th>\n",
       "      <th>item_id</th>\n",
       "      <th>item_price</th>\n",
       "      <th>item_cnt_day</th>\n",
       "      <th>item_category_id</th>\n",
       "    </tr>\n",
       "  </thead>\n",
       "  <tbody>\n",
       "    <tr>\n",
       "      <th>count</th>\n",
       "      <td>2935849.00</td>\n",
       "      <td>2935849.00</td>\n",
       "      <td>2935849.00</td>\n",
       "      <td>2935849.00</td>\n",
       "      <td>2935849.00</td>\n",
       "      <td>2935849.00</td>\n",
       "    </tr>\n",
       "    <tr>\n",
       "      <th>mean</th>\n",
       "      <td>14.57</td>\n",
       "      <td>33.00</td>\n",
       "      <td>10197.23</td>\n",
       "      <td>890.85</td>\n",
       "      <td>1.24</td>\n",
       "      <td>40.00</td>\n",
       "    </tr>\n",
       "    <tr>\n",
       "      <th>std</th>\n",
       "      <td>9.42</td>\n",
       "      <td>16.23</td>\n",
       "      <td>6324.30</td>\n",
       "      <td>1729.80</td>\n",
       "      <td>2.62</td>\n",
       "      <td>17.10</td>\n",
       "    </tr>\n",
       "    <tr>\n",
       "      <th>min</th>\n",
       "      <td>0.00</td>\n",
       "      <td>0.00</td>\n",
       "      <td>0.00</td>\n",
       "      <td>-1.00</td>\n",
       "      <td>-22.00</td>\n",
       "      <td>0.00</td>\n",
       "    </tr>\n",
       "    <tr>\n",
       "      <th>25%</th>\n",
       "      <td>7.00</td>\n",
       "      <td>22.00</td>\n",
       "      <td>4476.00</td>\n",
       "      <td>249.00</td>\n",
       "      <td>1.00</td>\n",
       "      <td>28.00</td>\n",
       "    </tr>\n",
       "    <tr>\n",
       "      <th>50%</th>\n",
       "      <td>14.00</td>\n",
       "      <td>31.00</td>\n",
       "      <td>9343.00</td>\n",
       "      <td>399.00</td>\n",
       "      <td>1.00</td>\n",
       "      <td>40.00</td>\n",
       "    </tr>\n",
       "    <tr>\n",
       "      <th>75%</th>\n",
       "      <td>23.00</td>\n",
       "      <td>47.00</td>\n",
       "      <td>15684.00</td>\n",
       "      <td>999.00</td>\n",
       "      <td>1.00</td>\n",
       "      <td>55.00</td>\n",
       "    </tr>\n",
       "    <tr>\n",
       "      <th>max</th>\n",
       "      <td>33.00</td>\n",
       "      <td>59.00</td>\n",
       "      <td>22169.00</td>\n",
       "      <td>307980.00</td>\n",
       "      <td>2169.00</td>\n",
       "      <td>83.00</td>\n",
       "    </tr>\n",
       "  </tbody>\n",
       "</table>\n",
       "</div>"
      ],
      "text/plain": [
       "       date_block_num    shop_id    item_id  item_price  item_cnt_day  \\\n",
       "count      2935849.00 2935849.00 2935849.00  2935849.00    2935849.00   \n",
       "mean            14.57      33.00   10197.23      890.85          1.24   \n",
       "std              9.42      16.23    6324.30     1729.80          2.62   \n",
       "min              0.00       0.00       0.00       -1.00        -22.00   \n",
       "25%              7.00      22.00    4476.00      249.00          1.00   \n",
       "50%             14.00      31.00    9343.00      399.00          1.00   \n",
       "75%             23.00      47.00   15684.00      999.00          1.00   \n",
       "max             33.00      59.00   22169.00   307980.00       2169.00   \n",
       "\n",
       "       item_category_id  \n",
       "count        2935849.00  \n",
       "mean              40.00  \n",
       "std               17.10  \n",
       "min                0.00  \n",
       "25%               28.00  \n",
       "50%               40.00  \n",
       "75%               55.00  \n",
       "max               83.00  "
      ]
     },
     "execution_count": 8,
     "metadata": {},
     "output_type": "execute_result"
    }
   ],
   "source": [
    "df.describe()"
   ]
  },
  {
   "cell_type": "markdown",
   "id": "2f4d0cf1",
   "metadata": {
    "papermill": {
     "duration": 0.027509,
     "end_time": "2022-06-29T10:19:38.970329",
     "exception": false,
     "start_time": "2022-06-29T10:19:38.942820",
     "status": "completed"
    },
    "tags": []
   },
   "source": [
    "## **2. EDA**"
   ]
  },
  {
   "cell_type": "markdown",
   "id": "e9883fb1",
   "metadata": {
    "papermill": {
     "duration": 0.027731,
     "end_time": "2022-06-29T10:19:39.026310",
     "exception": false,
     "start_time": "2022-06-29T10:19:38.998579",
     "status": "completed"
    },
    "tags": []
   },
   "source": [
    "### 2-(1). `Date`"
   ]
  },
  {
   "cell_type": "code",
   "execution_count": 9,
   "id": "59420b3d",
   "metadata": {
    "execution": {
     "iopub.execute_input": "2022-06-29T10:19:39.083080Z",
     "iopub.status.busy": "2022-06-29T10:19:39.082646Z",
     "iopub.status.idle": "2022-06-29T10:19:40.727318Z",
     "shell.execute_reply": "2022-06-29T10:19:40.726101Z"
    },
    "papermill": {
     "duration": 1.676244,
     "end_time": "2022-06-29T10:19:40.730097",
     "exception": false,
     "start_time": "2022-06-29T10:19:39.053853",
     "status": "completed"
    },
    "tags": []
   },
   "outputs": [
    {
     "name": "stdout",
     "output_type": "stream",
     "text": [
      "Minimum data present: 2013-01-01 00:00:00\n",
      "Maximum date present: 2015-10-31 00:00:00\n"
     ]
    }
   ],
   "source": [
    "df[\"date\"] = pd.to_datetime(df[\"date\"], format='%d.%m.%Y')\n",
    "df.sort_values(by=\"date\", ascending=True, inplace=True)\n",
    "\n",
    "print(f'Minimum data present: {df[\"date\"].min()}')\n",
    "print(f'Maximum date present: {df[\"date\"].max()}')"
   ]
  },
  {
   "cell_type": "code",
   "execution_count": 10,
   "id": "95ed9a36",
   "metadata": {
    "execution": {
     "iopub.execute_input": "2022-06-29T10:19:40.787540Z",
     "iopub.status.busy": "2022-06-29T10:19:40.786787Z",
     "iopub.status.idle": "2022-06-29T10:19:41.298147Z",
     "shell.execute_reply": "2022-06-29T10:19:41.296984Z"
    },
    "papermill": {
     "duration": 0.542683,
     "end_time": "2022-06-29T10:19:41.300847",
     "exception": false,
     "start_time": "2022-06-29T10:19:40.758164",
     "status": "completed"
    },
    "tags": []
   },
   "outputs": [
    {
     "data": {
      "text/html": [
       "<div>\n",
       "<style scoped>\n",
       "    .dataframe tbody tr th:only-of-type {\n",
       "        vertical-align: middle;\n",
       "    }\n",
       "\n",
       "    .dataframe tbody tr th {\n",
       "        vertical-align: top;\n",
       "    }\n",
       "\n",
       "    .dataframe thead th {\n",
       "        text-align: right;\n",
       "    }\n",
       "</style>\n",
       "<table border=\"1\" class=\"dataframe\">\n",
       "  <thead>\n",
       "    <tr style=\"text-align: right;\">\n",
       "      <th></th>\n",
       "      <th>date</th>\n",
       "      <th>date_block_num</th>\n",
       "      <th>shop_id</th>\n",
       "      <th>item_id</th>\n",
       "      <th>item_price</th>\n",
       "      <th>item_cnt_day</th>\n",
       "      <th>item_category_id</th>\n",
       "      <th>item_category_name</th>\n",
       "      <th>shop_name</th>\n",
       "    </tr>\n",
       "  </thead>\n",
       "  <tbody>\n",
       "    <tr>\n",
       "      <th>0</th>\n",
       "      <td>2013-01-01</td>\n",
       "      <td>0</td>\n",
       "      <td>18</td>\n",
       "      <td>2589</td>\n",
       "      <td>279.00</td>\n",
       "      <td>1.00</td>\n",
       "      <td>55</td>\n",
       "      <td>Музыка - CD локального производства</td>\n",
       "      <td>Красноярск ТЦ \"Июнь\"</td>\n",
       "    </tr>\n",
       "    <tr>\n",
       "      <th>1</th>\n",
       "      <td>2013-01-01</td>\n",
       "      <td>0</td>\n",
       "      <td>42</td>\n",
       "      <td>13511</td>\n",
       "      <td>1589.00</td>\n",
       "      <td>1.00</td>\n",
       "      <td>19</td>\n",
       "      <td>Игры - PS3</td>\n",
       "      <td>СПб ТК \"Невский Центр\"</td>\n",
       "    </tr>\n",
       "    <tr>\n",
       "      <th>2</th>\n",
       "      <td>2013-01-01</td>\n",
       "      <td>0</td>\n",
       "      <td>28</td>\n",
       "      <td>4481</td>\n",
       "      <td>1698.70</td>\n",
       "      <td>1.00</td>\n",
       "      <td>22</td>\n",
       "      <td>Игры - PSVita</td>\n",
       "      <td>Москва ТЦ \"МЕГА Теплый Стан\" II</td>\n",
       "    </tr>\n",
       "    <tr>\n",
       "      <th>3</th>\n",
       "      <td>2013-01-01</td>\n",
       "      <td>0</td>\n",
       "      <td>42</td>\n",
       "      <td>17696</td>\n",
       "      <td>1997.51</td>\n",
       "      <td>1.00</td>\n",
       "      <td>19</td>\n",
       "      <td>Игры - PS3</td>\n",
       "      <td>СПб ТК \"Невский Центр\"</td>\n",
       "    </tr>\n",
       "    <tr>\n",
       "      <th>4</th>\n",
       "      <td>2013-01-01</td>\n",
       "      <td>0</td>\n",
       "      <td>28</td>\n",
       "      <td>2304</td>\n",
       "      <td>1999.00</td>\n",
       "      <td>2.00</td>\n",
       "      <td>22</td>\n",
       "      <td>Игры - PSVita</td>\n",
       "      <td>Москва ТЦ \"МЕГА Теплый Стан\" II</td>\n",
       "    </tr>\n",
       "  </tbody>\n",
       "</table>\n",
       "</div>"
      ],
      "text/plain": [
       "        date  date_block_num  shop_id  item_id  item_price  item_cnt_day  \\\n",
       "0 2013-01-01               0       18     2589      279.00          1.00   \n",
       "1 2013-01-01               0       42    13511     1589.00          1.00   \n",
       "2 2013-01-01               0       28     4481     1698.70          1.00   \n",
       "3 2013-01-01               0       42    17696     1997.51          1.00   \n",
       "4 2013-01-01               0       28     2304     1999.00          2.00   \n",
       "\n",
       "   item_category_id                   item_category_name  \\\n",
       "0                55  Музыка - CD локального производства   \n",
       "1                19                           Игры - PS3   \n",
       "2                22                        Игры - PSVita   \n",
       "3                19                           Игры - PS3   \n",
       "4                22                        Игры - PSVita   \n",
       "\n",
       "                         shop_name  \n",
       "0             Красноярск ТЦ \"Июнь\"  \n",
       "1           СПб ТК \"Невский Центр\"  \n",
       "2  Москва ТЦ \"МЕГА Теплый Стан\" II  \n",
       "3           СПб ТК \"Невский Центр\"  \n",
       "4  Москва ТЦ \"МЕГА Теплый Стан\" II  "
      ]
     },
     "execution_count": 10,
     "metadata": {},
     "output_type": "execute_result"
    }
   ],
   "source": [
    "# sorting dataframe based on date\n",
    "df = df.sort_values(by='date').reset_index(drop=True)\n",
    "df.head()"
   ]
  },
  {
   "cell_type": "markdown",
   "id": "ae33417c",
   "metadata": {
    "papermill": {
     "duration": 0.027717,
     "end_time": "2022-06-29T10:19:41.356693",
     "exception": false,
     "start_time": "2022-06-29T10:19:41.328976",
     "status": "completed"
    },
    "tags": []
   },
   "source": [
    "- Our `date` was not in date time format. We have converted it to datetime and sorted our dataframe based on that."
   ]
  },
  {
   "cell_type": "markdown",
   "id": "48a7c50b",
   "metadata": {
    "papermill": {
     "duration": 0.027513,
     "end_time": "2022-06-29T10:19:41.412709",
     "exception": false,
     "start_time": "2022-06-29T10:19:41.385196",
     "status": "completed"
    },
    "tags": []
   },
   "source": [
    "### 2-(2). `item_cnt_day`\n",
    "- number of units of that item sold in that shop on a particular day."
   ]
  },
  {
   "cell_type": "code",
   "execution_count": 11,
   "id": "006b39de",
   "metadata": {
    "execution": {
     "iopub.execute_input": "2022-06-29T10:19:41.470278Z",
     "iopub.status.busy": "2022-06-29T10:19:41.469884Z",
     "iopub.status.idle": "2022-06-29T10:19:52.944371Z",
     "shell.execute_reply": "2022-06-29T10:19:52.943013Z"
    },
    "papermill": {
     "duration": 11.506306,
     "end_time": "2022-06-29T10:19:52.946943",
     "exception": false,
     "start_time": "2022-06-29T10:19:41.440637",
     "status": "completed"
    },
    "tags": []
   },
   "outputs": [
    {
     "data": {
      "image/png": "[encoded data removed]",
      "text/plain": [
       "<Figure size 1080x360 with 2 Axes>"
      ]
     },
     "metadata": {
      "needs_background": "light"
     },
     "output_type": "display_data"
    }
   ],
   "source": [
    "fig,axes = plt.subplots(1,2, figsize=(15,5))\n",
    "sns.boxplot(df['item_cnt_day'],ax=axes[0])\n",
    "axes[0].set_title('Boxplot')\n",
    "\n",
    "sns.distplot(df['item_cnt_day'],ax=axes[1])\n",
    "axes[1].set_title('Distribution')\n",
    "\n",
    "plt.suptitle('No of units sold(Item Cnt day)',fontsize= 20)\n",
    "plt.show()"
   ]
  },
  {
   "cell_type": "code",
   "execution_count": 12,
   "id": "4f9d88ae",
   "metadata": {
    "execution": {
     "iopub.execute_input": "2022-06-29T10:19:53.006121Z",
     "iopub.status.busy": "2022-06-29T10:19:53.005195Z",
     "iopub.status.idle": "2022-06-29T10:19:53.127652Z",
     "shell.execute_reply": "2022-06-29T10:19:53.126568Z"
    },
    "papermill": {
     "duration": 0.15451,
     "end_time": "2022-06-29T10:19:53.130081",
     "exception": false,
     "start_time": "2022-06-29T10:19:52.975571",
     "status": "completed"
    },
    "tags": []
   },
   "outputs": [
    {
     "data": {
      "text/plain": [
       "count   2935849.00\n",
       "mean          1.24\n",
       "std           2.62\n",
       "min         -22.00\n",
       "25%           1.00\n",
       "50%           1.00\n",
       "75%           1.00\n",
       "max        2169.00\n",
       "Name: item_cnt_day, dtype: float64"
      ]
     },
     "execution_count": 12,
     "metadata": {},
     "output_type": "execute_result"
    }
   ],
   "source": [
    "df['item_cnt_day'].describe()"
   ]
  },
  {
   "cell_type": "code",
   "execution_count": 13,
   "id": "ca54156e",
   "metadata": {
    "execution": {
     "iopub.execute_input": "2022-06-29T10:19:53.192472Z",
     "iopub.status.busy": "2022-06-29T10:19:53.191694Z",
     "iopub.status.idle": "2022-06-29T10:19:53.214558Z",
     "shell.execute_reply": "2022-06-29T10:19:53.213000Z"
    },
    "papermill": {
     "duration": 0.057155,
     "end_time": "2022-06-29T10:19:53.217129",
     "exception": false,
     "start_time": "2022-06-29T10:19:53.159974",
     "status": "completed"
    },
    "tags": []
   },
   "outputs": [
    {
     "name": "stdout",
     "output_type": "stream",
     "text": [
      "Minimum value -22.0\n",
      "Maximum value 2169.0\n"
     ]
    }
   ],
   "source": [
    "print(f'Minimum value {df[\"item_cnt_day\"].min()}')\n",
    "print(f'Maximum value {df[\"item_cnt_day\"].max()}')"
   ]
  },
  {
   "cell_type": "markdown",
   "id": "b8a00e0e",
   "metadata": {
    "papermill": {
     "duration": 0.028531,
     "end_time": "2022-06-29T10:19:53.274354",
     "exception": false,
     "start_time": "2022-06-29T10:19:53.245823",
     "status": "completed"
    },
    "tags": []
   },
   "source": [
    "- -22 does not make sense. We will remove those values under 0"
   ]
  },
  {
   "cell_type": "code",
   "execution_count": 14,
   "id": "74d6031b",
   "metadata": {
    "execution": {
     "iopub.execute_input": "2022-06-29T10:19:53.333435Z",
     "iopub.status.busy": "2022-06-29T10:19:53.332701Z",
     "iopub.status.idle": "2022-06-29T10:19:53.998041Z",
     "shell.execute_reply": "2022-06-29T10:19:53.996543Z"
    },
    "papermill": {
     "duration": 0.697746,
     "end_time": "2022-06-29T10:19:54.000479",
     "exception": false,
     "start_time": "2022-06-29T10:19:53.302733",
     "status": "completed"
    },
    "tags": []
   },
   "outputs": [
    {
     "name": "stdout",
     "output_type": "stream",
     "text": [
      "0th percentile value for item_cnt_day is -22.0\n",
      "10th percentile value for item_cnt_day is 1.0\n",
      "20th percentile value for item_cnt_day is 1.0\n",
      "30th percentile value for item_cnt_day is 1.0\n",
      "40th percentile value for item_cnt_day is 1.0\n",
      "50th percentile value for item_cnt_day is 1.0\n",
      "60th percentile value for item_cnt_day is 1.0\n",
      "70th percentile value for item_cnt_day is 1.0\n",
      "80th percentile value for item_cnt_day is 1.0\n",
      "90th percentile value for item_cnt_day is 2.0\n",
      "100th percentile value for item_cnt_day is 2169.0\n",
      "----------------------------------------------------------------------------------------------------\n",
      "90th percentile value for item_cnt_day is 2.0\n",
      "91th percentile value for item_cnt_day is 2.0\n",
      "92th percentile value for item_cnt_day is 2.0\n",
      "93th percentile value for item_cnt_day is 2.0\n",
      "94th percentile value for item_cnt_day is 2.0\n",
      "95th percentile value for item_cnt_day is 2.0\n",
      "96th percentile value for item_cnt_day is 2.0\n",
      "97th percentile value for item_cnt_day is 3.0\n",
      "98th percentile value for item_cnt_day is 3.0\n",
      "99th percentile value for item_cnt_day is 5.0\n",
      "----------------------------------------------------------------------------------------------------\n",
      "99.1th percentile value for item_cnt_day is 6.0\n",
      "99.2th percentile value for item_cnt_day is 6.0\n",
      "99.3th percentile value for item_cnt_day is 7.0\n",
      "99.4th percentile value for item_cnt_day is 7.0\n",
      "99.5th percentile value for item_cnt_day is 8.0\n",
      "99.6th percentile value for item_cnt_day is 10.0\n",
      "99.7th percentile value for item_cnt_day is 12.0\n",
      "99.8th percentile value for item_cnt_day is 15.0\n",
      "99.9th percentile value for item_cnt_day is 22.0\n"
     ]
    }
   ],
   "source": [
    "# Let us print percentile values\n",
    "for i in range(0,101,10):\n",
    "    print(f'{i}th percentile value for item_cnt_day is {np.percentile(df[\"item_cnt_day\"],i)}')\n",
    "    \n",
    "print('--'*50)\n",
    "\n",
    "for i in range(90,100):\n",
    "    print(f'{i}th percentile value for item_cnt_day is {np.percentile(df[\"item_cnt_day\"],i)}')\n",
    "    \n",
    "print('--'*50)\n",
    "\n",
    "for i in range(1,10):\n",
    "    k = 99 + i/10 \n",
    "    print(f'{k}th percentile value for item_cnt_day is {np.percentile(df[\"item_cnt_day\"],k)}')"
   ]
  },
  {
   "cell_type": "code",
   "execution_count": 15,
   "id": "8d3cb017",
   "metadata": {
    "execution": {
     "iopub.execute_input": "2022-06-29T10:19:54.060239Z",
     "iopub.status.busy": "2022-06-29T10:19:54.059839Z",
     "iopub.status.idle": "2022-06-29T10:19:54.153175Z",
     "shell.execute_reply": "2022-06-29T10:19:54.151967Z"
    },
    "papermill": {
     "duration": 0.12638,
     "end_time": "2022-06-29T10:19:54.155703",
     "exception": false,
     "start_time": "2022-06-29T10:19:54.029323",
     "status": "completed"
    },
    "tags": []
   },
   "outputs": [
    {
     "data": {
      "text/html": [
       "<div>\n",
       "<style scoped>\n",
       "    .dataframe tbody tr th:only-of-type {\n",
       "        vertical-align: middle;\n",
       "    }\n",
       "\n",
       "    .dataframe tbody tr th {\n",
       "        vertical-align: top;\n",
       "    }\n",
       "\n",
       "    .dataframe thead th {\n",
       "        text-align: right;\n",
       "    }\n",
       "</style>\n",
       "<table border=\"1\" class=\"dataframe\">\n",
       "  <thead>\n",
       "    <tr style=\"text-align: right;\">\n",
       "      <th></th>\n",
       "      <th>date</th>\n",
       "      <th>date_block_num</th>\n",
       "      <th>shop_id</th>\n",
       "      <th>item_id</th>\n",
       "      <th>item_price</th>\n",
       "      <th>item_cnt_day</th>\n",
       "      <th>item_category_id</th>\n",
       "      <th>item_category_name</th>\n",
       "      <th>shop_name</th>\n",
       "    </tr>\n",
       "  </thead>\n",
       "  <tbody>\n",
       "    <tr>\n",
       "      <th>8</th>\n",
       "      <td>2013-01-01</td>\n",
       "      <td>0</td>\n",
       "      <td>54</td>\n",
       "      <td>22092</td>\n",
       "      <td>109.00</td>\n",
       "      <td>5.00</td>\n",
       "      <td>83</td>\n",
       "      <td>Элементы питания</td>\n",
       "      <td>Химки ТЦ \"Мега\"</td>\n",
       "    </tr>\n",
       "    <tr>\n",
       "      <th>69</th>\n",
       "      <td>2013-01-01</td>\n",
       "      <td>0</td>\n",
       "      <td>46</td>\n",
       "      <td>1830</td>\n",
       "      <td>599.00</td>\n",
       "      <td>3.00</td>\n",
       "      <td>30</td>\n",
       "      <td>Игры PC - Стандартные издания</td>\n",
       "      <td>Сергиев Посад ТЦ \"7Я\"</td>\n",
       "    </tr>\n",
       "    <tr>\n",
       "      <th>98</th>\n",
       "      <td>2013-01-01</td>\n",
       "      <td>0</td>\n",
       "      <td>54</td>\n",
       "      <td>13351</td>\n",
       "      <td>70.00</td>\n",
       "      <td>4.00</td>\n",
       "      <td>82</td>\n",
       "      <td>Чистые носители (штучные)</td>\n",
       "      <td>Химки ТЦ \"Мега\"</td>\n",
       "    </tr>\n",
       "    <tr>\n",
       "      <th>238</th>\n",
       "      <td>2013-01-01</td>\n",
       "      <td>0</td>\n",
       "      <td>54</td>\n",
       "      <td>19899</td>\n",
       "      <td>149.00</td>\n",
       "      <td>3.00</td>\n",
       "      <td>40</td>\n",
       "      <td>Кино - DVD</td>\n",
       "      <td>Химки ТЦ \"Мега\"</td>\n",
       "    </tr>\n",
       "    <tr>\n",
       "      <th>300</th>\n",
       "      <td>2013-01-01</td>\n",
       "      <td>0</td>\n",
       "      <td>54</td>\n",
       "      <td>3870</td>\n",
       "      <td>598.83</td>\n",
       "      <td>3.00</td>\n",
       "      <td>30</td>\n",
       "      <td>Игры PC - Стандартные издания</td>\n",
       "      <td>Химки ТЦ \"Мега\"</td>\n",
       "    </tr>\n",
       "    <tr>\n",
       "      <th>...</th>\n",
       "      <td>...</td>\n",
       "      <td>...</td>\n",
       "      <td>...</td>\n",
       "      <td>...</td>\n",
       "      <td>...</td>\n",
       "      <td>...</td>\n",
       "      <td>...</td>\n",
       "      <td>...</td>\n",
       "      <td>...</td>\n",
       "    </tr>\n",
       "    <tr>\n",
       "      <th>2935729</th>\n",
       "      <td>2015-10-31</td>\n",
       "      <td>33</td>\n",
       "      <td>50</td>\n",
       "      <td>17717</td>\n",
       "      <td>1124.75</td>\n",
       "      <td>4.00</td>\n",
       "      <td>79</td>\n",
       "      <td>Служебные</td>\n",
       "      <td>Тюмень ТЦ \"Гудвин\"</td>\n",
       "    </tr>\n",
       "    <tr>\n",
       "      <th>2935733</th>\n",
       "      <td>2015-10-31</td>\n",
       "      <td>33</td>\n",
       "      <td>48</td>\n",
       "      <td>20949</td>\n",
       "      <td>5.00</td>\n",
       "      <td>4.00</td>\n",
       "      <td>71</td>\n",
       "      <td>Подарки - Сумки, Альбомы, Коврики д/мыши</td>\n",
       "      <td>Томск ТРЦ \"Изумрудный Город\"</td>\n",
       "    </tr>\n",
       "    <tr>\n",
       "      <th>2935758</th>\n",
       "      <td>2015-10-31</td>\n",
       "      <td>33</td>\n",
       "      <td>59</td>\n",
       "      <td>19655</td>\n",
       "      <td>299.00</td>\n",
       "      <td>3.00</td>\n",
       "      <td>40</td>\n",
       "      <td>Кино - DVD</td>\n",
       "      <td>Ярославль ТЦ \"Альтаир\"</td>\n",
       "    </tr>\n",
       "    <tr>\n",
       "      <th>2935806</th>\n",
       "      <td>2015-10-31</td>\n",
       "      <td>33</td>\n",
       "      <td>7</td>\n",
       "      <td>9355</td>\n",
       "      <td>349.00</td>\n",
       "      <td>3.00</td>\n",
       "      <td>70</td>\n",
       "      <td>Подарки - Сувениры (в навеску)</td>\n",
       "      <td>Воронеж ТРЦ \"Максимир\"</td>\n",
       "    </tr>\n",
       "    <tr>\n",
       "      <th>2935846</th>\n",
       "      <td>2015-10-31</td>\n",
       "      <td>33</td>\n",
       "      <td>57</td>\n",
       "      <td>20949</td>\n",
       "      <td>5.00</td>\n",
       "      <td>6.00</td>\n",
       "      <td>71</td>\n",
       "      <td>Подарки - Сумки, Альбомы, Коврики д/мыши</td>\n",
       "      <td>Якутск Орджоникидзе, 56</td>\n",
       "    </tr>\n",
       "  </tbody>\n",
       "</table>\n",
       "<p>104920 rows × 9 columns</p>\n",
       "</div>"
      ],
      "text/plain": [
       "              date  date_block_num  shop_id  item_id  item_price  \\\n",
       "8       2013-01-01               0       54    22092      109.00   \n",
       "69      2013-01-01               0       46     1830      599.00   \n",
       "98      2013-01-01               0       54    13351       70.00   \n",
       "238     2013-01-01               0       54    19899      149.00   \n",
       "300     2013-01-01               0       54     3870      598.83   \n",
       "...            ...             ...      ...      ...         ...   \n",
       "2935729 2015-10-31              33       50    17717     1124.75   \n",
       "2935733 2015-10-31              33       48    20949        5.00   \n",
       "2935758 2015-10-31              33       59    19655      299.00   \n",
       "2935806 2015-10-31              33        7     9355      349.00   \n",
       "2935846 2015-10-31              33       57    20949        5.00   \n",
       "\n",
       "         item_cnt_day  item_category_id  \\\n",
       "8                5.00                83   \n",
       "69               3.00                30   \n",
       "98               4.00                82   \n",
       "238              3.00                40   \n",
       "300              3.00                30   \n",
       "...               ...               ...   \n",
       "2935729          4.00                79   \n",
       "2935733          4.00                71   \n",
       "2935758          3.00                40   \n",
       "2935806          3.00                70   \n",
       "2935846          6.00                71   \n",
       "\n",
       "                               item_category_name  \\\n",
       "8                                Элементы питания   \n",
       "69                  Игры PC - Стандартные издания   \n",
       "98                      Чистые носители (штучные)   \n",
       "238                                    Кино - DVD   \n",
       "300                 Игры PC - Стандартные издания   \n",
       "...                                           ...   \n",
       "2935729                                 Служебные   \n",
       "2935733  Подарки - Сумки, Альбомы, Коврики д/мыши   \n",
       "2935758                                Кино - DVD   \n",
       "2935806            Подарки - Сувениры (в навеску)   \n",
       "2935846  Подарки - Сумки, Альбомы, Коврики д/мыши   \n",
       "\n",
       "                            shop_name  \n",
       "8                     Химки ТЦ \"Мега\"  \n",
       "69              Сергиев Посад ТЦ \"7Я\"  \n",
       "98                    Химки ТЦ \"Мега\"  \n",
       "238                   Химки ТЦ \"Мега\"  \n",
       "300                   Химки ТЦ \"Мега\"  \n",
       "...                               ...  \n",
       "2935729            Тюмень ТЦ \"Гудвин\"  \n",
       "2935733  Томск ТРЦ \"Изумрудный Город\"  \n",
       "2935758        Ярославль ТЦ \"Альтаир\"  \n",
       "2935806        Воронеж ТРЦ \"Максимир\"  \n",
       "2935846       Якутск Орджоникидзе, 56  \n",
       "\n",
       "[104920 rows x 9 columns]"
      ]
     },
     "execution_count": 15,
     "metadata": {},
     "output_type": "execute_result"
    }
   ],
   "source": [
    "# we will remove some extreme out layers\n",
    "df[df['item_cnt_day'] > df['item_cnt_day'].quantile(0.95)]"
   ]
  },
  {
   "cell_type": "code",
   "execution_count": 16,
   "id": "f9ab87cf",
   "metadata": {
    "execution": {
     "iopub.execute_input": "2022-06-29T10:19:54.218298Z",
     "iopub.status.busy": "2022-06-29T10:19:54.217904Z",
     "iopub.status.idle": "2022-06-29T10:19:54.243831Z",
     "shell.execute_reply": "2022-06-29T10:19:54.242931Z"
    },
    "papermill": {
     "duration": 0.059013,
     "end_time": "2022-06-29T10:19:54.245918",
     "exception": false,
     "start_time": "2022-06-29T10:19:54.186905",
     "status": "completed"
    },
    "tags": []
   },
   "outputs": [
    {
     "data": {
      "text/html": [
       "<div>\n",
       "<style scoped>\n",
       "    .dataframe tbody tr th:only-of-type {\n",
       "        vertical-align: middle;\n",
       "    }\n",
       "\n",
       "    .dataframe tbody tr th {\n",
       "        vertical-align: top;\n",
       "    }\n",
       "\n",
       "    .dataframe thead th {\n",
       "        text-align: right;\n",
       "    }\n",
       "</style>\n",
       "<table border=\"1\" class=\"dataframe\">\n",
       "  <thead>\n",
       "    <tr style=\"text-align: right;\">\n",
       "      <th></th>\n",
       "      <th>date</th>\n",
       "      <th>date_block_num</th>\n",
       "      <th>shop_id</th>\n",
       "      <th>item_id</th>\n",
       "      <th>item_price</th>\n",
       "      <th>item_cnt_day</th>\n",
       "      <th>item_category_id</th>\n",
       "      <th>item_category_name</th>\n",
       "      <th>shop_name</th>\n",
       "    </tr>\n",
       "  </thead>\n",
       "  <tbody>\n",
       "    <tr>\n",
       "      <th>146</th>\n",
       "      <td>2013-01-01</td>\n",
       "      <td>0</td>\n",
       "      <td>27</td>\n",
       "      <td>12269</td>\n",
       "      <td>1499.00</td>\n",
       "      <td>-1.00</td>\n",
       "      <td>62</td>\n",
       "      <td>Подарки - Гаджеты, роботы, спорт</td>\n",
       "      <td>Москва ТЦ \"МЕГА Белая Дача II\"</td>\n",
       "    </tr>\n",
       "    <tr>\n",
       "      <th>694</th>\n",
       "      <td>2013-01-01</td>\n",
       "      <td>0</td>\n",
       "      <td>18</td>\n",
       "      <td>6724</td>\n",
       "      <td>299.50</td>\n",
       "      <td>-1.00</td>\n",
       "      <td>21</td>\n",
       "      <td>Игры - PSP</td>\n",
       "      <td>Красноярск ТЦ \"Июнь\"</td>\n",
       "    </tr>\n",
       "    <tr>\n",
       "      <th>708</th>\n",
       "      <td>2013-01-01</td>\n",
       "      <td>0</td>\n",
       "      <td>19</td>\n",
       "      <td>20383</td>\n",
       "      <td>1229.00</td>\n",
       "      <td>-1.00</td>\n",
       "      <td>72</td>\n",
       "      <td>Подарки - Фигурки</td>\n",
       "      <td>Курск ТЦ \"Пушкинский\"</td>\n",
       "    </tr>\n",
       "    <tr>\n",
       "      <th>828</th>\n",
       "      <td>2013-01-01</td>\n",
       "      <td>0</td>\n",
       "      <td>19</td>\n",
       "      <td>13086</td>\n",
       "      <td>1499.00</td>\n",
       "      <td>-1.00</td>\n",
       "      <td>62</td>\n",
       "      <td>Подарки - Гаджеты, роботы, спорт</td>\n",
       "      <td>Курск ТЦ \"Пушкинский\"</td>\n",
       "    </tr>\n",
       "    <tr>\n",
       "      <th>959</th>\n",
       "      <td>2013-01-01</td>\n",
       "      <td>0</td>\n",
       "      <td>54</td>\n",
       "      <td>3429</td>\n",
       "      <td>2799.00</td>\n",
       "      <td>-1.00</td>\n",
       "      <td>23</td>\n",
       "      <td>Игры - XBOX 360</td>\n",
       "      <td>Химки ТЦ \"Мега\"</td>\n",
       "    </tr>\n",
       "    <tr>\n",
       "      <th>...</th>\n",
       "      <td>...</td>\n",
       "      <td>...</td>\n",
       "      <td>...</td>\n",
       "      <td>...</td>\n",
       "      <td>...</td>\n",
       "      <td>...</td>\n",
       "      <td>...</td>\n",
       "      <td>...</td>\n",
       "      <td>...</td>\n",
       "    </tr>\n",
       "    <tr>\n",
       "      <th>2933097</th>\n",
       "      <td>2015-10-30</td>\n",
       "      <td>33</td>\n",
       "      <td>22</td>\n",
       "      <td>8546</td>\n",
       "      <td>1299.00</td>\n",
       "      <td>-1.00</td>\n",
       "      <td>42</td>\n",
       "      <td>Книги - Артбуки, энциклопедии</td>\n",
       "      <td>Москва Магазин С21</td>\n",
       "    </tr>\n",
       "    <tr>\n",
       "      <th>2933118</th>\n",
       "      <td>2015-10-30</td>\n",
       "      <td>33</td>\n",
       "      <td>36</td>\n",
       "      <td>10207</td>\n",
       "      <td>1199.00</td>\n",
       "      <td>-1.00</td>\n",
       "      <td>30</td>\n",
       "      <td>Игры PC - Стандартные издания</td>\n",
       "      <td>Новосибирск ТРЦ \"Галерея Новосибирск\"</td>\n",
       "    </tr>\n",
       "    <tr>\n",
       "      <th>2934259</th>\n",
       "      <td>2015-10-31</td>\n",
       "      <td>33</td>\n",
       "      <td>42</td>\n",
       "      <td>16790</td>\n",
       "      <td>2464.00</td>\n",
       "      <td>-1.00</td>\n",
       "      <td>20</td>\n",
       "      <td>Игры - PS4</td>\n",
       "      <td>СПб ТК \"Невский Центр\"</td>\n",
       "    </tr>\n",
       "    <tr>\n",
       "      <th>2934429</th>\n",
       "      <td>2015-10-31</td>\n",
       "      <td>33</td>\n",
       "      <td>38</td>\n",
       "      <td>1846</td>\n",
       "      <td>1199.00</td>\n",
       "      <td>-1.00</td>\n",
       "      <td>23</td>\n",
       "      <td>Игры - XBOX 360</td>\n",
       "      <td>Омск ТЦ \"Мега\"</td>\n",
       "    </tr>\n",
       "    <tr>\n",
       "      <th>2934902</th>\n",
       "      <td>2015-10-31</td>\n",
       "      <td>33</td>\n",
       "      <td>47</td>\n",
       "      <td>4056</td>\n",
       "      <td>2999.00</td>\n",
       "      <td>-1.00</td>\n",
       "      <td>24</td>\n",
       "      <td>Игры - XBOX ONE</td>\n",
       "      <td>Сургут ТРЦ \"Сити Молл\"</td>\n",
       "    </tr>\n",
       "  </tbody>\n",
       "</table>\n",
       "<p>7356 rows × 9 columns</p>\n",
       "</div>"
      ],
      "text/plain": [
       "              date  date_block_num  shop_id  item_id  item_price  \\\n",
       "146     2013-01-01               0       27    12269     1499.00   \n",
       "694     2013-01-01               0       18     6724      299.50   \n",
       "708     2013-01-01               0       19    20383     1229.00   \n",
       "828     2013-01-01               0       19    13086     1499.00   \n",
       "959     2013-01-01               0       54     3429     2799.00   \n",
       "...            ...             ...      ...      ...         ...   \n",
       "2933097 2015-10-30              33       22     8546     1299.00   \n",
       "2933118 2015-10-30              33       36    10207     1199.00   \n",
       "2934259 2015-10-31              33       42    16790     2464.00   \n",
       "2934429 2015-10-31              33       38     1846     1199.00   \n",
       "2934902 2015-10-31              33       47     4056     2999.00   \n",
       "\n",
       "         item_cnt_day  item_category_id                item_category_name  \\\n",
       "146             -1.00                62  Подарки - Гаджеты, роботы, спорт   \n",
       "694             -1.00                21                        Игры - PSP   \n",
       "708             -1.00                72                 Подарки - Фигурки   \n",
       "828             -1.00                62  Подарки - Гаджеты, роботы, спорт   \n",
       "959             -1.00                23                   Игры - XBOX 360   \n",
       "...               ...               ...                               ...   \n",
       "2933097         -1.00                42     Книги - Артбуки, энциклопедии   \n",
       "2933118         -1.00                30     Игры PC - Стандартные издания   \n",
       "2934259         -1.00                20                        Игры - PS4   \n",
       "2934429         -1.00                23                   Игры - XBOX 360   \n",
       "2934902         -1.00                24                   Игры - XBOX ONE   \n",
       "\n",
       "                                     shop_name  \n",
       "146             Москва ТЦ \"МЕГА Белая Дача II\"  \n",
       "694                       Красноярск ТЦ \"Июнь\"  \n",
       "708                      Курск ТЦ \"Пушкинский\"  \n",
       "828                      Курск ТЦ \"Пушкинский\"  \n",
       "959                            Химки ТЦ \"Мега\"  \n",
       "...                                        ...  \n",
       "2933097                     Москва Магазин С21  \n",
       "2933118  Новосибирск ТРЦ \"Галерея Новосибирск\"  \n",
       "2934259                 СПб ТК \"Невский Центр\"  \n",
       "2934429                         Омск ТЦ \"Мега\"  \n",
       "2934902                 Сургут ТРЦ \"Сити Молл\"  \n",
       "\n",
       "[7356 rows x 9 columns]"
      ]
     },
     "execution_count": 16,
     "metadata": {},
     "output_type": "execute_result"
    }
   ],
   "source": [
    "df[df['item_cnt_day'] < 0]"
   ]
  },
  {
   "cell_type": "code",
   "execution_count": 17,
   "id": "fa0014c1",
   "metadata": {
    "execution": {
     "iopub.execute_input": "2022-06-29T10:19:54.307694Z",
     "iopub.status.busy": "2022-06-29T10:19:54.307100Z",
     "iopub.status.idle": "2022-06-29T10:19:54.559573Z",
     "shell.execute_reply": "2022-06-29T10:19:54.558369Z"
    },
    "papermill": {
     "duration": 0.286206,
     "end_time": "2022-06-29T10:19:54.562115",
     "exception": false,
     "start_time": "2022-06-29T10:19:54.275909",
     "status": "completed"
    },
    "tags": []
   },
   "outputs": [
    {
     "name": "stdout",
     "output_type": "stream",
     "text": [
      "shape of data after before outliers: (2935849, 9)\n",
      "Removing values greater that upper_quantile 2.0 and less than 0\n",
      "shape of data after removing outliers: (2928493, 9)\n",
      "Minimum units of product sold a time 1.0\n",
      "Maximum units of product sold a time 2.0\n"
     ]
    }
   ],
   "source": [
    "print(f'shape of data after before outliers: {df.shape}')\n",
    "\n",
    "df = df[df['item_cnt_day'] >= 0]\n",
    "upper_quantile = df['item_cnt_day'].quantile(0.95)\n",
    "\n",
    "print(f'Removing values greater that upper_quantile {upper_quantile} and less than 0')\n",
    "df['item_cnt_day'] = np.where(df['item_cnt_day'] > upper_quantile, upper_quantile, df['item_cnt_day'])\n",
    "\n",
    "print(f'shape of data after removing outliers: {df.shape}')\n",
    "print(f'Minimum units of product sold a time {df[\"item_cnt_day\"].min()}')\n",
    "print(f'Maximum units of product sold a time {df[\"item_cnt_day\"].max()}')"
   ]
  },
  {
   "cell_type": "markdown",
   "id": "9121bfca",
   "metadata": {
    "papermill": {
     "duration": 0.030702,
     "end_time": "2022-06-29T10:19:54.623198",
     "exception": false,
     "start_time": "2022-06-29T10:19:54.592496",
     "status": "completed"
    },
    "tags": []
   },
   "source": [
    "- Most of the items are only sold 1 in quantity. Even 75th percentile value is 1.\n",
    "- We have some values less that zeros which ideally should not present. i.e., the number of units sold cannot be less than or equal to zero.\n",
    "- Also we have some extreme outliers. After some analysis, we decide to remove all those values > 0.95 percentile."
   ]
  },
  {
   "cell_type": "markdown",
   "id": "6782cbbf",
   "metadata": {
    "papermill": {
     "duration": 0.029934,
     "end_time": "2022-06-29T10:19:54.684406",
     "exception": false,
     "start_time": "2022-06-29T10:19:54.654472",
     "status": "completed"
    },
    "tags": []
   },
   "source": [
    "### 2-(3). `item price`"
   ]
  },
  {
   "cell_type": "code",
   "execution_count": 18,
   "id": "d9e03fae",
   "metadata": {
    "execution": {
     "iopub.execute_input": "2022-06-29T10:19:54.746745Z",
     "iopub.status.busy": "2022-06-29T10:19:54.745604Z",
     "iopub.status.idle": "2022-06-29T10:20:06.089473Z",
     "shell.execute_reply": "2022-06-29T10:20:06.088076Z"
    },
    "papermill": {
     "duration": 11.378247,
     "end_time": "2022-06-29T10:20:06.092552",
     "exception": false,
     "start_time": "2022-06-29T10:19:54.714305",
     "status": "completed"
    },
    "tags": []
   },
   "outputs": [
    {
     "data": {
      "image/png": "[encoded data removed]",
      "text/plain": [
       "<Figure size 1080x360 with 2 Axes>"
      ]
     },
     "metadata": {
      "needs_background": "light"
     },
     "output_type": "display_data"
    }
   ],
   "source": [
    "fig,axes = plt.subplots(1,2,figsize=(15,5))\n",
    "sns.boxplot(df['item_price'],ax=axes[0])\n",
    "axes[0].set_title('Boxplot')\n",
    "\n",
    "sns.distplot(df['item_price'],ax=axes[1])\n",
    "axes[1].set_title('Distribution')\n",
    "\n",
    "plt.suptitle('Item Price per unit', fontsize = 20)\n",
    "plt.show()"
   ]
  },
  {
   "cell_type": "code",
   "execution_count": 19,
   "id": "bccea55d",
   "metadata": {
    "execution": {
     "iopub.execute_input": "2022-06-29T10:20:06.155989Z",
     "iopub.status.busy": "2022-06-29T10:20:06.155207Z",
     "iopub.status.idle": "2022-06-29T10:20:06.296088Z",
     "shell.execute_reply": "2022-06-29T10:20:06.294938Z"
    },
    "papermill": {
     "duration": 0.175665,
     "end_time": "2022-06-29T10:20:06.298575",
     "exception": false,
     "start_time": "2022-06-29T10:20:06.122910",
     "status": "completed"
    },
    "tags": []
   },
   "outputs": [
    {
     "data": {
      "text/plain": [
       "count   2928493.00\n",
       "mean        889.47\n",
       "std        1727.50\n",
       "min          -1.00\n",
       "25%         249.00\n",
       "50%         399.00\n",
       "75%         999.00\n",
       "max      307980.00\n",
       "Name: item_price, dtype: float64"
      ]
     },
     "execution_count": 19,
     "metadata": {},
     "output_type": "execute_result"
    }
   ],
   "source": [
    "df['item_price'].describe()"
   ]
  },
  {
   "cell_type": "markdown",
   "id": "1c260d23",
   "metadata": {
    "papermill": {
     "duration": 0.03036,
     "end_time": "2022-06-29T10:20:06.359606",
     "exception": false,
     "start_time": "2022-06-29T10:20:06.329246",
     "status": "completed"
    },
    "tags": []
   },
   "source": [
    "- Item price < 0 is not acceptable."
   ]
  },
  {
   "cell_type": "code",
   "execution_count": 20,
   "id": "b828b8fa",
   "metadata": {
    "execution": {
     "iopub.execute_input": "2022-06-29T10:20:06.422314Z",
     "iopub.status.busy": "2022-06-29T10:20:06.421947Z",
     "iopub.status.idle": "2022-06-29T10:20:07.511373Z",
     "shell.execute_reply": "2022-06-29T10:20:07.510112Z"
    },
    "papermill": {
     "duration": 1.123723,
     "end_time": "2022-06-29T10:20:07.513816",
     "exception": false,
     "start_time": "2022-06-29T10:20:06.390093",
     "status": "completed"
    },
    "tags": []
   },
   "outputs": [
    {
     "name": "stdout",
     "output_type": "stream",
     "text": [
      "0th percentile value for item_price is -1.0\n",
      "10th percentile value for item_price is 149.0\n",
      "20th percentile value for item_price is 199.0\n",
      "30th percentile value for item_price is 299.0\n",
      "40th percentile value for item_price is 349.0\n",
      "50th percentile value for item_price is 399.0\n",
      "60th percentile value for item_price is 599.0\n",
      "70th percentile value for item_price is 799.0\n",
      "80th percentile value for item_price is 1199.0\n",
      "90th percentile value for item_price is 1999.0\n",
      "100th percentile value for item_price is 307980.0\n",
      "----------------------------------------------------------------------------------------------------\n",
      "90th percentile value for item_price is 1999.0\n",
      "91th percentile value for item_price is 2072.0\n",
      "92th percentile value for item_price is 2299.0\n",
      "93th percentile value for item_price is 2499.0\n",
      "94th percentile value for item_price is 2599.0\n",
      "95th percentile value for item_price is 2683.561999999853\n",
      "96th percentile value for item_price is 2999.0\n",
      "97th percentile value for item_price is 3190.0\n",
      "98th percentile value for item_price is 3590.0\n",
      "99th percentile value for item_price is 5999.0\n",
      "----------------------------------------------------------------------------------------------------\n",
      "99.1th percentile value for item_price is 6999.0\n",
      "99.2th percentile value for item_price is 8500.0\n",
      "99.3th percentile value for item_price is 9990.0\n",
      "99.4th percentile value for item_price is 11490.0\n",
      "99.5th percentile value for item_price is 13490.0\n",
      "99.6th percentile value for item_price is 14489.5\n",
      "99.7th percentile value for item_price is 17990.0\n",
      "99.8th percentile value for item_price is 20990.0\n",
      "99.9th percentile value for item_price is 23990.0\n"
     ]
    }
   ],
   "source": [
    "# Let us print percentile values\n",
    "for i in range(0,101,10):\n",
    "    print(f'{i}th percentile value for item_price is {np.percentile(df[\"item_price\"],i)}')\n",
    "    \n",
    "print('--'*50)\n",
    "\n",
    "for i in range(90,100):\n",
    "    print(f'{i}th percentile value for item_price is {np.percentile(df[\"item_price\"],i)}')\n",
    "    \n",
    "print('--'*50)\n",
    "\n",
    "for i in range(1,10):\n",
    "    k = 99 + i/10 \n",
    "    print(f'{k}th percentile value for item_price is {np.percentile(df[\"item_price\"],k)}')"
   ]
  },
  {
   "cell_type": "code",
   "execution_count": 21,
   "id": "63799ca5",
   "metadata": {
    "execution": {
     "iopub.execute_input": "2022-06-29T10:20:07.577356Z",
     "iopub.status.busy": "2022-06-29T10:20:07.576678Z",
     "iopub.status.idle": "2022-06-29T10:20:07.847141Z",
     "shell.execute_reply": "2022-06-29T10:20:07.845516Z"
    },
    "papermill": {
     "duration": 0.30563,
     "end_time": "2022-06-29T10:20:07.850244",
     "exception": false,
     "start_time": "2022-06-29T10:20:07.544614",
     "status": "completed"
    },
    "tags": []
   },
   "outputs": [
    {
     "name": "stdout",
     "output_type": "stream",
     "text": [
      "shape of data before removing outliers: (2928493, 9)\n",
      "shape of data after removing outliers: (2928492, 9)\n",
      "Minimum price of a single item 0.07\n",
      "Maximum price ofa single item 2683.6409999995585\n"
     ]
    }
   ],
   "source": [
    "# we have an extreme outlier value in item price. Let us remove it\n",
    "\n",
    "print(f'shape of data before removing outliers: {df.shape}')\n",
    "df = df[df['item_price'] >= 0]\n",
    "upper_quantile = df['item_price'].quantile(0.95)\n",
    "df['item_price'] = np.where(df['item_price'] > upper_quantile, upper_quantile, df['item_price'])\n",
    "print(f'shape of data after removing outliers: {df.shape}')\n",
    "\n",
    "print(f'Minimum price of a single item {df[\"item_price\"].min()}')\n",
    "print(f'Maximum price ofa single item {df[\"item_price\"].max()}')"
   ]
  },
  {
   "cell_type": "markdown",
   "id": "8970666c",
   "metadata": {
    "papermill": {
     "duration": 0.031037,
     "end_time": "2022-06-29T10:20:07.912499",
     "exception": false,
     "start_time": "2022-06-29T10:20:07.881462",
     "status": "completed"
    },
    "tags": []
   },
   "source": [
    "- We have some item price less that zeros which ideally should not present.\n",
    "- Also we have some extreme outliers. After some analysis, we decide to remove all those values > 0.95 percentile similar to `item_cnt_day`.\n",
    "- After removing outliers, We have some products with price low as 0.07 (Might be some chocolate). Also we have some item which costs about 2683 (Might be a chair)"
   ]
  },
  {
   "cell_type": "markdown",
   "id": "f242170a",
   "metadata": {
    "papermill": {
     "duration": 0.036879,
     "end_time": "2022-06-29T10:20:07.980589",
     "exception": false,
     "start_time": "2022-06-29T10:20:07.943710",
     "status": "completed"
    },
    "tags": []
   },
   "source": [
    "- There might be price change for the same item in different shops. So let us consider price development of sample of items in the same shop."
   ]
  },
  {
   "cell_type": "code",
   "execution_count": 22,
   "id": "f73d0a97",
   "metadata": {
    "execution": {
     "iopub.execute_input": "2022-06-29T10:20:08.049383Z",
     "iopub.status.busy": "2022-06-29T10:20:08.048945Z",
     "iopub.status.idle": "2022-06-29T10:20:08.770541Z",
     "shell.execute_reply": "2022-06-29T10:20:08.769582Z"
    },
    "papermill": {
     "duration": 0.759236,
     "end_time": "2022-06-29T10:20:08.773184",
     "exception": false,
     "start_time": "2022-06-29T10:20:08.013948",
     "status": "completed"
    },
    "tags": []
   },
   "outputs": [
    {
     "data": {
      "image/png": "[encoded data removed]",
      "text/plain": [
       "<Figure size 1800x576 with 1 Axes>"
      ]
     },
     "metadata": {
      "needs_background": "light"
     },
     "output_type": "display_data"
    }
   ],
   "source": [
    "df_tmp = df[df['shop_id'] == 31][['date','item_id','item_price']].reset_index(drop=True)\n",
    "items = df_tmp['item_id'].unique()[0:8]\n",
    "\n",
    "fig,axes = plt.subplots(1,1,figsize=(25,8))\n",
    "colors = ['red','orange','blue','green','yellow','purple','cyan','brown']\n",
    "for i,item in enumerate(items):\n",
    "    dprice = df_tmp[df_tmp['item_id'] == item][['item_price','date']]\n",
    "    \n",
    "    sns.lineplot(x=dprice['date'],y=dprice['item_price'],ax=axes,color=colors[i],label=item)\n",
    "    \n",
    "axes.set_title('Price development of items - shop_id 31',fontsize=\"28\")\n",
    "axes.legend()\n",
    "plt.show()"
   ]
  },
  {
   "cell_type": "code",
   "execution_count": 23,
   "id": "86a28b34",
   "metadata": {
    "execution": {
     "iopub.execute_input": "2022-06-29T10:20:08.841845Z",
     "iopub.status.busy": "2022-06-29T10:20:08.841181Z",
     "iopub.status.idle": "2022-06-29T10:20:09.515059Z",
     "shell.execute_reply": "2022-06-29T10:20:09.513860Z"
    },
    "papermill": {
     "duration": 0.711453,
     "end_time": "2022-06-29T10:20:09.517569",
     "exception": false,
     "start_time": "2022-06-29T10:20:08.806116",
     "status": "completed"
    },
    "tags": []
   },
   "outputs": [
    {
     "data": {
      "image/png": "[encoded data removed]",
      "text/plain": [
       "<Figure size 1800x576 with 1 Axes>"
      ]
     },
     "metadata": {
      "needs_background": "light"
     },
     "output_type": "display_data"
    }
   ],
   "source": [
    "df_tmp = df[df['shop_id'] == 28][['date','item_id','item_price']].reset_index(drop=True)\n",
    "items = df_tmp['item_id'].unique()[0:8]\n",
    "\n",
    "fig,axes = plt.subplots(1,1,figsize=(25,8))\n",
    "colors = ['red','orange','blue','green','yellow','purple','cyan','brown']\n",
    "for i,item in enumerate(items):\n",
    "    dprice = df_tmp[df_tmp['item_id'] == item][['item_price','date']]\n",
    "    \n",
    "    sns.lineplot(x=dprice['date'],y=dprice['item_price'],ax=axes,color=colors[i],label=item)\n",
    "    \n",
    "axes.set_title('Price development of items - shop_id 28',fontsize=\"28\")\n",
    "axes.legend()\n",
    "plt.show()"
   ]
  },
  {
   "cell_type": "code",
   "execution_count": 24,
   "id": "aa554d62",
   "metadata": {
    "execution": {
     "iopub.execute_input": "2022-06-29T10:20:09.586511Z",
     "iopub.status.busy": "2022-06-29T10:20:09.586128Z",
     "iopub.status.idle": "2022-06-29T10:20:10.241845Z",
     "shell.execute_reply": "2022-06-29T10:20:10.240752Z"
    },
    "papermill": {
     "duration": 0.693323,
     "end_time": "2022-06-29T10:20:10.244175",
     "exception": false,
     "start_time": "2022-06-29T10:20:09.550852",
     "status": "completed"
    },
    "tags": []
   },
   "outputs": [
    {
     "data": {
      "image/png": "[encoded data removed]",
      "text/plain": [
       "<Figure size 1800x576 with 1 Axes>"
      ]
     },
     "metadata": {
      "needs_background": "light"
     },
     "output_type": "display_data"
    }
   ],
   "source": [
    "df_tmp = df[df['shop_id'] == 21][['date','item_id','item_price']].reset_index(drop=True)\n",
    "items = df_tmp['item_id'].unique()[0:8]\n",
    "\n",
    "fig,axes = plt.subplots(1,1,figsize=(25,8))\n",
    "colors = ['red','orange','blue','green','yellow','purple','cyan','brown']\n",
    "for i,item in enumerate(items):\n",
    "    dprice = df_tmp[df_tmp['item_id'] == item][['item_price','date']]\n",
    "    \n",
    "    sns.lineplot(x=dprice['date'],y=dprice['item_price'],ax=axes,color=colors[i],label=item)\n",
    "    \n",
    "axes.set_title('Price development of items - shop_id 21',fontsize=\"28\")\n",
    "axes.legend()\n",
    "plt.show()"
   ]
  },
  {
   "cell_type": "markdown",
   "id": "8f8ac031",
   "metadata": {
    "papermill": {
     "duration": 0.034093,
     "end_time": "2022-06-29T10:20:10.312916",
     "exception": false,
     "start_time": "2022-06-29T10:20:10.278823",
     "status": "completed"
    },
    "tags": []
   },
   "source": [
    "- We can see that price of the same item is not same over the time (for some items).\n",
    "- Some items are also **not** selling on shops after some time.\n",
    "- It increases and decreases over time.\n",
    "- During feature engineering it may be useful, if we can flag some items whose price remain constant over time.\n",
    "- Here we can see that item price is **dependent on time**."
   ]
  },
  {
   "cell_type": "markdown",
   "id": "e4c1957e",
   "metadata": {
    "papermill": {
     "duration": 0.035583,
     "end_time": "2022-06-29T10:20:10.382860",
     "exception": false,
     "start_time": "2022-06-29T10:20:10.347277",
     "status": "completed"
    },
    "tags": []
   },
   "source": [
    "- How sales distribution looks for a single day. Before that let us create a **new feature** which is the turn over for an item.\n",
    "- We can consider it as total sales for an item from a particular shop on a particular day."
   ]
  },
  {
   "cell_type": "code",
   "execution_count": 25,
   "id": "1a77c9af",
   "metadata": {
    "execution": {
     "iopub.execute_input": "2022-06-29T10:20:10.454655Z",
     "iopub.status.busy": "2022-06-29T10:20:10.453613Z",
     "iopub.status.idle": "2022-06-29T10:20:10.468717Z",
     "shell.execute_reply": "2022-06-29T10:20:10.467642Z"
    },
    "papermill": {
     "duration": 0.053669,
     "end_time": "2022-06-29T10:20:10.471332",
     "exception": false,
     "start_time": "2022-06-29T10:20:10.417663",
     "status": "completed"
    },
    "tags": []
   },
   "outputs": [],
   "source": [
    "# creating a new feature\n",
    "df['Sales_per_item'] = df['item_cnt_day'] * df['item_price']"
   ]
  },
  {
   "cell_type": "code",
   "execution_count": 26,
   "id": "e7e2dd57",
   "metadata": {
    "execution": {
     "iopub.execute_input": "2022-06-29T10:20:10.543636Z",
     "iopub.status.busy": "2022-06-29T10:20:10.542953Z",
     "iopub.status.idle": "2022-06-29T10:20:34.703995Z",
     "shell.execute_reply": "2022-06-29T10:20:34.702534Z"
    },
    "papermill": {
     "duration": 24.201601,
     "end_time": "2022-06-29T10:20:34.707198",
     "exception": false,
     "start_time": "2022-06-29T10:20:10.505597",
     "status": "completed"
    },
    "tags": []
   },
   "outputs": [
    {
     "data": {
      "image/png": "[encoded data removed]",
      "text/plain": [
       "<Figure size 1800x504 with 3 Axes>"
      ]
     },
     "metadata": {
      "needs_background": "light"
     },
     "output_type": "display_data"
    }
   ],
   "source": [
    "fig = plt.figure(figsize=(25,7))\n",
    "gs = fig.add_gridspec(1, 3)\n",
    "ax00 = fig.add_subplot(gs[0,0])\n",
    "ax01 = fig.add_subplot(gs[0,1])\n",
    "ax02 = fig.add_subplot(gs[0,2])\n",
    "\n",
    "# setting size of xlabel and ylabel\n",
    "ax00.tick_params(axis='both', labelsize=15)\n",
    "ax01.tick_params(axis='both', labelsize=15)\n",
    "ax02.tick_params(axis='both', labelsize=15)\n",
    "ax00.set_title('Sales per item', fontsize=20)\n",
    "ax01.set_title('Item price distribution', fontsize=20)\n",
    "ax02.set_title('Item count distribution', fontsize=20)\n",
    "\n",
    "sns.histplot(data = df ,x=\"Sales_per_item\", kde=True, bins=50,ax=ax00, color=\"violet\")\n",
    "sns.histplot(data = df ,x=\"item_price\", kde=True, ax=ax01, bins=50, color=\"tomato\")\n",
    "sns.histplot(data = df ,x=\"item_cnt_day\", kde=False, ax=ax02, bins=20, color=\"cornflowerblue\")\n",
    "\n",
    "fig.subplots_adjust(top=0.8)\n",
    "fig.suptitle('Sales Feature Distributions per Day', fontsize=\"28\");"
   ]
  },
  {
   "cell_type": "markdown",
   "id": "3932b89c",
   "metadata": {
    "papermill": {
     "duration": 0.035826,
     "end_time": "2022-06-29T10:20:34.779329",
     "exception": false,
     "start_time": "2022-06-29T10:20:34.743503",
     "status": "completed"
    },
    "tags": []
   },
   "source": [
    "- We are looking at sales figure on daily basis. It is **different from our target** distribution\n",
    "- In **most of the days only 1 item is sold**.\n",
    "- We are also getting a clear idea on price range (after removing top 5% items.)"
   ]
  },
  {
   "cell_type": "markdown",
   "id": "e3b94b8d",
   "metadata": {
    "papermill": {
     "duration": 0.036302,
     "end_time": "2022-06-29T10:20:34.853010",
     "exception": false,
     "start_time": "2022-06-29T10:20:34.816708",
     "status": "completed"
    },
    "tags": []
   },
   "source": [
    "### 2-(4). `Shop_id`, `item_id` and `item_category_id`"
   ]
  },
  {
   "cell_type": "markdown",
   "id": "dd391d70",
   "metadata": {
    "papermill": {
     "duration": 0.03714,
     "end_time": "2022-06-29T10:20:34.926308",
     "exception": false,
     "start_time": "2022-06-29T10:20:34.889168",
     "status": "completed"
    },
    "tags": []
   },
   "source": [
    "- Do all `shop id`,`item id` and their pair present in test data present in train data and viceversa?"
   ]
  },
  {
   "cell_type": "code",
   "execution_count": 27,
   "id": "8d4e43f5",
   "metadata": {
    "execution": {
     "iopub.execute_input": "2022-06-29T10:20:34.999791Z",
     "iopub.status.busy": "2022-06-29T10:20:34.999409Z",
     "iopub.status.idle": "2022-06-29T10:20:35.052084Z",
     "shell.execute_reply": "2022-06-29T10:20:35.050576Z"
    },
    "papermill": {
     "duration": 0.093539,
     "end_time": "2022-06-29T10:20:35.055726",
     "exception": false,
     "start_time": "2022-06-29T10:20:34.962187",
     "status": "completed"
    },
    "tags": []
   },
   "outputs": [
    {
     "name": "stdout",
     "output_type": "stream",
     "text": [
      "There are about 60 unique shop ids in train data and 42 shop ids in test data\n",
      "There are about 21804 unique item ids in train data and 5100 item ids in test data\n"
     ]
    }
   ],
   "source": [
    "train_shop_ids = set(df['shop_id'].unique())\n",
    "test_shop_ids = set(df_test['shop_id'].unique())\n",
    "\n",
    "train_item_ids = set(df['item_id'].unique())\n",
    "test_item_ids = set(df_test['item_id'].unique())\n",
    "\n",
    "print(f'There are about {len(train_shop_ids)} unique shop ids in train data and {len(test_shop_ids)} shop ids in test data')\n",
    "print(f'There are about {len(train_item_ids)} unique item ids in train data and {len(test_item_ids)} item ids in test data')"
   ]
  },
  {
   "cell_type": "code",
   "execution_count": 28,
   "id": "20f3474e",
   "metadata": {
    "execution": {
     "iopub.execute_input": "2022-06-29T10:20:35.131645Z",
     "iopub.status.busy": "2022-06-29T10:20:35.131253Z",
     "iopub.status.idle": "2022-06-29T10:21:42.684132Z",
     "shell.execute_reply": "2022-06-29T10:21:42.682752Z"
    },
    "papermill": {
     "duration": 67.629926,
     "end_time": "2022-06-29T10:21:42.722593",
     "exception": false,
     "start_time": "2022-06-29T10:20:35.092667",
     "status": "completed"
    },
    "tags": []
   },
   "outputs": [
    {
     "name": "stdout",
     "output_type": "stream",
     "text": [
      "There are 18 shop ids present in train data which are not in test data\n",
      "There are 17067 item ids present in train data which are not in test data\n",
      "There are 312694 shop id item id pairs present in train data which are not in test data\n",
      "----------------------------------------------------------------------------------------------------\n",
      "There are 363 item ids present in test data which are not in train data\n",
      "There are 0 shop ids present in test data which are not in train data\n",
      "There are 102796 shop id item id pairs present in test data which are not in train data\n"
     ]
    }
   ],
   "source": [
    "df['pair'] = df[['shop_id','item_id']].apply(lambda x: str(x['shop_id'])+'_'+str(x['item_id']),axis=1)\n",
    "df_test['pair'] = df_test[['shop_id','item_id']].apply(lambda x: str(x['shop_id'])+'_'+str(x['item_id']),axis=1)\n",
    "train_pair_ids = set(df['pair'].unique())\n",
    "test_pair_ids = set(df_test['pair'].unique())\n",
    "\n",
    "print(f'There are {len(train_shop_ids - test_shop_ids)} shop ids present in train data which are not in test data')\n",
    "print(f'There are {len(train_item_ids - test_item_ids)} item ids present in train data which are not in test data')\n",
    "print(f'There are {len(train_pair_ids - test_pair_ids)} shop id item id pairs present in train data which are not in test data')\n",
    "\n",
    "print('--'*50)\n",
    "\n",
    "print(f'There are {len(test_item_ids - train_item_ids)} item ids present in test data which are not in train data')\n",
    "print(f'There are {len(test_shop_ids - train_shop_ids)} shop ids present in test data which are not in train data')\n",
    "print(f'There are {len(test_pair_ids - train_pair_ids)} shop id item id pairs present in test data which are not in train data')"
   ]
  },
  {
   "cell_type": "markdown",
   "id": "cd85af79",
   "metadata": {
    "papermill": {
     "duration": 0.037228,
     "end_time": "2022-06-29T10:21:42.796747",
     "exception": false,
     "start_time": "2022-06-29T10:21:42.759519",
     "status": "completed"
    },
    "tags": []
   },
   "source": [
    "- We have about 60 unique shop ids 21807 unique item ids present in train data\n",
    "- **All shop ids in test data is present in train data**\n",
    "- **About 363 item ids present in test data is not present in train data**. So we have approximatly 363*60(no of unique shop ids)=102796 pairs which are note present in train data. So we can say that our model needs to be robust to capture this unseen patterns."
   ]
  },
  {
   "cell_type": "markdown",
   "id": "2618fb42",
   "metadata": {
    "papermill": {
     "duration": 0.036871,
     "end_time": "2022-06-29T10:21:42.870365",
     "exception": false,
     "start_time": "2022-06-29T10:21:42.833494",
     "status": "completed"
    },
    "tags": []
   },
   "source": [
    "- Which `shop id`, `item id` and `item category id` have maximum sales?"
   ]
  },
  {
   "cell_type": "code",
   "execution_count": 29,
   "id": "2a8514cc",
   "metadata": {
    "execution": {
     "iopub.execute_input": "2022-06-29T10:21:42.943993Z",
     "iopub.status.busy": "2022-06-29T10:21:42.943597Z",
     "iopub.status.idle": "2022-06-29T10:21:43.359135Z",
     "shell.execute_reply": "2022-06-29T10:21:43.357964Z"
    },
    "papermill": {
     "duration": 0.455942,
     "end_time": "2022-06-29T10:21:43.361816",
     "exception": false,
     "start_time": "2022-06-29T10:21:42.905874",
     "status": "completed"
    },
    "tags": []
   },
   "outputs": [
    {
     "name": "stdout",
     "output_type": "stream",
     "text": [
      "Total number of unique shop ids: 60\n"
     ]
    }
   ],
   "source": [
    "print(f'Total number of unique shop ids: {df[\"shop_id\"].nunique()}')\n",
    "df_tmp = df[[\"shop_id\",\"Sales_per_item\",\"item_cnt_day\"]]\n",
    "df_tmp= pd.pivot_table(data=df_tmp,index=[\"shop_id\"],aggfunc={\"item_cnt_day\":np.sum,\"Sales_per_item\":np.sum}).reset_index()"
   ]
  },
  {
   "cell_type": "code",
   "execution_count": 30,
   "id": "f0b0416b",
   "metadata": {
    "execution": {
     "iopub.execute_input": "2022-06-29T10:21:43.437296Z",
     "iopub.status.busy": "2022-06-29T10:21:43.436481Z",
     "iopub.status.idle": "2022-06-29T10:21:45.170493Z",
     "shell.execute_reply": "2022-06-29T10:21:45.169309Z"
    },
    "papermill": {
     "duration": 1.77436,
     "end_time": "2022-06-29T10:21:45.173122",
     "exception": false,
     "start_time": "2022-06-29T10:21:43.398762",
     "status": "completed"
    },
    "tags": []
   },
   "outputs": [
    {
     "data": {
      "image/png": "[encoded data removed]",
      "text/plain": [
       "<Figure size 1440x720 with 2 Axes>"
      ]
     },
     "metadata": {
      "needs_background": "light"
     },
     "output_type": "display_data"
    }
   ],
   "source": [
    "fig, axes = plt.subplots(2,1,figsize=(20,10))\n",
    "sns.barplot(x=df_tmp[\"shop_id\"],y=df_tmp[\"item_cnt_day\"],ax=axes[0])\n",
    "axes[0].set_title(\"Total number of units sold among various shops\")\n",
    "sns.barplot(x=df_tmp[\"shop_id\"],y=df_tmp[\"Sales_per_item\"],ax=axes[1])\n",
    "axes[1].set_title('Total turn over in various shops')\n",
    "plt.suptitle('Shop id', fontsize=\"28\")\n",
    "plt.show()"
   ]
  },
  {
   "cell_type": "code",
   "execution_count": 31,
   "id": "7b3e09d0",
   "metadata": {
    "execution": {
     "iopub.execute_input": "2022-06-29T10:21:45.251818Z",
     "iopub.status.busy": "2022-06-29T10:21:45.251379Z",
     "iopub.status.idle": "2022-06-29T10:21:45.403346Z",
     "shell.execute_reply": "2022-06-29T10:21:45.401552Z"
    },
    "papermill": {
     "duration": 0.195722,
     "end_time": "2022-06-29T10:21:45.405902",
     "exception": false,
     "start_time": "2022-06-29T10:21:45.210180",
     "status": "completed"
    },
    "tags": []
   },
   "outputs": [
    {
     "name": "stdout",
     "output_type": "stream",
     "text": [
      "Total number of unique item ids: 21804\n"
     ]
    }
   ],
   "source": [
    "print(f'Total number of unique item ids: {df[\"item_id\"].nunique()}')\n",
    "\n",
    "df_tmp = df[[\"item_id\",\"Sales_per_item\",\"item_cnt_day\"]]\n",
    "df_tmp= pd.pivot_table(data=df_tmp,index=[\"item_id\"],aggfunc={\"item_cnt_day\":np.sum,\"Sales_per_item\":np.sum}).reset_index()\n",
    "df_tmp_sales = df_tmp.sort_values(by=['Sales_per_item'],ascending=False).head(50).reset_index(drop=True)\n",
    "df_tmp_count = df_tmp.sort_values(by=['item_cnt_day'],ascending=False).head(50).reset_index(drop=True)"
   ]
  },
  {
   "cell_type": "code",
   "execution_count": 32,
   "id": "b463dc60",
   "metadata": {
    "execution": {
     "iopub.execute_input": "2022-06-29T10:21:45.482191Z",
     "iopub.status.busy": "2022-06-29T10:21:45.481800Z",
     "iopub.status.idle": "2022-06-29T10:21:46.850011Z",
     "shell.execute_reply": "2022-06-29T10:21:46.848849Z"
    },
    "papermill": {
     "duration": 1.409471,
     "end_time": "2022-06-29T10:21:46.852344",
     "exception": false,
     "start_time": "2022-06-29T10:21:45.442873",
     "status": "completed"
    },
    "tags": []
   },
   "outputs": [
    {
     "data": {
      "image/png": "[encoded data removed]",
      "text/plain": [
       "<Figure size 1440x1080 with 2 Axes>"
      ]
     },
     "metadata": {
      "needs_background": "light"
     },
     "output_type": "display_data"
    }
   ],
   "source": [
    "fig, axes = plt.subplots(2,1,figsize=(20,15))\n",
    "sns.barplot(x=df_tmp_count[\"item_id\"],y=df_tmp_count[\"item_cnt_day\"],ax=axes[0])\n",
    "axes[0].set_title(\"Top selling items of no of units sold\")\n",
    "axes[0].set_xticklabels(axes[0].get_xticklabels(),rotation=45)\n",
    "sns.barplot(x=df_tmp_sales[\"item_id\"],y=df_tmp_sales[\"Sales_per_item\"],ax=axes[1])\n",
    "axes[1].set_title('Top selling items in terms of Turn over')\n",
    "axes[1].set_xticklabels(axes[1].get_xticklabels(),rotation=45)\n",
    "plt.suptitle('Item id', fontsize=\"28\")\n",
    "plt.show()"
   ]
  },
  {
   "cell_type": "code",
   "execution_count": 33,
   "id": "d4d43454",
   "metadata": {
    "execution": {
     "iopub.execute_input": "2022-06-29T10:21:46.930785Z",
     "iopub.status.busy": "2022-06-29T10:21:46.929712Z",
     "iopub.status.idle": "2022-06-29T10:21:47.039988Z",
     "shell.execute_reply": "2022-06-29T10:21:47.038293Z"
    },
    "papermill": {
     "duration": 0.152473,
     "end_time": "2022-06-29T10:21:47.042574",
     "exception": false,
     "start_time": "2022-06-29T10:21:46.890101",
     "status": "completed"
    },
    "tags": []
   },
   "outputs": [
    {
     "name": "stdout",
     "output_type": "stream",
     "text": [
      "Total number of unique item categorical ids: 84\n"
     ]
    }
   ],
   "source": [
    "print(f'Total number of unique item categorical ids: {df[\"item_category_id\"].nunique()}')\n",
    "\n",
    "df_tmp = df[[\"item_category_id\",\"Sales_per_item\",\"item_cnt_day\"]]\n",
    "df_tmp= pd.pivot_table(data=df_tmp,index=[\"item_category_id\"],aggfunc={\"item_cnt_day\":np.sum,\"Sales_per_item\":np.sum}).reset_index()\n",
    "df_tmp_sales = df_tmp.sort_values(by=['Sales_per_item'],ascending=False).head(50).reset_index(drop=True)\n",
    "df_tmp_count = df_tmp.sort_values(by=['item_cnt_day'],ascending=False).head(50).reset_index(drop=True)"
   ]
  },
  {
   "cell_type": "code",
   "execution_count": 34,
   "id": "894b5eff",
   "metadata": {
    "execution": {
     "iopub.execute_input": "2022-06-29T10:21:47.120647Z",
     "iopub.status.busy": "2022-06-29T10:21:47.120288Z",
     "iopub.status.idle": "2022-06-29T10:21:48.408471Z",
     "shell.execute_reply": "2022-06-29T10:21:48.407021Z"
    },
    "papermill": {
     "duration": 1.330903,
     "end_time": "2022-06-29T10:21:48.411329",
     "exception": false,
     "start_time": "2022-06-29T10:21:47.080426",
     "status": "completed"
    },
    "tags": []
   },
   "outputs": [
    {
     "data": {
      "image/png": "[encoded data removed]",
      "text/plain": [
       "<Figure size 1440x1080 with 2 Axes>"
      ]
     },
     "metadata": {
      "needs_background": "light"
     },
     "output_type": "display_data"
    }
   ],
   "source": [
    "fig, axes = plt.subplots(2,1,figsize=(20,15))\n",
    "sns.barplot(x=df_tmp_count[\"item_category_id\"],y=df_tmp_count[\"item_cnt_day\"],ax=axes[0])\n",
    "axes[0].set_title(\"Top selling items of no of units sold\")\n",
    "axes[0].set_xticklabels(axes[0].get_xticklabels(),rotation=45)\n",
    "sns.barplot(x=df_tmp_sales[\"item_category_id\"],y=df_tmp_sales[\"Sales_per_item\"],ax=axes[1])\n",
    "axes[1].set_title('Top selling items in terms of Turn over')\n",
    "axes[1].set_xticklabels(axes[1].get_xticklabels(),rotation=45)\n",
    "plt.suptitle('Item Categorical id', fontsize=\"28\")\n",
    "plt.show()\n",
    "del df_tmp,df_tmp_count,df_tmp_sales"
   ]
  },
  {
   "cell_type": "markdown",
   "id": "dd4d717a",
   "metadata": {
    "papermill": {
     "duration": 0.038469,
     "end_time": "2022-06-29T10:21:48.489256",
     "exception": false,
     "start_time": "2022-06-29T10:21:48.450787",
     "status": "completed"
    },
    "tags": []
   },
   "source": [
    "- We have maxium units sold as well as maxiumum sales in shop id 31.\n",
    "- We have maximum units sold for item 20949. But maximum sales in terms of Turn over is for item number 3732. Its more over like selling of chocolate and television.\n",
    "- Similarly for item categories, we have maximum number of unit sold for item_category_id 40 while maximum sales in terms of turn over occured to category id 19."
   ]
  },
  {
   "cell_type": "markdown",
   "id": "10abeb0b",
   "metadata": {
    "papermill": {
     "duration": 0.039532,
     "end_time": "2022-06-29T10:21:48.568442",
     "exception": false,
     "start_time": "2022-06-29T10:21:48.528910",
     "status": "completed"
    },
    "tags": []
   },
   "source": [
    "- Do an item belongs to single category or not?"
   ]
  },
  {
   "cell_type": "code",
   "execution_count": 35,
   "id": "002f6c57",
   "metadata": {
    "execution": {
     "iopub.execute_input": "2022-06-29T10:21:48.648914Z",
     "iopub.status.busy": "2022-06-29T10:21:48.648484Z",
     "iopub.status.idle": "2022-06-29T10:21:49.586350Z",
     "shell.execute_reply": "2022-06-29T10:21:49.584944Z"
    },
    "papermill": {
     "duration": 0.980762,
     "end_time": "2022-06-29T10:21:49.588842",
     "exception": false,
     "start_time": "2022-06-29T10:21:48.608080",
     "status": "completed"
    },
    "tags": []
   },
   "outputs": [
    {
     "data": {
      "text/html": [
       "<div>\n",
       "<style scoped>\n",
       "    .dataframe tbody tr th:only-of-type {\n",
       "        vertical-align: middle;\n",
       "    }\n",
       "\n",
       "    .dataframe tbody tr th {\n",
       "        vertical-align: top;\n",
       "    }\n",
       "\n",
       "    .dataframe thead th {\n",
       "        text-align: right;\n",
       "    }\n",
       "</style>\n",
       "<table border=\"1\" class=\"dataframe\">\n",
       "  <thead>\n",
       "    <tr style=\"text-align: right;\">\n",
       "      <th></th>\n",
       "      <th>item_id</th>\n",
       "      <th>item_category_id</th>\n",
       "    </tr>\n",
       "  </thead>\n",
       "  <tbody>\n",
       "    <tr>\n",
       "      <th>0</th>\n",
       "      <td>0</td>\n",
       "      <td>1</td>\n",
       "    </tr>\n",
       "    <tr>\n",
       "      <th>1</th>\n",
       "      <td>1</td>\n",
       "      <td>1</td>\n",
       "    </tr>\n",
       "    <tr>\n",
       "      <th>2</th>\n",
       "      <td>2</td>\n",
       "      <td>1</td>\n",
       "    </tr>\n",
       "    <tr>\n",
       "      <th>3</th>\n",
       "      <td>3</td>\n",
       "      <td>1</td>\n",
       "    </tr>\n",
       "    <tr>\n",
       "      <th>4</th>\n",
       "      <td>4</td>\n",
       "      <td>1</td>\n",
       "    </tr>\n",
       "  </tbody>\n",
       "</table>\n",
       "</div>"
      ],
      "text/plain": [
       "   item_id  item_category_id\n",
       "0        0                 1\n",
       "1        1                 1\n",
       "2        2                 1\n",
       "3        3                 1\n",
       "4        4                 1"
      ]
     },
     "execution_count": 35,
     "metadata": {},
     "output_type": "execute_result"
    }
   ],
   "source": [
    "item_categories = df['item_category_id'].unique()\n",
    "tmp = df[['item_id','item_category_id']].groupby(by=\"item_id\").nunique().reset_index()\n",
    "tmp.head()"
   ]
  },
  {
   "cell_type": "code",
   "execution_count": 36,
   "id": "c0219d87",
   "metadata": {
    "execution": {
     "iopub.execute_input": "2022-06-29T10:21:49.669143Z",
     "iopub.status.busy": "2022-06-29T10:21:49.668728Z",
     "iopub.status.idle": "2022-06-29T10:21:49.675585Z",
     "shell.execute_reply": "2022-06-29T10:21:49.674808Z"
    },
    "papermill": {
     "duration": 0.049826,
     "end_time": "2022-06-29T10:21:49.677676",
     "exception": false,
     "start_time": "2022-06-29T10:21:49.627850",
     "status": "completed"
    },
    "tags": []
   },
   "outputs": [
    {
     "data": {
      "text/plain": [
       "array([1])"
      ]
     },
     "execution_count": 36,
     "metadata": {},
     "output_type": "execute_result"
    }
   ],
   "source": [
    "tmp['item_category_id'].unique()"
   ]
  },
  {
   "cell_type": "markdown",
   "id": "67c0d9d9",
   "metadata": {
    "papermill": {
     "duration": 0.039422,
     "end_time": "2022-06-29T10:21:49.756555",
     "exception": false,
     "start_time": "2022-06-29T10:21:49.717133",
     "status": "completed"
    },
    "tags": []
   },
   "source": [
    "- there is only 1 category corresponding to a `item_id`"
   ]
  },
  {
   "cell_type": "markdown",
   "id": "27234503",
   "metadata": {
    "papermill": {
     "duration": 0.039073,
     "end_time": "2022-06-29T10:21:49.834753",
     "exception": false,
     "start_time": "2022-06-29T10:21:49.795680",
     "status": "completed"
    },
    "tags": []
   },
   "source": [
    "### 2-(5). Analysis of monthly sales"
   ]
  },
  {
   "cell_type": "code",
   "execution_count": 37,
   "id": "e0b0b83c",
   "metadata": {
    "execution": {
     "iopub.execute_input": "2022-06-29T10:21:49.916538Z",
     "iopub.status.busy": "2022-06-29T10:21:49.916141Z",
     "iopub.status.idle": "2022-06-29T10:21:51.013633Z",
     "shell.execute_reply": "2022-06-29T10:21:51.012056Z"
    },
    "papermill": {
     "duration": 1.141615,
     "end_time": "2022-06-29T10:21:51.016442",
     "exception": false,
     "start_time": "2022-06-29T10:21:49.874827",
     "status": "completed"
    },
    "tags": []
   },
   "outputs": [],
   "source": [
    "df[\"Year\"] = df[\"date\"].dt.year\n",
    "df[\"Month\"] = df[\"date\"].dt.month\n",
    "df[\"day_of_month\"] = df[\"date\"].dt.day\n",
    "df[\"day_of_week\"] = df[\"date\"].dt.day_of_week"
   ]
  },
  {
   "cell_type": "code",
   "execution_count": 38,
   "id": "e4977324",
   "metadata": {
    "execution": {
     "iopub.execute_input": "2022-06-29T10:21:51.100189Z",
     "iopub.status.busy": "2022-06-29T10:21:51.099747Z",
     "iopub.status.idle": "2022-06-29T10:21:52.191181Z",
     "shell.execute_reply": "2022-06-29T10:21:52.190098Z"
    },
    "papermill": {
     "duration": 1.137152,
     "end_time": "2022-06-29T10:21:52.194949",
     "exception": false,
     "start_time": "2022-06-29T10:21:51.057797",
     "status": "completed"
    },
    "tags": []
   },
   "outputs": [
    {
     "data": {
      "image/png": "[encoded data removed]",
      "text/plain": [
       "<Figure size 1800x864 with 2 Axes>"
      ]
     },
     "metadata": {
      "needs_background": "light"
     },
     "output_type": "display_data"
    }
   ],
   "source": [
    "fig,axes = plt.subplots(2,1, figsize=(25,12))\n",
    "df_tmp = df[['date_block_num','Month','Sales_per_item']].groupby(by=['date_block_num']).aggregate(\"sum\").reset_index()\n",
    "sns.lineplot(x=df_tmp['date_block_num'],y=df_tmp['Sales_per_item'],ax=axes[0])\n",
    "axes[0].set_title('Total turn over (Total Sales)',fontsize=\"25\")\n",
    "axes[0].set_xlabel('Date',fontsize=\"20\")\n",
    "axes[0].set_ylabel('Turn over per month',fontsize=\"20\")\n",
    "\n",
    "\n",
    "df_tmp = df[['date_block_num','Month','item_cnt_day']].groupby(by=['date_block_num']).aggregate(\"sum\").reset_index()\n",
    "sns.lineplot(x=df_tmp['date_block_num'],y=df_tmp['item_cnt_day'],ax=axes[1])\n",
    "axes[1].set_title('Total units sold',fontsize=\"25\")\n",
    "axes[1].set_xlabel('Date',fontsize=\"20\")\n",
    "axes[1].set_ylabel('Turn over per month',fontsize=\"20\")\n",
    "\n",
    "plt.tight_layout()\n",
    "del df_tmp\n",
    "plt.show()"
   ]
  },
  {
   "cell_type": "code",
   "execution_count": 39,
   "id": "0480799f",
   "metadata": {
    "execution": {
     "iopub.execute_input": "2022-06-29T10:21:52.296423Z",
     "iopub.status.busy": "2022-06-29T10:21:52.295292Z",
     "iopub.status.idle": "2022-06-29T10:21:53.024232Z",
     "shell.execute_reply": "2022-06-29T10:21:53.022850Z"
    },
    "papermill": {
     "duration": 0.77884,
     "end_time": "2022-06-29T10:21:53.027106",
     "exception": false,
     "start_time": "2022-06-29T10:21:52.248266",
     "status": "completed"
    },
    "tags": []
   },
   "outputs": [
    {
     "data": {
      "image/png": "[encoded data removed]",
      "text/plain": [
       "<Figure size 1800x576 with 2 Axes>"
      ]
     },
     "metadata": {
      "needs_background": "light"
     },
     "output_type": "display_data"
    }
   ],
   "source": [
    "fig,axes = plt.subplots(1,2,figsize=(25,8))\n",
    "df_tmp = df[['Year','Month','Sales_per_item']].pivot_table(index=['Month'],columns=['Year'],aggfunc={\"Sales_per_item\":np.sum})\n",
    "axes[0].plot(df_tmp)\n",
    "axes[0].set_title('Total turn over (Total Sales)')\n",
    "axes[0].legend(labels=[i[1] for i in df_tmp.columns])\n",
    "\n",
    "df_tmp = df[['Year','Month','item_cnt_day']].pivot_table(index=['Month'],columns=['Year'],aggfunc={\"item_cnt_day\":np.sum})\n",
    "axes[1].plot(df_tmp)\n",
    "axes[1].set_title('Total no of units sold')\n",
    "axes[1].legend(labels=[i[1] for i in df_tmp.columns])\n",
    "plt.suptitle('Monthly Sales - Yearly',fontsize=\"28\")\n",
    "plt.show()"
   ]
  },
  {
   "cell_type": "markdown",
   "id": "f49f7f10",
   "metadata": {
    "papermill": {
     "duration": 0.042313,
     "end_time": "2022-06-29T10:21:53.114528",
     "exception": false,
     "start_time": "2022-06-29T10:21:53.072215",
     "status": "completed"
    },
    "tags": []
   },
   "source": [
    "- The umber of products sold as well as total turnover over the months follow almost same pattern.\n",
    "- We have maximum sales in the month of november and december.\n",
    "- Since we are predicting sales for november 2015, we expect a raise in no. of units sold"
   ]
  },
  {
   "cell_type": "markdown",
   "id": "9efffe44",
   "metadata": {
    "papermill": {
     "duration": 0.045155,
     "end_time": "2022-06-29T10:21:53.202147",
     "exception": false,
     "start_time": "2022-06-29T10:21:53.156992",
     "status": "completed"
    },
    "tags": []
   },
   "source": [
    "- Do all the shops sold items on all months from 2013 Jan to 2015 Oct\n",
    "- Do some shops is deactive on mean time and become active again?"
   ]
  },
  {
   "cell_type": "code",
   "execution_count": 40,
   "id": "c225ad0c",
   "metadata": {
    "execution": {
     "iopub.execute_input": "2022-06-29T10:21:53.290971Z",
     "iopub.status.busy": "2022-06-29T10:21:53.290525Z",
     "iopub.status.idle": "2022-06-29T10:21:53.823920Z",
     "shell.execute_reply": "2022-06-29T10:21:53.822682Z"
    },
    "papermill": {
     "duration": 0.582184,
     "end_time": "2022-06-29T10:21:53.827114",
     "exception": false,
     "start_time": "2022-06-29T10:21:53.244930",
     "status": "completed"
    },
    "tags": []
   },
   "outputs": [
    {
     "data": {
      "text/html": [
       "<div>\n",
       "<style scoped>\n",
       "    .dataframe tbody tr th:only-of-type {\n",
       "        vertical-align: middle;\n",
       "    }\n",
       "\n",
       "    .dataframe tbody tr th {\n",
       "        vertical-align: top;\n",
       "    }\n",
       "\n",
       "    .dataframe thead th {\n",
       "        text-align: right;\n",
       "    }\n",
       "</style>\n",
       "<table border=\"1\" class=\"dataframe\">\n",
       "  <thead>\n",
       "    <tr style=\"text-align: right;\">\n",
       "      <th></th>\n",
       "      <th>date_block_num</th>\n",
       "      <th>shop_id</th>\n",
       "    </tr>\n",
       "  </thead>\n",
       "  <tbody>\n",
       "    <tr>\n",
       "      <th>0</th>\n",
       "      <td>0</td>\n",
       "      <td>45</td>\n",
       "    </tr>\n",
       "    <tr>\n",
       "      <th>1</th>\n",
       "      <td>1</td>\n",
       "      <td>46</td>\n",
       "    </tr>\n",
       "    <tr>\n",
       "      <th>2</th>\n",
       "      <td>2</td>\n",
       "      <td>46</td>\n",
       "    </tr>\n",
       "    <tr>\n",
       "      <th>3</th>\n",
       "      <td>3</td>\n",
       "      <td>45</td>\n",
       "    </tr>\n",
       "    <tr>\n",
       "      <th>4</th>\n",
       "      <td>4</td>\n",
       "      <td>45</td>\n",
       "    </tr>\n",
       "    <tr>\n",
       "      <th>5</th>\n",
       "      <td>5</td>\n",
       "      <td>46</td>\n",
       "    </tr>\n",
       "    <tr>\n",
       "      <th>6</th>\n",
       "      <td>6</td>\n",
       "      <td>46</td>\n",
       "    </tr>\n",
       "    <tr>\n",
       "      <th>7</th>\n",
       "      <td>7</td>\n",
       "      <td>45</td>\n",
       "    </tr>\n",
       "    <tr>\n",
       "      <th>8</th>\n",
       "      <td>8</td>\n",
       "      <td>45</td>\n",
       "    </tr>\n",
       "    <tr>\n",
       "      <th>9</th>\n",
       "      <td>9</td>\n",
       "      <td>46</td>\n",
       "    </tr>\n",
       "    <tr>\n",
       "      <th>10</th>\n",
       "      <td>10</td>\n",
       "      <td>45</td>\n",
       "    </tr>\n",
       "    <tr>\n",
       "      <th>11</th>\n",
       "      <td>11</td>\n",
       "      <td>46</td>\n",
       "    </tr>\n",
       "    <tr>\n",
       "      <th>12</th>\n",
       "      <td>12</td>\n",
       "      <td>46</td>\n",
       "    </tr>\n",
       "    <tr>\n",
       "      <th>13</th>\n",
       "      <td>13</td>\n",
       "      <td>46</td>\n",
       "    </tr>\n",
       "    <tr>\n",
       "      <th>14</th>\n",
       "      <td>14</td>\n",
       "      <td>48</td>\n",
       "    </tr>\n",
       "    <tr>\n",
       "      <th>15</th>\n",
       "      <td>15</td>\n",
       "      <td>49</td>\n",
       "    </tr>\n",
       "    <tr>\n",
       "      <th>16</th>\n",
       "      <td>16</td>\n",
       "      <td>49</td>\n",
       "    </tr>\n",
       "    <tr>\n",
       "      <th>17</th>\n",
       "      <td>17</td>\n",
       "      <td>49</td>\n",
       "    </tr>\n",
       "    <tr>\n",
       "      <th>18</th>\n",
       "      <td>18</td>\n",
       "      <td>50</td>\n",
       "    </tr>\n",
       "    <tr>\n",
       "      <th>19</th>\n",
       "      <td>19</td>\n",
       "      <td>51</td>\n",
       "    </tr>\n",
       "    <tr>\n",
       "      <th>20</th>\n",
       "      <td>20</td>\n",
       "      <td>50</td>\n",
       "    </tr>\n",
       "    <tr>\n",
       "      <th>21</th>\n",
       "      <td>21</td>\n",
       "      <td>52</td>\n",
       "    </tr>\n",
       "    <tr>\n",
       "      <th>22</th>\n",
       "      <td>22</td>\n",
       "      <td>50</td>\n",
       "    </tr>\n",
       "    <tr>\n",
       "      <th>23</th>\n",
       "      <td>23</td>\n",
       "      <td>50</td>\n",
       "    </tr>\n",
       "    <tr>\n",
       "      <th>24</th>\n",
       "      <td>24</td>\n",
       "      <td>50</td>\n",
       "    </tr>\n",
       "    <tr>\n",
       "      <th>25</th>\n",
       "      <td>25</td>\n",
       "      <td>47</td>\n",
       "    </tr>\n",
       "    <tr>\n",
       "      <th>26</th>\n",
       "      <td>26</td>\n",
       "      <td>46</td>\n",
       "    </tr>\n",
       "    <tr>\n",
       "      <th>27</th>\n",
       "      <td>27</td>\n",
       "      <td>45</td>\n",
       "    </tr>\n",
       "    <tr>\n",
       "      <th>28</th>\n",
       "      <td>28</td>\n",
       "      <td>44</td>\n",
       "    </tr>\n",
       "    <tr>\n",
       "      <th>29</th>\n",
       "      <td>29</td>\n",
       "      <td>43</td>\n",
       "    </tr>\n",
       "    <tr>\n",
       "      <th>30</th>\n",
       "      <td>30</td>\n",
       "      <td>43</td>\n",
       "    </tr>\n",
       "    <tr>\n",
       "      <th>31</th>\n",
       "      <td>31</td>\n",
       "      <td>42</td>\n",
       "    </tr>\n",
       "    <tr>\n",
       "      <th>32</th>\n",
       "      <td>32</td>\n",
       "      <td>42</td>\n",
       "    </tr>\n",
       "    <tr>\n",
       "      <th>33</th>\n",
       "      <td>33</td>\n",
       "      <td>44</td>\n",
       "    </tr>\n",
       "  </tbody>\n",
       "</table>\n",
       "</div>"
      ],
      "text/plain": [
       "    date_block_num  shop_id\n",
       "0                0       45\n",
       "1                1       46\n",
       "2                2       46\n",
       "3                3       45\n",
       "4                4       45\n",
       "5                5       46\n",
       "6                6       46\n",
       "7                7       45\n",
       "8                8       45\n",
       "9                9       46\n",
       "10              10       45\n",
       "11              11       46\n",
       "12              12       46\n",
       "13              13       46\n",
       "14              14       48\n",
       "15              15       49\n",
       "16              16       49\n",
       "17              17       49\n",
       "18              18       50\n",
       "19              19       51\n",
       "20              20       50\n",
       "21              21       52\n",
       "22              22       50\n",
       "23              23       50\n",
       "24              24       50\n",
       "25              25       47\n",
       "26              26       46\n",
       "27              27       45\n",
       "28              28       44\n",
       "29              29       43\n",
       "30              30       43\n",
       "31              31       42\n",
       "32              32       42\n",
       "33              33       44"
      ]
     },
     "execution_count": 40,
     "metadata": {},
     "output_type": "execute_result"
    }
   ],
   "source": [
    "df_tmp = df[['date_block_num','shop_id','item_cnt_day']]\n",
    "df_tmp.groupby(by='date_block_num').aggregate({'shop_id':'nunique'}).reset_index()"
   ]
  },
  {
   "cell_type": "code",
   "execution_count": 41,
   "id": "fcada386",
   "metadata": {
    "execution": {
     "iopub.execute_input": "2022-06-29T10:21:53.930016Z",
     "iopub.status.busy": "2022-06-29T10:21:53.929613Z",
     "iopub.status.idle": "2022-06-29T10:21:54.161440Z",
     "shell.execute_reply": "2022-06-29T10:21:54.160197Z"
    },
    "papermill": {
     "duration": 0.293625,
     "end_time": "2022-06-29T10:21:54.163969",
     "exception": false,
     "start_time": "2022-06-29T10:21:53.870344",
     "status": "completed"
    },
    "tags": []
   },
   "outputs": [
    {
     "data": {
      "text/html": [
       "<div>\n",
       "<style scoped>\n",
       "    .dataframe tbody tr th:only-of-type {\n",
       "        vertical-align: middle;\n",
       "    }\n",
       "\n",
       "    .dataframe tbody tr th {\n",
       "        vertical-align: top;\n",
       "    }\n",
       "\n",
       "    .dataframe thead th {\n",
       "        text-align: right;\n",
       "    }\n",
       "</style>\n",
       "<table border=\"1\" class=\"dataframe\">\n",
       "  <thead>\n",
       "    <tr style=\"text-align: right;\">\n",
       "      <th>Month</th>\n",
       "      <th>0</th>\n",
       "      <th>1</th>\n",
       "      <th>2</th>\n",
       "      <th>3</th>\n",
       "      <th>4</th>\n",
       "      <th>5</th>\n",
       "      <th>6</th>\n",
       "      <th>7</th>\n",
       "      <th>8</th>\n",
       "      <th>9</th>\n",
       "      <th>...</th>\n",
       "      <th>50</th>\n",
       "      <th>51</th>\n",
       "      <th>52</th>\n",
       "      <th>53</th>\n",
       "      <th>54</th>\n",
       "      <th>55</th>\n",
       "      <th>56</th>\n",
       "      <th>57</th>\n",
       "      <th>58</th>\n",
       "      <th>59</th>\n",
       "    </tr>\n",
       "  </thead>\n",
       "  <tbody>\n",
       "    <tr>\n",
       "      <th>0</th>\n",
       "      <td>5334.00</td>\n",
       "      <td>2873.00</td>\n",
       "      <td>1137.00</td>\n",
       "      <td>767.00</td>\n",
       "      <td>2049.00</td>\n",
       "      <td>NaN</td>\n",
       "      <td>3550.00</td>\n",
       "      <td>2453.00</td>\n",
       "      <td>1451.00</td>\n",
       "      <td>NaN</td>\n",
       "      <td>...</td>\n",
       "      <td>3272.00</td>\n",
       "      <td>2567.00</td>\n",
       "      <td>1755.00</td>\n",
       "      <td>2013.00</td>\n",
       "      <td>8540.00</td>\n",
       "      <td>NaN</td>\n",
       "      <td>3173.00</td>\n",
       "      <td>NaN</td>\n",
       "      <td>NaN</td>\n",
       "      <td>1981.00</td>\n",
       "    </tr>\n",
       "    <tr>\n",
       "      <th>1</th>\n",
       "      <td>5718.00</td>\n",
       "      <td>3238.00</td>\n",
       "      <td>484.00</td>\n",
       "      <td>795.00</td>\n",
       "      <td>1957.00</td>\n",
       "      <td>871.00</td>\n",
       "      <td>3664.00</td>\n",
       "      <td>2421.00</td>\n",
       "      <td>1142.00</td>\n",
       "      <td>NaN</td>\n",
       "      <td>...</td>\n",
       "      <td>2909.00</td>\n",
       "      <td>2142.00</td>\n",
       "      <td>1646.00</td>\n",
       "      <td>1836.00</td>\n",
       "      <td>7205.00</td>\n",
       "      <td>NaN</td>\n",
       "      <td>2567.00</td>\n",
       "      <td>NaN</td>\n",
       "      <td>NaN</td>\n",
       "      <td>1808.00</td>\n",
       "    </tr>\n",
       "    <tr>\n",
       "      <th>2</th>\n",
       "      <td>NaN</td>\n",
       "      <td>NaN</td>\n",
       "      <td>724.00</td>\n",
       "      <td>943.00</td>\n",
       "      <td>1983.00</td>\n",
       "      <td>1344.00</td>\n",
       "      <td>3956.00</td>\n",
       "      <td>2317.00</td>\n",
       "      <td>973.00</td>\n",
       "      <td>NaN</td>\n",
       "      <td>...</td>\n",
       "      <td>3347.00</td>\n",
       "      <td>2473.00</td>\n",
       "      <td>1907.00</td>\n",
       "      <td>2244.00</td>\n",
       "      <td>8375.00</td>\n",
       "      <td>NaN</td>\n",
       "      <td>3011.00</td>\n",
       "      <td>6185.00</td>\n",
       "      <td>3657.00</td>\n",
       "      <td>1900.00</td>\n",
       "    </tr>\n",
       "    <tr>\n",
       "      <th>3</th>\n",
       "      <td>NaN</td>\n",
       "      <td>NaN</td>\n",
       "      <td>577.00</td>\n",
       "      <td>645.00</td>\n",
       "      <td>269.00</td>\n",
       "      <td>997.00</td>\n",
       "      <td>3009.00</td>\n",
       "      <td>1534.00</td>\n",
       "      <td>NaN</td>\n",
       "      <td>NaN</td>\n",
       "      <td>...</td>\n",
       "      <td>2658.00</td>\n",
       "      <td>1837.00</td>\n",
       "      <td>1411.00</td>\n",
       "      <td>1463.00</td>\n",
       "      <td>6176.00</td>\n",
       "      <td>NaN</td>\n",
       "      <td>2123.00</td>\n",
       "      <td>5290.00</td>\n",
       "      <td>2787.00</td>\n",
       "      <td>1352.00</td>\n",
       "    </tr>\n",
       "    <tr>\n",
       "      <th>4</th>\n",
       "      <td>NaN</td>\n",
       "      <td>NaN</td>\n",
       "      <td>549.00</td>\n",
       "      <td>696.00</td>\n",
       "      <td>1186.00</td>\n",
       "      <td>1099.00</td>\n",
       "      <td>2856.00</td>\n",
       "      <td>1615.00</td>\n",
       "      <td>NaN</td>\n",
       "      <td>NaN</td>\n",
       "      <td>...</td>\n",
       "      <td>2766.00</td>\n",
       "      <td>2093.00</td>\n",
       "      <td>1371.00</td>\n",
       "      <td>1660.00</td>\n",
       "      <td>6184.00</td>\n",
       "      <td>808.00</td>\n",
       "      <td>2091.00</td>\n",
       "      <td>5003.00</td>\n",
       "      <td>2262.00</td>\n",
       "      <td>1283.00</td>\n",
       "    </tr>\n",
       "    <tr>\n",
       "      <th>5</th>\n",
       "      <td>NaN</td>\n",
       "      <td>NaN</td>\n",
       "      <td>794.00</td>\n",
       "      <td>759.00</td>\n",
       "      <td>1405.00</td>\n",
       "      <td>1339.00</td>\n",
       "      <td>3402.00</td>\n",
       "      <td>1987.00</td>\n",
       "      <td>NaN</td>\n",
       "      <td>NaN</td>\n",
       "      <td>...</td>\n",
       "      <td>3255.00</td>\n",
       "      <td>1998.00</td>\n",
       "      <td>1677.00</td>\n",
       "      <td>1982.00</td>\n",
       "      <td>6874.00</td>\n",
       "      <td>665.00</td>\n",
       "      <td>2828.00</td>\n",
       "      <td>5397.00</td>\n",
       "      <td>2804.00</td>\n",
       "      <td>1577.00</td>\n",
       "    </tr>\n",
       "    <tr>\n",
       "      <th>6</th>\n",
       "      <td>NaN</td>\n",
       "      <td>NaN</td>\n",
       "      <td>804.00</td>\n",
       "      <td>687.00</td>\n",
       "      <td>1366.00</td>\n",
       "      <td>1235.00</td>\n",
       "      <td>3181.00</td>\n",
       "      <td>1971.00</td>\n",
       "      <td>NaN</td>\n",
       "      <td>NaN</td>\n",
       "      <td>...</td>\n",
       "      <td>3070.00</td>\n",
       "      <td>2194.00</td>\n",
       "      <td>1573.00</td>\n",
       "      <td>1909.00</td>\n",
       "      <td>6316.00</td>\n",
       "      <td>733.00</td>\n",
       "      <td>3133.00</td>\n",
       "      <td>5470.00</td>\n",
       "      <td>2969.00</td>\n",
       "      <td>1681.00</td>\n",
       "    </tr>\n",
       "    <tr>\n",
       "      <th>7</th>\n",
       "      <td>NaN</td>\n",
       "      <td>NaN</td>\n",
       "      <td>853.00</td>\n",
       "      <td>859.00</td>\n",
       "      <td>1682.00</td>\n",
       "      <td>1498.00</td>\n",
       "      <td>3384.00</td>\n",
       "      <td>2289.00</td>\n",
       "      <td>NaN</td>\n",
       "      <td>NaN</td>\n",
       "      <td>...</td>\n",
       "      <td>3474.00</td>\n",
       "      <td>2049.00</td>\n",
       "      <td>1708.00</td>\n",
       "      <td>2207.00</td>\n",
       "      <td>6931.00</td>\n",
       "      <td>659.00</td>\n",
       "      <td>3180.00</td>\n",
       "      <td>5125.00</td>\n",
       "      <td>2813.00</td>\n",
       "      <td>1980.00</td>\n",
       "    </tr>\n",
       "    <tr>\n",
       "      <th>8</th>\n",
       "      <td>NaN</td>\n",
       "      <td>NaN</td>\n",
       "      <td>824.00</td>\n",
       "      <td>897.00</td>\n",
       "      <td>1355.00</td>\n",
       "      <td>1214.00</td>\n",
       "      <td>3415.00</td>\n",
       "      <td>2231.00</td>\n",
       "      <td>NaN</td>\n",
       "      <td>NaN</td>\n",
       "      <td>...</td>\n",
       "      <td>3083.00</td>\n",
       "      <td>1792.00</td>\n",
       "      <td>1839.00</td>\n",
       "      <td>2051.00</td>\n",
       "      <td>6166.00</td>\n",
       "      <td>751.00</td>\n",
       "      <td>2539.00</td>\n",
       "      <td>4774.00</td>\n",
       "      <td>2613.00</td>\n",
       "      <td>1758.00</td>\n",
       "    </tr>\n",
       "    <tr>\n",
       "      <th>9</th>\n",
       "      <td>NaN</td>\n",
       "      <td>NaN</td>\n",
       "      <td>715.00</td>\n",
       "      <td>772.00</td>\n",
       "      <td>1343.00</td>\n",
       "      <td>1209.00</td>\n",
       "      <td>3061.00</td>\n",
       "      <td>2049.00</td>\n",
       "      <td>NaN</td>\n",
       "      <td>2389.00</td>\n",
       "      <td>...</td>\n",
       "      <td>3042.00</td>\n",
       "      <td>1710.00</td>\n",
       "      <td>1713.00</td>\n",
       "      <td>1958.00</td>\n",
       "      <td>5567.00</td>\n",
       "      <td>828.00</td>\n",
       "      <td>2230.00</td>\n",
       "      <td>4915.00</td>\n",
       "      <td>2796.00</td>\n",
       "      <td>1607.00</td>\n",
       "    </tr>\n",
       "    <tr>\n",
       "      <th>10</th>\n",
       "      <td>NaN</td>\n",
       "      <td>NaN</td>\n",
       "      <td>746.00</td>\n",
       "      <td>900.00</td>\n",
       "      <td>1331.00</td>\n",
       "      <td>1320.00</td>\n",
       "      <td>3239.00</td>\n",
       "      <td>2161.00</td>\n",
       "      <td>NaN</td>\n",
       "      <td>NaN</td>\n",
       "      <td>...</td>\n",
       "      <td>3145.00</td>\n",
       "      <td>1717.00</td>\n",
       "      <td>1675.00</td>\n",
       "      <td>1917.00</td>\n",
       "      <td>6417.00</td>\n",
       "      <td>984.00</td>\n",
       "      <td>2648.00</td>\n",
       "      <td>4646.00</td>\n",
       "      <td>2741.00</td>\n",
       "      <td>1712.00</td>\n",
       "    </tr>\n",
       "    <tr>\n",
       "      <th>11</th>\n",
       "      <td>NaN</td>\n",
       "      <td>NaN</td>\n",
       "      <td>1264.00</td>\n",
       "      <td>1119.00</td>\n",
       "      <td>2083.00</td>\n",
       "      <td>2049.00</td>\n",
       "      <td>5027.00</td>\n",
       "      <td>3341.00</td>\n",
       "      <td>NaN</td>\n",
       "      <td>NaN</td>\n",
       "      <td>...</td>\n",
       "      <td>4380.00</td>\n",
       "      <td>2185.00</td>\n",
       "      <td>2220.00</td>\n",
       "      <td>2796.00</td>\n",
       "      <td>8523.00</td>\n",
       "      <td>1154.00</td>\n",
       "      <td>3359.00</td>\n",
       "      <td>7863.00</td>\n",
       "      <td>5057.00</td>\n",
       "      <td>2255.00</td>\n",
       "    </tr>\n",
       "    <tr>\n",
       "      <th>12</th>\n",
       "      <td>NaN</td>\n",
       "      <td>NaN</td>\n",
       "      <td>872.00</td>\n",
       "      <td>959.00</td>\n",
       "      <td>1366.00</td>\n",
       "      <td>1595.00</td>\n",
       "      <td>2928.00</td>\n",
       "      <td>2245.00</td>\n",
       "      <td>NaN</td>\n",
       "      <td>NaN</td>\n",
       "      <td>...</td>\n",
       "      <td>2917.00</td>\n",
       "      <td>1603.00</td>\n",
       "      <td>1584.00</td>\n",
       "      <td>2020.00</td>\n",
       "      <td>7146.00</td>\n",
       "      <td>1036.00</td>\n",
       "      <td>2806.00</td>\n",
       "      <td>4487.00</td>\n",
       "      <td>2542.00</td>\n",
       "      <td>1464.00</td>\n",
       "    </tr>\n",
       "    <tr>\n",
       "      <th>13</th>\n",
       "      <td>NaN</td>\n",
       "      <td>NaN</td>\n",
       "      <td>864.00</td>\n",
       "      <td>865.00</td>\n",
       "      <td>1224.00</td>\n",
       "      <td>1190.00</td>\n",
       "      <td>2886.00</td>\n",
       "      <td>2204.00</td>\n",
       "      <td>NaN</td>\n",
       "      <td>NaN</td>\n",
       "      <td>...</td>\n",
       "      <td>2776.00</td>\n",
       "      <td>1364.00</td>\n",
       "      <td>1463.00</td>\n",
       "      <td>1750.00</td>\n",
       "      <td>5268.00</td>\n",
       "      <td>945.00</td>\n",
       "      <td>2218.00</td>\n",
       "      <td>4627.00</td>\n",
       "      <td>2715.00</td>\n",
       "      <td>1358.00</td>\n",
       "    </tr>\n",
       "    <tr>\n",
       "      <th>14</th>\n",
       "      <td>NaN</td>\n",
       "      <td>NaN</td>\n",
       "      <td>906.00</td>\n",
       "      <td>929.00</td>\n",
       "      <td>1194.00</td>\n",
       "      <td>1409.00</td>\n",
       "      <td>2698.00</td>\n",
       "      <td>1914.00</td>\n",
       "      <td>NaN</td>\n",
       "      <td>NaN</td>\n",
       "      <td>...</td>\n",
       "      <td>2735.00</td>\n",
       "      <td>1543.00</td>\n",
       "      <td>1544.00</td>\n",
       "      <td>1917.00</td>\n",
       "      <td>5786.00</td>\n",
       "      <td>1000.00</td>\n",
       "      <td>2133.00</td>\n",
       "      <td>4538.00</td>\n",
       "      <td>2770.00</td>\n",
       "      <td>1379.00</td>\n",
       "    </tr>\n",
       "    <tr>\n",
       "      <th>15</th>\n",
       "      <td>NaN</td>\n",
       "      <td>NaN</td>\n",
       "      <td>762.00</td>\n",
       "      <td>676.00</td>\n",
       "      <td>1032.00</td>\n",
       "      <td>1024.00</td>\n",
       "      <td>2574.00</td>\n",
       "      <td>1500.00</td>\n",
       "      <td>NaN</td>\n",
       "      <td>NaN</td>\n",
       "      <td>...</td>\n",
       "      <td>2025.00</td>\n",
       "      <td>1407.00</td>\n",
       "      <td>1177.00</td>\n",
       "      <td>1480.00</td>\n",
       "      <td>4594.00</td>\n",
       "      <td>1028.00</td>\n",
       "      <td>1576.00</td>\n",
       "      <td>3967.00</td>\n",
       "      <td>2219.00</td>\n",
       "      <td>1125.00</td>\n",
       "    </tr>\n",
       "    <tr>\n",
       "      <th>16</th>\n",
       "      <td>NaN</td>\n",
       "      <td>NaN</td>\n",
       "      <td>773.00</td>\n",
       "      <td>721.00</td>\n",
       "      <td>1100.00</td>\n",
       "      <td>1121.00</td>\n",
       "      <td>2239.00</td>\n",
       "      <td>1554.00</td>\n",
       "      <td>NaN</td>\n",
       "      <td>NaN</td>\n",
       "      <td>...</td>\n",
       "      <td>1797.00</td>\n",
       "      <td>1210.00</td>\n",
       "      <td>1205.00</td>\n",
       "      <td>1565.00</td>\n",
       "      <td>4814.00</td>\n",
       "      <td>1061.00</td>\n",
       "      <td>1891.00</td>\n",
       "      <td>3619.00</td>\n",
       "      <td>1917.00</td>\n",
       "      <td>1107.00</td>\n",
       "    </tr>\n",
       "    <tr>\n",
       "      <th>17</th>\n",
       "      <td>NaN</td>\n",
       "      <td>NaN</td>\n",
       "      <td>877.00</td>\n",
       "      <td>806.00</td>\n",
       "      <td>1153.00</td>\n",
       "      <td>1303.00</td>\n",
       "      <td>2535.00</td>\n",
       "      <td>1825.00</td>\n",
       "      <td>NaN</td>\n",
       "      <td>NaN</td>\n",
       "      <td>...</td>\n",
       "      <td>1668.00</td>\n",
       "      <td>1231.00</td>\n",
       "      <td>1154.00</td>\n",
       "      <td>1755.00</td>\n",
       "      <td>5386.00</td>\n",
       "      <td>1222.00</td>\n",
       "      <td>2459.00</td>\n",
       "      <td>3593.00</td>\n",
       "      <td>2043.00</td>\n",
       "      <td>1090.00</td>\n",
       "    </tr>\n",
       "    <tr>\n",
       "      <th>18</th>\n",
       "      <td>NaN</td>\n",
       "      <td>NaN</td>\n",
       "      <td>741.00</td>\n",
       "      <td>749.00</td>\n",
       "      <td>1057.00</td>\n",
       "      <td>1296.00</td>\n",
       "      <td>2367.00</td>\n",
       "      <td>1641.00</td>\n",
       "      <td>NaN</td>\n",
       "      <td>NaN</td>\n",
       "      <td>...</td>\n",
       "      <td>1540.00</td>\n",
       "      <td>1316.00</td>\n",
       "      <td>1199.00</td>\n",
       "      <td>1725.00</td>\n",
       "      <td>4673.00</td>\n",
       "      <td>1297.00</td>\n",
       "      <td>2249.00</td>\n",
       "      <td>3591.00</td>\n",
       "      <td>2140.00</td>\n",
       "      <td>1020.00</td>\n",
       "    </tr>\n",
       "    <tr>\n",
       "      <th>19</th>\n",
       "      <td>NaN</td>\n",
       "      <td>NaN</td>\n",
       "      <td>885.00</td>\n",
       "      <td>845.00</td>\n",
       "      <td>1301.00</td>\n",
       "      <td>1462.00</td>\n",
       "      <td>2414.00</td>\n",
       "      <td>1913.00</td>\n",
       "      <td>NaN</td>\n",
       "      <td>NaN</td>\n",
       "      <td>...</td>\n",
       "      <td>1580.00</td>\n",
       "      <td>1352.00</td>\n",
       "      <td>1435.00</td>\n",
       "      <td>1719.00</td>\n",
       "      <td>5365.00</td>\n",
       "      <td>1549.00</td>\n",
       "      <td>2867.00</td>\n",
       "      <td>3626.00</td>\n",
       "      <td>2661.00</td>\n",
       "      <td>1201.00</td>\n",
       "    </tr>\n",
       "    <tr>\n",
       "      <th>20</th>\n",
       "      <td>NaN</td>\n",
       "      <td>NaN</td>\n",
       "      <td>812.00</td>\n",
       "      <td>843.00</td>\n",
       "      <td>1004.00</td>\n",
       "      <td>1224.00</td>\n",
       "      <td>2330.00</td>\n",
       "      <td>1547.00</td>\n",
       "      <td>NaN</td>\n",
       "      <td>NaN</td>\n",
       "      <td>...</td>\n",
       "      <td>1267.00</td>\n",
       "      <td>1084.00</td>\n",
       "      <td>1167.00</td>\n",
       "      <td>1565.00</td>\n",
       "      <td>4075.00</td>\n",
       "      <td>1825.00</td>\n",
       "      <td>1725.00</td>\n",
       "      <td>3360.00</td>\n",
       "      <td>2083.00</td>\n",
       "      <td>1052.00</td>\n",
       "    </tr>\n",
       "    <tr>\n",
       "      <th>21</th>\n",
       "      <td>NaN</td>\n",
       "      <td>NaN</td>\n",
       "      <td>879.00</td>\n",
       "      <td>751.00</td>\n",
       "      <td>1114.00</td>\n",
       "      <td>1129.00</td>\n",
       "      <td>2302.00</td>\n",
       "      <td>1547.00</td>\n",
       "      <td>NaN</td>\n",
       "      <td>2327.00</td>\n",
       "      <td>...</td>\n",
       "      <td>1243.00</td>\n",
       "      <td>1116.00</td>\n",
       "      <td>1188.00</td>\n",
       "      <td>1585.00</td>\n",
       "      <td>4081.00</td>\n",
       "      <td>2048.00</td>\n",
       "      <td>1810.00</td>\n",
       "      <td>3552.00</td>\n",
       "      <td>1971.00</td>\n",
       "      <td>1125.00</td>\n",
       "    </tr>\n",
       "    <tr>\n",
       "      <th>22</th>\n",
       "      <td>NaN</td>\n",
       "      <td>NaN</td>\n",
       "      <td>987.00</td>\n",
       "      <td>987.00</td>\n",
       "      <td>1181.00</td>\n",
       "      <td>1295.00</td>\n",
       "      <td>2591.00</td>\n",
       "      <td>1849.00</td>\n",
       "      <td>NaN</td>\n",
       "      <td>NaN</td>\n",
       "      <td>...</td>\n",
       "      <td>1275.00</td>\n",
       "      <td>1055.00</td>\n",
       "      <td>1262.00</td>\n",
       "      <td>1659.00</td>\n",
       "      <td>5031.00</td>\n",
       "      <td>2459.00</td>\n",
       "      <td>2290.00</td>\n",
       "      <td>3286.00</td>\n",
       "      <td>2194.00</td>\n",
       "      <td>1392.00</td>\n",
       "    </tr>\n",
       "    <tr>\n",
       "      <th>23</th>\n",
       "      <td>NaN</td>\n",
       "      <td>NaN</td>\n",
       "      <td>1760.00</td>\n",
       "      <td>1245.00</td>\n",
       "      <td>1869.00</td>\n",
       "      <td>1993.00</td>\n",
       "      <td>3803.00</td>\n",
       "      <td>3004.00</td>\n",
       "      <td>NaN</td>\n",
       "      <td>NaN</td>\n",
       "      <td>...</td>\n",
       "      <td>2066.00</td>\n",
       "      <td>1584.00</td>\n",
       "      <td>2142.00</td>\n",
       "      <td>2355.00</td>\n",
       "      <td>6495.00</td>\n",
       "      <td>2285.00</td>\n",
       "      <td>2680.00</td>\n",
       "      <td>5979.00</td>\n",
       "      <td>4479.00</td>\n",
       "      <td>1801.00</td>\n",
       "    </tr>\n",
       "    <tr>\n",
       "      <th>24</th>\n",
       "      <td>NaN</td>\n",
       "      <td>NaN</td>\n",
       "      <td>933.00</td>\n",
       "      <td>958.00</td>\n",
       "      <td>1126.00</td>\n",
       "      <td>1315.00</td>\n",
       "      <td>2241.00</td>\n",
       "      <td>1963.00</td>\n",
       "      <td>NaN</td>\n",
       "      <td>NaN</td>\n",
       "      <td>...</td>\n",
       "      <td>1383.00</td>\n",
       "      <td>974.00</td>\n",
       "      <td>1243.00</td>\n",
       "      <td>1651.00</td>\n",
       "      <td>5418.00</td>\n",
       "      <td>2577.00</td>\n",
       "      <td>2300.00</td>\n",
       "      <td>3833.00</td>\n",
       "      <td>2382.00</td>\n",
       "      <td>1172.00</td>\n",
       "    </tr>\n",
       "    <tr>\n",
       "      <th>25</th>\n",
       "      <td>NaN</td>\n",
       "      <td>NaN</td>\n",
       "      <td>834.00</td>\n",
       "      <td>722.00</td>\n",
       "      <td>936.00</td>\n",
       "      <td>1061.00</td>\n",
       "      <td>2165.00</td>\n",
       "      <td>1718.00</td>\n",
       "      <td>NaN</td>\n",
       "      <td>NaN</td>\n",
       "      <td>...</td>\n",
       "      <td>1030.00</td>\n",
       "      <td>645.00</td>\n",
       "      <td>1088.00</td>\n",
       "      <td>1288.00</td>\n",
       "      <td>4087.00</td>\n",
       "      <td>1913.00</td>\n",
       "      <td>1656.00</td>\n",
       "      <td>3309.00</td>\n",
       "      <td>2250.00</td>\n",
       "      <td>1056.00</td>\n",
       "    </tr>\n",
       "    <tr>\n",
       "      <th>26</th>\n",
       "      <td>NaN</td>\n",
       "      <td>NaN</td>\n",
       "      <td>704.00</td>\n",
       "      <td>735.00</td>\n",
       "      <td>934.00</td>\n",
       "      <td>1088.00</td>\n",
       "      <td>1854.00</td>\n",
       "      <td>1370.00</td>\n",
       "      <td>NaN</td>\n",
       "      <td>NaN</td>\n",
       "      <td>...</td>\n",
       "      <td>950.00</td>\n",
       "      <td>544.00</td>\n",
       "      <td>1156.00</td>\n",
       "      <td>1341.00</td>\n",
       "      <td>4359.00</td>\n",
       "      <td>1844.00</td>\n",
       "      <td>1369.00</td>\n",
       "      <td>3017.00</td>\n",
       "      <td>2264.00</td>\n",
       "      <td>1087.00</td>\n",
       "    </tr>\n",
       "    <tr>\n",
       "      <th>27</th>\n",
       "      <td>NaN</td>\n",
       "      <td>NaN</td>\n",
       "      <td>687.00</td>\n",
       "      <td>664.00</td>\n",
       "      <td>778.00</td>\n",
       "      <td>872.00</td>\n",
       "      <td>1559.00</td>\n",
       "      <td>1171.00</td>\n",
       "      <td>NaN</td>\n",
       "      <td>NaN</td>\n",
       "      <td>...</td>\n",
       "      <td>790.00</td>\n",
       "      <td>484.00</td>\n",
       "      <td>990.00</td>\n",
       "      <td>1100.00</td>\n",
       "      <td>711.00</td>\n",
       "      <td>1611.00</td>\n",
       "      <td>1147.00</td>\n",
       "      <td>2668.00</td>\n",
       "      <td>1601.00</td>\n",
       "      <td>869.00</td>\n",
       "    </tr>\n",
       "    <tr>\n",
       "      <th>28</th>\n",
       "      <td>NaN</td>\n",
       "      <td>NaN</td>\n",
       "      <td>694.00</td>\n",
       "      <td>689.00</td>\n",
       "      <td>797.00</td>\n",
       "      <td>943.00</td>\n",
       "      <td>1401.00</td>\n",
       "      <td>1089.00</td>\n",
       "      <td>NaN</td>\n",
       "      <td>NaN</td>\n",
       "      <td>...</td>\n",
       "      <td>984.00</td>\n",
       "      <td>742.00</td>\n",
       "      <td>815.00</td>\n",
       "      <td>1084.00</td>\n",
       "      <td>NaN</td>\n",
       "      <td>1586.00</td>\n",
       "      <td>1251.00</td>\n",
       "      <td>2261.00</td>\n",
       "      <td>1326.00</td>\n",
       "      <td>816.00</td>\n",
       "    </tr>\n",
       "    <tr>\n",
       "      <th>29</th>\n",
       "      <td>NaN</td>\n",
       "      <td>NaN</td>\n",
       "      <td>777.00</td>\n",
       "      <td>664.00</td>\n",
       "      <td>774.00</td>\n",
       "      <td>927.00</td>\n",
       "      <td>1487.00</td>\n",
       "      <td>1212.00</td>\n",
       "      <td>NaN</td>\n",
       "      <td>NaN</td>\n",
       "      <td>...</td>\n",
       "      <td>879.00</td>\n",
       "      <td>653.00</td>\n",
       "      <td>794.00</td>\n",
       "      <td>1049.00</td>\n",
       "      <td>NaN</td>\n",
       "      <td>1522.00</td>\n",
       "      <td>1489.00</td>\n",
       "      <td>2369.00</td>\n",
       "      <td>1535.00</td>\n",
       "      <td>887.00</td>\n",
       "    </tr>\n",
       "    <tr>\n",
       "      <th>30</th>\n",
       "      <td>NaN</td>\n",
       "      <td>NaN</td>\n",
       "      <td>778.00</td>\n",
       "      <td>537.00</td>\n",
       "      <td>828.00</td>\n",
       "      <td>971.00</td>\n",
       "      <td>1442.00</td>\n",
       "      <td>1287.00</td>\n",
       "      <td>NaN</td>\n",
       "      <td>NaN</td>\n",
       "      <td>...</td>\n",
       "      <td>1104.00</td>\n",
       "      <td>745.00</td>\n",
       "      <td>821.00</td>\n",
       "      <td>1211.00</td>\n",
       "      <td>NaN</td>\n",
       "      <td>1427.00</td>\n",
       "      <td>1457.00</td>\n",
       "      <td>2288.00</td>\n",
       "      <td>1673.00</td>\n",
       "      <td>975.00</td>\n",
       "    </tr>\n",
       "    <tr>\n",
       "      <th>31</th>\n",
       "      <td>NaN</td>\n",
       "      <td>NaN</td>\n",
       "      <td>927.00</td>\n",
       "      <td>652.00</td>\n",
       "      <td>891.00</td>\n",
       "      <td>1267.00</td>\n",
       "      <td>1531.00</td>\n",
       "      <td>1387.00</td>\n",
       "      <td>NaN</td>\n",
       "      <td>NaN</td>\n",
       "      <td>...</td>\n",
       "      <td>1051.00</td>\n",
       "      <td>908.00</td>\n",
       "      <td>929.00</td>\n",
       "      <td>1269.00</td>\n",
       "      <td>NaN</td>\n",
       "      <td>1584.00</td>\n",
       "      <td>1501.00</td>\n",
       "      <td>2701.00</td>\n",
       "      <td>1713.00</td>\n",
       "      <td>1070.00</td>\n",
       "    </tr>\n",
       "    <tr>\n",
       "      <th>32</th>\n",
       "      <td>NaN</td>\n",
       "      <td>NaN</td>\n",
       "      <td>767.00</td>\n",
       "      <td>634.00</td>\n",
       "      <td>694.00</td>\n",
       "      <td>1026.00</td>\n",
       "      <td>1541.00</td>\n",
       "      <td>1215.00</td>\n",
       "      <td>NaN</td>\n",
       "      <td>NaN</td>\n",
       "      <td>...</td>\n",
       "      <td>863.00</td>\n",
       "      <td>594.00</td>\n",
       "      <td>1023.00</td>\n",
       "      <td>1157.00</td>\n",
       "      <td>NaN</td>\n",
       "      <td>1853.00</td>\n",
       "      <td>1137.00</td>\n",
       "      <td>2177.00</td>\n",
       "      <td>1302.00</td>\n",
       "      <td>863.00</td>\n",
       "    </tr>\n",
       "    <tr>\n",
       "      <th>33</th>\n",
       "      <td>NaN</td>\n",
       "      <td>NaN</td>\n",
       "      <td>690.00</td>\n",
       "      <td>584.00</td>\n",
       "      <td>758.00</td>\n",
       "      <td>1025.00</td>\n",
       "      <td>1652.00</td>\n",
       "      <td>1155.00</td>\n",
       "      <td>NaN</td>\n",
       "      <td>1327.00</td>\n",
       "      <td>...</td>\n",
       "      <td>891.00</td>\n",
       "      <td>NaN</td>\n",
       "      <td>825.00</td>\n",
       "      <td>998.00</td>\n",
       "      <td>NaN</td>\n",
       "      <td>1683.00</td>\n",
       "      <td>1219.00</td>\n",
       "      <td>2246.00</td>\n",
       "      <td>1410.00</td>\n",
       "      <td>766.00</td>\n",
       "    </tr>\n",
       "  </tbody>\n",
       "</table>\n",
       "<p>34 rows × 60 columns</p>\n",
       "</div>"
      ],
      "text/plain": [
       "Month      0       1       2       3       4       5       6       7       8   \\\n",
       "0     5334.00 2873.00 1137.00  767.00 2049.00     NaN 3550.00 2453.00 1451.00   \n",
       "1     5718.00 3238.00  484.00  795.00 1957.00  871.00 3664.00 2421.00 1142.00   \n",
       "2         NaN     NaN  724.00  943.00 1983.00 1344.00 3956.00 2317.00  973.00   \n",
       "3         NaN     NaN  577.00  645.00  269.00  997.00 3009.00 1534.00     NaN   \n",
       "4         NaN     NaN  549.00  696.00 1186.00 1099.00 2856.00 1615.00     NaN   \n",
       "5         NaN     NaN  794.00  759.00 1405.00 1339.00 3402.00 1987.00     NaN   \n",
       "6         NaN     NaN  804.00  687.00 1366.00 1235.00 3181.00 1971.00     NaN   \n",
       "7         NaN     NaN  853.00  859.00 1682.00 1498.00 3384.00 2289.00     NaN   \n",
       "8         NaN     NaN  824.00  897.00 1355.00 1214.00 3415.00 2231.00     NaN   \n",
       "9         NaN     NaN  715.00  772.00 1343.00 1209.00 3061.00 2049.00     NaN   \n",
       "10        NaN     NaN  746.00  900.00 1331.00 1320.00 3239.00 2161.00     NaN   \n",
       "11        NaN     NaN 1264.00 1119.00 2083.00 2049.00 5027.00 3341.00     NaN   \n",
       "12        NaN     NaN  872.00  959.00 1366.00 1595.00 2928.00 2245.00     NaN   \n",
       "13        NaN     NaN  864.00  865.00 1224.00 1190.00 2886.00 2204.00     NaN   \n",
       "14        NaN     NaN  906.00  929.00 1194.00 1409.00 2698.00 1914.00     NaN   \n",
       "15        NaN     NaN  762.00  676.00 1032.00 1024.00 2574.00 1500.00     NaN   \n",
       "16        NaN     NaN  773.00  721.00 1100.00 1121.00 2239.00 1554.00     NaN   \n",
       "17        NaN     NaN  877.00  806.00 1153.00 1303.00 2535.00 1825.00     NaN   \n",
       "18        NaN     NaN  741.00  749.00 1057.00 1296.00 2367.00 1641.00     NaN   \n",
       "19        NaN     NaN  885.00  845.00 1301.00 1462.00 2414.00 1913.00     NaN   \n",
       "20        NaN     NaN  812.00  843.00 1004.00 1224.00 2330.00 1547.00     NaN   \n",
       "21        NaN     NaN  879.00  751.00 1114.00 1129.00 2302.00 1547.00     NaN   \n",
       "22        NaN     NaN  987.00  987.00 1181.00 1295.00 2591.00 1849.00     NaN   \n",
       "23        NaN     NaN 1760.00 1245.00 1869.00 1993.00 3803.00 3004.00     NaN   \n",
       "24        NaN     NaN  933.00  958.00 1126.00 1315.00 2241.00 1963.00     NaN   \n",
       "25        NaN     NaN  834.00  722.00  936.00 1061.00 2165.00 1718.00     NaN   \n",
       "26        NaN     NaN  704.00  735.00  934.00 1088.00 1854.00 1370.00     NaN   \n",
       "27        NaN     NaN  687.00  664.00  778.00  872.00 1559.00 1171.00     NaN   \n",
       "28        NaN     NaN  694.00  689.00  797.00  943.00 1401.00 1089.00     NaN   \n",
       "29        NaN     NaN  777.00  664.00  774.00  927.00 1487.00 1212.00     NaN   \n",
       "30        NaN     NaN  778.00  537.00  828.00  971.00 1442.00 1287.00     NaN   \n",
       "31        NaN     NaN  927.00  652.00  891.00 1267.00 1531.00 1387.00     NaN   \n",
       "32        NaN     NaN  767.00  634.00  694.00 1026.00 1541.00 1215.00     NaN   \n",
       "33        NaN     NaN  690.00  584.00  758.00 1025.00 1652.00 1155.00     NaN   \n",
       "\n",
       "Month      9   ...      50      51      52      53      54      55      56  \\\n",
       "0         NaN  ... 3272.00 2567.00 1755.00 2013.00 8540.00     NaN 3173.00   \n",
       "1         NaN  ... 2909.00 2142.00 1646.00 1836.00 7205.00     NaN 2567.00   \n",
       "2         NaN  ... 3347.00 2473.00 1907.00 2244.00 8375.00     NaN 3011.00   \n",
       "3         NaN  ... 2658.00 1837.00 1411.00 1463.00 6176.00     NaN 2123.00   \n",
       "4         NaN  ... 2766.00 2093.00 1371.00 1660.00 6184.00  808.00 2091.00   \n",
       "5         NaN  ... 3255.00 1998.00 1677.00 1982.00 6874.00  665.00 2828.00   \n",
       "6         NaN  ... 3070.00 2194.00 1573.00 1909.00 6316.00  733.00 3133.00   \n",
       "7         NaN  ... 3474.00 2049.00 1708.00 2207.00 6931.00  659.00 3180.00   \n",
       "8         NaN  ... 3083.00 1792.00 1839.00 2051.00 6166.00  751.00 2539.00   \n",
       "9     2389.00  ... 3042.00 1710.00 1713.00 1958.00 5567.00  828.00 2230.00   \n",
       "10        NaN  ... 3145.00 1717.00 1675.00 1917.00 6417.00  984.00 2648.00   \n",
       "11        NaN  ... 4380.00 2185.00 2220.00 2796.00 8523.00 1154.00 3359.00   \n",
       "12        NaN  ... 2917.00 1603.00 1584.00 2020.00 7146.00 1036.00 2806.00   \n",
       "13        NaN  ... 2776.00 1364.00 1463.00 1750.00 5268.00  945.00 2218.00   \n",
       "14        NaN  ... 2735.00 1543.00 1544.00 1917.00 5786.00 1000.00 2133.00   \n",
       "15        NaN  ... 2025.00 1407.00 1177.00 1480.00 4594.00 1028.00 1576.00   \n",
       "16        NaN  ... 1797.00 1210.00 1205.00 1565.00 4814.00 1061.00 1891.00   \n",
       "17        NaN  ... 1668.00 1231.00 1154.00 1755.00 5386.00 1222.00 2459.00   \n",
       "18        NaN  ... 1540.00 1316.00 1199.00 1725.00 4673.00 1297.00 2249.00   \n",
       "19        NaN  ... 1580.00 1352.00 1435.00 1719.00 5365.00 1549.00 2867.00   \n",
       "20        NaN  ... 1267.00 1084.00 1167.00 1565.00 4075.00 1825.00 1725.00   \n",
       "21    2327.00  ... 1243.00 1116.00 1188.00 1585.00 4081.00 2048.00 1810.00   \n",
       "22        NaN  ... 1275.00 1055.00 1262.00 1659.00 5031.00 2459.00 2290.00   \n",
       "23        NaN  ... 2066.00 1584.00 2142.00 2355.00 6495.00 2285.00 2680.00   \n",
       "24        NaN  ... 1383.00  974.00 1243.00 1651.00 5418.00 2577.00 2300.00   \n",
       "25        NaN  ... 1030.00  645.00 1088.00 1288.00 4087.00 1913.00 1656.00   \n",
       "26        NaN  ...  950.00  544.00 1156.00 1341.00 4359.00 1844.00 1369.00   \n",
       "27        NaN  ...  790.00  484.00  990.00 1100.00  711.00 1611.00 1147.00   \n",
       "28        NaN  ...  984.00  742.00  815.00 1084.00     NaN 1586.00 1251.00   \n",
       "29        NaN  ...  879.00  653.00  794.00 1049.00     NaN 1522.00 1489.00   \n",
       "30        NaN  ... 1104.00  745.00  821.00 1211.00     NaN 1427.00 1457.00   \n",
       "31        NaN  ... 1051.00  908.00  929.00 1269.00     NaN 1584.00 1501.00   \n",
       "32        NaN  ...  863.00  594.00 1023.00 1157.00     NaN 1853.00 1137.00   \n",
       "33    1327.00  ...  891.00     NaN  825.00  998.00     NaN 1683.00 1219.00   \n",
       "\n",
       "Month      57      58      59  \n",
       "0         NaN     NaN 1981.00  \n",
       "1         NaN     NaN 1808.00  \n",
       "2     6185.00 3657.00 1900.00  \n",
       "3     5290.00 2787.00 1352.00  \n",
       "4     5003.00 2262.00 1283.00  \n",
       "5     5397.00 2804.00 1577.00  \n",
       "6     5470.00 2969.00 1681.00  \n",
       "7     5125.00 2813.00 1980.00  \n",
       "8     4774.00 2613.00 1758.00  \n",
       "9     4915.00 2796.00 1607.00  \n",
       "10    4646.00 2741.00 1712.00  \n",
       "11    7863.00 5057.00 2255.00  \n",
       "12    4487.00 2542.00 1464.00  \n",
       "13    4627.00 2715.00 1358.00  \n",
       "14    4538.00 2770.00 1379.00  \n",
       "15    3967.00 2219.00 1125.00  \n",
       "16    3619.00 1917.00 1107.00  \n",
       "17    3593.00 2043.00 1090.00  \n",
       "18    3591.00 2140.00 1020.00  \n",
       "19    3626.00 2661.00 1201.00  \n",
       "20    3360.00 2083.00 1052.00  \n",
       "21    3552.00 1971.00 1125.00  \n",
       "22    3286.00 2194.00 1392.00  \n",
       "23    5979.00 4479.00 1801.00  \n",
       "24    3833.00 2382.00 1172.00  \n",
       "25    3309.00 2250.00 1056.00  \n",
       "26    3017.00 2264.00 1087.00  \n",
       "27    2668.00 1601.00  869.00  \n",
       "28    2261.00 1326.00  816.00  \n",
       "29    2369.00 1535.00  887.00  \n",
       "30    2288.00 1673.00  975.00  \n",
       "31    2701.00 1713.00 1070.00  \n",
       "32    2177.00 1302.00  863.00  \n",
       "33    2246.00 1410.00  766.00  \n",
       "\n",
       "[34 rows x 60 columns]"
      ]
     },
     "execution_count": 41,
     "metadata": {},
     "output_type": "execute_result"
    }
   ],
   "source": [
    "df_tmp = df[['date_block_num','shop_id','item_cnt_day']]\n",
    "dt = pd.pivot_table(index='date_block_num',data=df_tmp,columns='shop_id',aggfunc=\"sum\").reset_index(drop=True)\n",
    "dt = dt.item_cnt_day\n",
    "dt.columns.name = 'Month'\n",
    "dt"
   ]
  },
  {
   "cell_type": "markdown",
   "id": "1fddeaf9",
   "metadata": {
    "papermill": {
     "duration": 0.044408,
     "end_time": "2022-06-29T10:21:54.253245",
     "exception": false,
     "start_time": "2022-06-29T10:21:54.208837",
     "status": "completed"
    },
    "tags": []
   },
   "source": [
    "- We have a total of 60 shops. But all of them are note active during all the months\n",
    "- For example in case of shop id 9, it is active only in 9th, 21th and 33th month. \n",
    "  - Shop id 0 and shop id 1 is only active in first two months. Shop id 52 is active on all the months.(From above pivot table)\n",
    "- We can see that some of the shops are not active in certain months and again they become active\n",
    "- On feature engineering we can create lag average of sales on shops as a feature."
   ]
  },
  {
   "cell_type": "markdown",
   "id": "b27f7bf0",
   "metadata": {
    "papermill": {
     "duration": 0.044169,
     "end_time": "2022-06-29T10:21:54.342199",
     "exception": false,
     "start_time": "2022-06-29T10:21:54.298030",
     "status": "completed"
    },
    "tags": []
   },
   "source": [
    "## **3. Feature Engineering**"
   ]
  },
  {
   "cell_type": "code",
   "execution_count": 42,
   "id": "67c2c754",
   "metadata": {
    "execution": {
     "iopub.execute_input": "2022-06-29T10:21:54.434649Z",
     "iopub.status.busy": "2022-06-29T10:21:54.433945Z",
     "iopub.status.idle": "2022-06-29T10:21:54.440595Z",
     "shell.execute_reply": "2022-06-29T10:21:54.439749Z"
    },
    "papermill": {
     "duration": 0.055671,
     "end_time": "2022-06-29T10:21:54.442939",
     "exception": false,
     "start_time": "2022-06-29T10:21:54.387268",
     "status": "completed"
    },
    "tags": []
   },
   "outputs": [],
   "source": [
    "def remove_outliers(df):\n",
    "    #remove outliers from item_cnt_day\n",
    "    df = df[df['item_cnt_day'] >= 0]\n",
    "    upper_quantile = df['item_cnt_day'].quantile(0.95)\n",
    "    df['item_cnt_day'] = np.where(df['item_cnt_day'] > upper_quantile, upper_quantile, df['item_cnt_day'])\n",
    "    \n",
    "    df = df[df['item_price'] >= 0]\n",
    "    upper_quantile = df['item_price'].quantile(0.95)\n",
    "    df['item_price'] = np.where(df['item_price'] > upper_quantile, upper_quantile, df['item_price'])\n",
    "    return df"
   ]
  },
  {
   "cell_type": "code",
   "execution_count": 43,
   "id": "9f12abb6",
   "metadata": {
    "execution": {
     "iopub.execute_input": "2022-06-29T10:21:54.533334Z",
     "iopub.status.busy": "2022-06-29T10:21:54.532919Z",
     "iopub.status.idle": "2022-06-29T10:21:54.769534Z",
     "shell.execute_reply": "2022-06-29T10:21:54.768209Z"
    },
    "papermill": {
     "duration": 0.285226,
     "end_time": "2022-06-29T10:21:54.772259",
     "exception": false,
     "start_time": "2022-06-29T10:21:54.487033",
     "status": "completed"
    },
    "tags": []
   },
   "outputs": [
    {
     "name": "stdout",
     "output_type": "stream",
     "text": [
      "(2935849, 9) (214200, 3)\n"
     ]
    }
   ],
   "source": [
    "#load the merged data\n",
    "df_train = dff.copy()\n",
    "df_test = pd.read_csv('/kaggle/input/competitive-data-science-predict-future-sales/test.csv')\n",
    "print(df_train.shape, df_test.shape)"
   ]
  },
  {
   "cell_type": "code",
   "execution_count": 44,
   "id": "41b1ede9",
   "metadata": {
    "execution": {
     "iopub.execute_input": "2022-06-29T10:21:54.863867Z",
     "iopub.status.busy": "2022-06-29T10:21:54.863444Z",
     "iopub.status.idle": "2022-06-29T10:21:55.392756Z",
     "shell.execute_reply": "2022-06-29T10:21:55.391961Z"
    },
    "papermill": {
     "duration": 0.578169,
     "end_time": "2022-06-29T10:21:55.394995",
     "exception": false,
     "start_time": "2022-06-29T10:21:54.816826",
     "status": "completed"
    },
    "tags": []
   },
   "outputs": [
    {
     "data": {
      "text/plain": [
       "(2928492, 9)"
      ]
     },
     "execution_count": 44,
     "metadata": {},
     "output_type": "execute_result"
    }
   ],
   "source": [
    "# removing outliers\n",
    "df_train = remove_outliers(df_train)\n",
    "df_train.shape"
   ]
  },
  {
   "cell_type": "code",
   "execution_count": 45,
   "id": "e660c887",
   "metadata": {
    "execution": {
     "iopub.execute_input": "2022-06-29T10:21:55.487821Z",
     "iopub.status.busy": "2022-06-29T10:21:55.486644Z",
     "iopub.status.idle": "2022-06-29T10:21:55.526830Z",
     "shell.execute_reply": "2022-06-29T10:21:55.525704Z"
    },
    "papermill": {
     "duration": 0.089016,
     "end_time": "2022-06-29T10:21:55.529571",
     "exception": false,
     "start_time": "2022-06-29T10:21:55.440555",
     "status": "completed"
    },
    "tags": []
   },
   "outputs": [],
   "source": [
    "#clippping values as per kaggle discussion\n",
    "df_train['item_cnt_day'] = df_train['item_cnt_day'].clip(0,20)"
   ]
  },
  {
   "cell_type": "markdown",
   "id": "7ed7cc0d",
   "metadata": {
    "papermill": {
     "duration": 0.044644,
     "end_time": "2022-06-29T10:21:55.618606",
     "exception": false,
     "start_time": "2022-06-29T10:21:55.573962",
     "status": "completed"
    },
    "tags": []
   },
   "source": [
    "- We have about 60 unique shop id and 21804 unique item id in train data.\n",
    "- We have about 42 shop id and 5100 unique item id in test data.\n",
    "- First we will create a dataframe with each all shop id item id combinations in train. We will create it for all 34 months. \n",
    "- All shop ids and item ids wont be present in all the months."
   ]
  },
  {
   "cell_type": "code",
   "execution_count": 46,
   "id": "7400d75a",
   "metadata": {
    "execution": {
     "iopub.execute_input": "2022-06-29T10:21:55.709702Z",
     "iopub.status.busy": "2022-06-29T10:21:55.709277Z",
     "iopub.status.idle": "2022-06-29T10:22:14.348199Z",
     "shell.execute_reply": "2022-06-29T10:22:14.346702Z"
    },
    "papermill": {
     "duration": 18.687696,
     "end_time": "2022-06-29T10:22:14.350882",
     "exception": false,
     "start_time": "2022-06-29T10:21:55.663186",
     "status": "completed"
    },
    "tags": []
   },
   "outputs": [
    {
     "name": "stdout",
     "output_type": "stream",
     "text": [
      "18.62792468070984\n"
     ]
    }
   ],
   "source": [
    "from itertools import product\n",
    "\n",
    "ts = time.time()\n",
    "matrix = []\n",
    "cols = ['date_block_num','shop_id','item_id']\n",
    "\n",
    "for i in range(34):\n",
    "    \n",
    "    # for each month, we are appending all month,shop_id,item_id combinations\n",
    "    sales = df_train[df_train['date_block_num']==i]\n",
    "    matrix.append(np.array(list(product([i], sales.shop_id.unique(), sales.item_id.unique())), dtype='int16'))\n",
    "        \n",
    "# creating a dataframe from list\n",
    "matrix = pd.DataFrame(np.vstack(matrix), columns=cols)\n",
    "\n",
    "# convert to np.int8 to reduce memory usage\n",
    "matrix['date_block_num'] = matrix['date_block_num'].astype(np.int8)\n",
    "matrix['shop_id'] = matrix['shop_id'].astype(np.int8)\n",
    "matrix['item_id'] = matrix['item_id'].astype(np.int16)\n",
    "matrix.sort_values(cols,inplace=True)\n",
    "matrix = matrix.reset_index(drop=True)\n",
    "print(f'{time.time() - ts}')"
   ]
  },
  {
   "cell_type": "code",
   "execution_count": 47,
   "id": "72600729",
   "metadata": {
    "execution": {
     "iopub.execute_input": "2022-06-29T10:22:14.442828Z",
     "iopub.status.busy": "2022-06-29T10:22:14.442429Z",
     "iopub.status.idle": "2022-06-29T10:22:14.455590Z",
     "shell.execute_reply": "2022-06-29T10:22:14.453632Z"
    },
    "papermill": {
     "duration": 0.06218,
     "end_time": "2022-06-29T10:22:14.458381",
     "exception": false,
     "start_time": "2022-06-29T10:22:14.396201",
     "status": "completed"
    },
    "tags": []
   },
   "outputs": [
    {
     "name": "stdout",
     "output_type": "stream",
     "text": [
      "(10884554, 3)\n"
     ]
    },
    {
     "data": {
      "text/html": [
       "<div>\n",
       "<style scoped>\n",
       "    .dataframe tbody tr th:only-of-type {\n",
       "        vertical-align: middle;\n",
       "    }\n",
       "\n",
       "    .dataframe tbody tr th {\n",
       "        vertical-align: top;\n",
       "    }\n",
       "\n",
       "    .dataframe thead th {\n",
       "        text-align: right;\n",
       "    }\n",
       "</style>\n",
       "<table border=\"1\" class=\"dataframe\">\n",
       "  <thead>\n",
       "    <tr style=\"text-align: right;\">\n",
       "      <th></th>\n",
       "      <th>date_block_num</th>\n",
       "      <th>shop_id</th>\n",
       "      <th>item_id</th>\n",
       "    </tr>\n",
       "  </thead>\n",
       "  <tbody>\n",
       "    <tr>\n",
       "      <th>0</th>\n",
       "      <td>0</td>\n",
       "      <td>0</td>\n",
       "      <td>19</td>\n",
       "    </tr>\n",
       "    <tr>\n",
       "      <th>1</th>\n",
       "      <td>0</td>\n",
       "      <td>0</td>\n",
       "      <td>27</td>\n",
       "    </tr>\n",
       "    <tr>\n",
       "      <th>2</th>\n",
       "      <td>0</td>\n",
       "      <td>0</td>\n",
       "      <td>28</td>\n",
       "    </tr>\n",
       "    <tr>\n",
       "      <th>3</th>\n",
       "      <td>0</td>\n",
       "      <td>0</td>\n",
       "      <td>29</td>\n",
       "    </tr>\n",
       "    <tr>\n",
       "      <th>4</th>\n",
       "      <td>0</td>\n",
       "      <td>0</td>\n",
       "      <td>32</td>\n",
       "    </tr>\n",
       "  </tbody>\n",
       "</table>\n",
       "</div>"
      ],
      "text/plain": [
       "   date_block_num  shop_id  item_id\n",
       "0               0        0       19\n",
       "1               0        0       27\n",
       "2               0        0       28\n",
       "3               0        0       29\n",
       "4               0        0       32"
      ]
     },
     "execution_count": 47,
     "metadata": {},
     "output_type": "execute_result"
    }
   ],
   "source": [
    "print(matrix.shape)\n",
    "matrix.head()"
   ]
  },
  {
   "cell_type": "code",
   "execution_count": 48,
   "id": "06d397b3",
   "metadata": {
    "execution": {
     "iopub.execute_input": "2022-06-29T10:22:14.551440Z",
     "iopub.status.busy": "2022-06-29T10:22:14.551065Z",
     "iopub.status.idle": "2022-06-29T10:22:15.145125Z",
     "shell.execute_reply": "2022-06-29T10:22:15.143754Z"
    },
    "papermill": {
     "duration": 0.643604,
     "end_time": "2022-06-29T10:22:15.147813",
     "exception": false,
     "start_time": "2022-06-29T10:22:14.504209",
     "status": "completed"
    },
    "tags": []
   },
   "outputs": [
    {
     "data": {
      "text/plain": [
       "(11098754, 4)"
      ]
     },
     "execution_count": 48,
     "metadata": {},
     "output_type": "execute_result"
    }
   ],
   "source": [
    "df_test['date_block_num'] = 34\n",
    "\n",
    "# conacting with train matrix\n",
    "matrix = pd.concat([matrix,df_test],axis=0).reset_index(drop=True)\n",
    "\n",
    "matrix.shape"
   ]
  },
  {
   "cell_type": "markdown",
   "id": "72bc9390",
   "metadata": {
    "papermill": {
     "duration": 0.047416,
     "end_time": "2022-06-29T10:22:15.240474",
     "exception": false,
     "start_time": "2022-06-29T10:22:15.193058",
     "status": "completed"
    },
    "tags": []
   },
   "source": [
    "### 3-(1). Total number of each item sold per month for each shop\n",
    "- [sum aggregation] - item_cnt_month"
   ]
  },
  {
   "cell_type": "code",
   "execution_count": 49,
   "id": "4213a928",
   "metadata": {
    "execution": {
     "iopub.execute_input": "2022-06-29T10:22:15.335218Z",
     "iopub.status.busy": "2022-06-29T10:22:15.334760Z",
     "iopub.status.idle": "2022-06-29T10:22:15.362610Z",
     "shell.execute_reply": "2022-06-29T10:22:15.361518Z"
    },
    "papermill": {
     "duration": 0.077387,
     "end_time": "2022-06-29T10:22:15.365020",
     "exception": false,
     "start_time": "2022-06-29T10:22:15.287633",
     "status": "completed"
    },
    "tags": []
   },
   "outputs": [
    {
     "data": {
      "text/html": [
       "<div>\n",
       "<style scoped>\n",
       "    .dataframe tbody tr th:only-of-type {\n",
       "        vertical-align: middle;\n",
       "    }\n",
       "\n",
       "    .dataframe tbody tr th {\n",
       "        vertical-align: top;\n",
       "    }\n",
       "\n",
       "    .dataframe thead th {\n",
       "        text-align: right;\n",
       "    }\n",
       "</style>\n",
       "<table border=\"1\" class=\"dataframe\">\n",
       "  <thead>\n",
       "    <tr style=\"text-align: right;\">\n",
       "      <th></th>\n",
       "      <th>date</th>\n",
       "      <th>date_block_num</th>\n",
       "      <th>shop_id</th>\n",
       "      <th>item_id</th>\n",
       "      <th>item_price</th>\n",
       "      <th>item_cnt_day</th>\n",
       "      <th>item_category_id</th>\n",
       "      <th>item_category_name</th>\n",
       "      <th>shop_name</th>\n",
       "    </tr>\n",
       "  </thead>\n",
       "  <tbody>\n",
       "    <tr>\n",
       "      <th>1374240</th>\n",
       "      <td>03.01.2013</td>\n",
       "      <td>0</td>\n",
       "      <td>0</td>\n",
       "      <td>32</td>\n",
       "      <td>221.00</td>\n",
       "      <td>2.00</td>\n",
       "      <td>40</td>\n",
       "      <td>Кино - DVD</td>\n",
       "      <td>!Якутск Орджоникидзе, 56 фран</td>\n",
       "    </tr>\n",
       "    <tr>\n",
       "      <th>1374241</th>\n",
       "      <td>21.01.2013</td>\n",
       "      <td>0</td>\n",
       "      <td>0</td>\n",
       "      <td>32</td>\n",
       "      <td>221.00</td>\n",
       "      <td>2.00</td>\n",
       "      <td>40</td>\n",
       "      <td>Кино - DVD</td>\n",
       "      <td>!Якутск Орджоникидзе, 56 фран</td>\n",
       "    </tr>\n",
       "    <tr>\n",
       "      <th>1374242</th>\n",
       "      <td>25.01.2013</td>\n",
       "      <td>0</td>\n",
       "      <td>0</td>\n",
       "      <td>32</td>\n",
       "      <td>221.00</td>\n",
       "      <td>1.00</td>\n",
       "      <td>40</td>\n",
       "      <td>Кино - DVD</td>\n",
       "      <td>!Якутск Орджоникидзе, 56 фран</td>\n",
       "    </tr>\n",
       "    <tr>\n",
       "      <th>1374243</th>\n",
       "      <td>31.01.2013</td>\n",
       "      <td>0</td>\n",
       "      <td>0</td>\n",
       "      <td>32</td>\n",
       "      <td>221.00</td>\n",
       "      <td>1.00</td>\n",
       "      <td>40</td>\n",
       "      <td>Кино - DVD</td>\n",
       "      <td>!Якутск Орджоникидзе, 56 фран</td>\n",
       "    </tr>\n",
       "  </tbody>\n",
       "</table>\n",
       "</div>"
      ],
      "text/plain": [
       "               date  date_block_num  shop_id  item_id  item_price  \\\n",
       "1374240  03.01.2013               0        0       32      221.00   \n",
       "1374241  21.01.2013               0        0       32      221.00   \n",
       "1374242  25.01.2013               0        0       32      221.00   \n",
       "1374243  31.01.2013               0        0       32      221.00   \n",
       "\n",
       "         item_cnt_day  item_category_id item_category_name  \\\n",
       "1374240          2.00                40         Кино - DVD   \n",
       "1374241          2.00                40         Кино - DVD   \n",
       "1374242          1.00                40         Кино - DVD   \n",
       "1374243          1.00                40         Кино - DVD   \n",
       "\n",
       "                             shop_name  \n",
       "1374240  !Якутск Орджоникидзе, 56 фран  \n",
       "1374241  !Якутск Орджоникидзе, 56 фран  \n",
       "1374242  !Якутск Орджоникидзе, 56 фран  \n",
       "1374243  !Якутск Орджоникидзе, 56 фран  "
      ]
     },
     "execution_count": 49,
     "metadata": {},
     "output_type": "execute_result"
    }
   ],
   "source": [
    "# example\n",
    "df_train.loc[(df_train['date_block_num'] == 0) &  (df_train['shop_id'] == 0) & (df_train['item_id'] == 32)]"
   ]
  },
  {
   "cell_type": "markdown",
   "id": "4f264339",
   "metadata": {
    "papermill": {
     "duration": 0.044813,
     "end_time": "2022-06-29T10:22:15.456745",
     "exception": false,
     "start_time": "2022-06-29T10:22:15.411932",
     "status": "completed"
    },
    "tags": []
   },
   "source": [
    "- We can have same item sold on same shop on same month on different days. So we will do an sum aggregation on item_cnt day on combination of `date_block_num`, `shop_id`, `item_id`"
   ]
  },
  {
   "cell_type": "code",
   "execution_count": 50,
   "id": "7b0aaa74",
   "metadata": {
    "execution": {
     "iopub.execute_input": "2022-06-29T10:22:15.548543Z",
     "iopub.status.busy": "2022-06-29T10:22:15.548145Z",
     "iopub.status.idle": "2022-06-29T10:22:16.506793Z",
     "shell.execute_reply": "2022-06-29T10:22:16.505612Z"
    },
    "papermill": {
     "duration": 1.008085,
     "end_time": "2022-06-29T10:22:16.509676",
     "exception": false,
     "start_time": "2022-06-29T10:22:15.501591",
     "status": "completed"
    },
    "tags": []
   },
   "outputs": [
    {
     "data": {
      "text/html": [
       "<div>\n",
       "<style scoped>\n",
       "    .dataframe tbody tr th:only-of-type {\n",
       "        vertical-align: middle;\n",
       "    }\n",
       "\n",
       "    .dataframe tbody tr th {\n",
       "        vertical-align: top;\n",
       "    }\n",
       "\n",
       "    .dataframe thead th {\n",
       "        text-align: right;\n",
       "    }\n",
       "</style>\n",
       "<table border=\"1\" class=\"dataframe\">\n",
       "  <thead>\n",
       "    <tr style=\"text-align: right;\">\n",
       "      <th></th>\n",
       "      <th>date_block_num</th>\n",
       "      <th>shop_id</th>\n",
       "      <th>item_id</th>\n",
       "      <th>item_cnt_month</th>\n",
       "    </tr>\n",
       "  </thead>\n",
       "  <tbody>\n",
       "    <tr>\n",
       "      <th>0</th>\n",
       "      <td>0</td>\n",
       "      <td>0</td>\n",
       "      <td>32</td>\n",
       "      <td>6.00</td>\n",
       "    </tr>\n",
       "    <tr>\n",
       "      <th>1</th>\n",
       "      <td>0</td>\n",
       "      <td>0</td>\n",
       "      <td>33</td>\n",
       "      <td>3.00</td>\n",
       "    </tr>\n",
       "    <tr>\n",
       "      <th>2</th>\n",
       "      <td>0</td>\n",
       "      <td>0</td>\n",
       "      <td>35</td>\n",
       "      <td>1.00</td>\n",
       "    </tr>\n",
       "    <tr>\n",
       "      <th>3</th>\n",
       "      <td>0</td>\n",
       "      <td>0</td>\n",
       "      <td>43</td>\n",
       "      <td>1.00</td>\n",
       "    </tr>\n",
       "    <tr>\n",
       "      <th>4</th>\n",
       "      <td>0</td>\n",
       "      <td>0</td>\n",
       "      <td>51</td>\n",
       "      <td>2.00</td>\n",
       "    </tr>\n",
       "  </tbody>\n",
       "</table>\n",
       "</div>"
      ],
      "text/plain": [
       "   date_block_num  shop_id  item_id  item_cnt_month\n",
       "0               0        0       32            6.00\n",
       "1               0        0       33            3.00\n",
       "2               0        0       35            1.00\n",
       "3               0        0       43            1.00\n",
       "4               0        0       51            2.00"
      ]
     },
     "execution_count": 50,
     "metadata": {},
     "output_type": "execute_result"
    }
   ],
   "source": [
    "tmp = df_train[['date_block_num','shop_id','item_id','item_cnt_day']]\n",
    "tmp = tmp.groupby(by=['date_block_num','shop_id','item_id']).agg({'item_cnt_day':'sum'})\n",
    "tmp.columns = ['item_cnt_month']\n",
    "tmp = tmp.reset_index(drop=False)\n",
    "tmp.head()"
   ]
  },
  {
   "cell_type": "code",
   "execution_count": 51,
   "id": "c11f7e67",
   "metadata": {
    "execution": {
     "iopub.execute_input": "2022-06-29T10:22:16.605608Z",
     "iopub.status.busy": "2022-06-29T10:22:16.605216Z",
     "iopub.status.idle": "2022-06-29T10:22:21.578729Z",
     "shell.execute_reply": "2022-06-29T10:22:21.577288Z"
    },
    "papermill": {
     "duration": 5.025403,
     "end_time": "2022-06-29T10:22:21.581595",
     "exception": false,
     "start_time": "2022-06-29T10:22:16.556192",
     "status": "completed"
    },
    "tags": []
   },
   "outputs": [],
   "source": [
    "#merging with main frame\n",
    "matrix = matrix.merge(tmp,on=['date_block_num','shop_id','item_id'],how='left')\n",
    "matrix = matrix.fillna(0)\n",
    "\n",
    "#clip values of max items sold per month to 20\n",
    "matrix['item_cnt_month'] = matrix['item_cnt_month'].clip(0,20)\n",
    "del tmp"
   ]
  },
  {
   "cell_type": "code",
   "execution_count": 52,
   "id": "abbf0c0d",
   "metadata": {
    "execution": {
     "iopub.execute_input": "2022-06-29T10:22:21.676078Z",
     "iopub.status.busy": "2022-06-29T10:22:21.675372Z",
     "iopub.status.idle": "2022-06-29T10:22:21.687655Z",
     "shell.execute_reply": "2022-06-29T10:22:21.686480Z"
    },
    "papermill": {
     "duration": 0.062349,
     "end_time": "2022-06-29T10:22:21.690167",
     "exception": false,
     "start_time": "2022-06-29T10:22:21.627818",
     "status": "completed"
    },
    "tags": []
   },
   "outputs": [
    {
     "data": {
      "text/html": [
       "<div>\n",
       "<style scoped>\n",
       "    .dataframe tbody tr th:only-of-type {\n",
       "        vertical-align: middle;\n",
       "    }\n",
       "\n",
       "    .dataframe tbody tr th {\n",
       "        vertical-align: top;\n",
       "    }\n",
       "\n",
       "    .dataframe thead th {\n",
       "        text-align: right;\n",
       "    }\n",
       "</style>\n",
       "<table border=\"1\" class=\"dataframe\">\n",
       "  <thead>\n",
       "    <tr style=\"text-align: right;\">\n",
       "      <th></th>\n",
       "      <th>date_block_num</th>\n",
       "      <th>shop_id</th>\n",
       "      <th>item_id</th>\n",
       "      <th>ID</th>\n",
       "      <th>item_cnt_month</th>\n",
       "    </tr>\n",
       "  </thead>\n",
       "  <tbody>\n",
       "    <tr>\n",
       "      <th>0</th>\n",
       "      <td>0</td>\n",
       "      <td>0</td>\n",
       "      <td>19</td>\n",
       "      <td>0.00</td>\n",
       "      <td>0.00</td>\n",
       "    </tr>\n",
       "    <tr>\n",
       "      <th>1</th>\n",
       "      <td>0</td>\n",
       "      <td>0</td>\n",
       "      <td>27</td>\n",
       "      <td>0.00</td>\n",
       "      <td>0.00</td>\n",
       "    </tr>\n",
       "    <tr>\n",
       "      <th>2</th>\n",
       "      <td>0</td>\n",
       "      <td>0</td>\n",
       "      <td>28</td>\n",
       "      <td>0.00</td>\n",
       "      <td>0.00</td>\n",
       "    </tr>\n",
       "    <tr>\n",
       "      <th>3</th>\n",
       "      <td>0</td>\n",
       "      <td>0</td>\n",
       "      <td>29</td>\n",
       "      <td>0.00</td>\n",
       "      <td>0.00</td>\n",
       "    </tr>\n",
       "    <tr>\n",
       "      <th>4</th>\n",
       "      <td>0</td>\n",
       "      <td>0</td>\n",
       "      <td>32</td>\n",
       "      <td>0.00</td>\n",
       "      <td>6.00</td>\n",
       "    </tr>\n",
       "  </tbody>\n",
       "</table>\n",
       "</div>"
      ],
      "text/plain": [
       "   date_block_num  shop_id  item_id   ID  item_cnt_month\n",
       "0               0        0       19 0.00            0.00\n",
       "1               0        0       27 0.00            0.00\n",
       "2               0        0       28 0.00            0.00\n",
       "3               0        0       29 0.00            0.00\n",
       "4               0        0       32 0.00            6.00"
      ]
     },
     "execution_count": 52,
     "metadata": {},
     "output_type": "execute_result"
    }
   ],
   "source": [
    "matrix.head()"
   ]
  },
  {
   "cell_type": "markdown",
   "id": "5462ff4f",
   "metadata": {
    "papermill": {
     "duration": 0.045556,
     "end_time": "2022-06-29T10:22:21.782529",
     "exception": false,
     "start_time": "2022-06-29T10:22:21.736973",
     "status": "completed"
    },
    "tags": []
   },
   "source": [
    "### 3-(2). Lag Features"
   ]
  },
  {
   "cell_type": "code",
   "execution_count": 53,
   "id": "e82a70d4",
   "metadata": {
    "execution": {
     "iopub.execute_input": "2022-06-29T10:22:21.881891Z",
     "iopub.status.busy": "2022-06-29T10:22:21.881068Z",
     "iopub.status.idle": "2022-06-29T10:22:21.889213Z",
     "shell.execute_reply": "2022-06-29T10:22:21.888135Z"
    },
    "papermill": {
     "duration": 0.062154,
     "end_time": "2022-06-29T10:22:21.891742",
     "exception": false,
     "start_time": "2022-06-29T10:22:21.829588",
     "status": "completed"
    },
    "tags": []
   },
   "outputs": [],
   "source": [
    "def lag_feature(df, lags, col):\n",
    "    \"\"\"\n",
    "    creates a lag feature. eg: item_cnt_month corresponding to a shop_id item_id combination of previous month, \n",
    "    previous second month etc\n",
    "    \"\"\"\n",
    "    \n",
    "    tmp = df[['date_block_num','shop_id','item_id',col]]\n",
    "    for i in lags:\n",
    "        shifted = tmp.copy()\n",
    "        shifted.columns = ['date_block_num','shop_id','item_id', col+'_lag_'+str(i)]\n",
    "        shifted['date_block_num'] += i\n",
    "        df = pd.merge(df, shifted, on=['date_block_num','shop_id','item_id'], how='left')\n",
    "    return df"
   ]
  },
  {
   "cell_type": "markdown",
   "id": "fe77d79c",
   "metadata": {
    "papermill": {
     "duration": 0.048218,
     "end_time": "2022-06-29T10:22:21.986683",
     "exception": false,
     "start_time": "2022-06-29T10:22:21.938465",
     "status": "completed"
    },
    "tags": []
   },
   "source": [
    "- Let us create lag features on item_cnt_month from lag 1 to lag 12."
   ]
  },
  {
   "cell_type": "code",
   "execution_count": 54,
   "id": "2efe37ba",
   "metadata": {
    "execution": {
     "iopub.execute_input": "2022-06-29T10:22:22.083876Z",
     "iopub.status.busy": "2022-06-29T10:22:22.083070Z",
     "iopub.status.idle": "2022-06-29T10:24:00.078878Z",
     "shell.execute_reply": "2022-06-29T10:24:00.077714Z"
    },
    "papermill": {
     "duration": 98.094267,
     "end_time": "2022-06-29T10:24:00.127873",
     "exception": false,
     "start_time": "2022-06-29T10:22:22.033606",
     "status": "completed"
    },
    "tags": []
   },
   "outputs": [
    {
     "data": {
      "text/plain": [
       "97.98606944084167"
      ]
     },
     "execution_count": 54,
     "metadata": {},
     "output_type": "execute_result"
    }
   ],
   "source": [
    "ts = time.time()\n",
    "matrix = lag_feature(matrix, [1,2,3,4,5,6,7,8,9,10,11,12], 'item_cnt_month')\n",
    "#fill missing values\n",
    "matrix = matrix.fillna(0)\n",
    "time.time() - ts"
   ]
  },
  {
   "cell_type": "markdown",
   "id": "ddbd67a7",
   "metadata": {
    "papermill": {
     "duration": 0.045752,
     "end_time": "2022-06-29T10:24:00.219688",
     "exception": false,
     "start_time": "2022-06-29T10:24:00.173936",
     "status": "completed"
    },
    "tags": []
   },
   "source": [
    "## **4. Modeling**"
   ]
  },
  {
   "cell_type": "markdown",
   "id": "89b80e57",
   "metadata": {
    "papermill": {
     "duration": 0.045461,
     "end_time": "2022-06-29T10:24:00.310856",
     "exception": false,
     "start_time": "2022-06-29T10:24:00.265395",
     "status": "completed"
    },
    "tags": []
   },
   "source": [
    "#### Train and test split\n",
    "- months 11 to month 33 -> train data  (since we are taking 12 months lag)\n",
    "- month 33 -> validation data\n",
    "- month 34 -> test data (provided in competition)"
   ]
  },
  {
   "cell_type": "code",
   "execution_count": 55,
   "id": "1fadd202",
   "metadata": {
    "execution": {
     "iopub.execute_input": "2022-06-29T10:24:00.405234Z",
     "iopub.status.busy": "2022-06-29T10:24:00.404423Z",
     "iopub.status.idle": "2022-06-29T10:24:01.594384Z",
     "shell.execute_reply": "2022-06-29T10:24:01.593050Z"
    },
    "papermill": {
     "duration": 1.239675,
     "end_time": "2022-06-29T10:24:01.597116",
     "exception": false,
     "start_time": "2022-06-29T10:24:00.357441",
     "status": "completed"
    },
    "tags": []
   },
   "outputs": [
    {
     "name": "stdout",
     "output_type": "stream",
     "text": [
      "(6167580, 12) (6167580,)\n",
      "(238084, 12) (238084,)\n"
     ]
    }
   ],
   "source": [
    "feats = [i for i in matrix.columns if 'lag' in i] + ['shop_id','item_id','date_block_num','item_cnt_month']\n",
    "\n",
    "data = matrix[feats]\n",
    "\n",
    "train_df = data.loc[(data['date_block_num'] > 11) & (data['date_block_num'] < 33)]\n",
    "val_df = data.loc[data['date_block_num'] == 33]\n",
    "test_df = data.loc[data['date_block_num'] == 34]\n",
    "\n",
    "X_train = train_df.drop(columns=['shop_id','item_id','date_block_num','item_cnt_month'])\n",
    "y_train = train_df['item_cnt_month']\n",
    "X_val = val_df.drop(columns=['shop_id','item_id','date_block_num','item_cnt_month'])\n",
    "y_val = val_df['item_cnt_month']\n",
    "X_test = test_df.drop(columns=['shop_id','item_id','date_block_num','item_cnt_month'])\n",
    "\n",
    "print(X_train.shape, y_train.shape)\n",
    "print(X_val.shape, y_val.shape)"
   ]
  },
  {
   "cell_type": "code",
   "execution_count": 56,
   "id": "5b253c47",
   "metadata": {
    "execution": {
     "iopub.execute_input": "2022-06-29T10:24:01.692287Z",
     "iopub.status.busy": "2022-06-29T10:24:01.691813Z",
     "iopub.status.idle": "2022-06-29T10:24:01.701976Z",
     "shell.execute_reply": "2022-06-29T10:24:01.700751Z"
    },
    "papermill": {
     "duration": 0.061907,
     "end_time": "2022-06-29T10:24:01.704548",
     "exception": false,
     "start_time": "2022-06-29T10:24:01.642641",
     "status": "completed"
    },
    "tags": []
   },
   "outputs": [],
   "source": [
    "# del matrix\n",
    "del data\n",
    "del train_df\n",
    "del val_df\n",
    "del test_df"
   ]
  },
  {
   "cell_type": "markdown",
   "id": "c97743d1",
   "metadata": {
    "papermill": {
     "duration": 0.046125,
     "end_time": "2022-06-29T10:24:01.799180",
     "exception": false,
     "start_time": "2022-06-29T10:24:01.753055",
     "status": "completed"
    },
    "tags": []
   },
   "source": [
    "### 4-(1). Random Forest"
   ]
  },
  {
   "cell_type": "code",
   "execution_count": 57,
   "id": "805becaf",
   "metadata": {
    "execution": {
     "iopub.execute_input": "2022-06-29T10:24:01.892855Z",
     "iopub.status.busy": "2022-06-29T10:24:01.892420Z",
     "iopub.status.idle": "2022-06-29T10:28:40.254743Z",
     "shell.execute_reply": "2022-06-29T10:28:40.253530Z"
    },
    "papermill": {
     "duration": 278.467286,
     "end_time": "2022-06-29T10:28:40.312336",
     "exception": false,
     "start_time": "2022-06-29T10:24:01.845050",
     "status": "completed"
    },
    "tags": []
   },
   "outputs": [
    {
     "name": "stdout",
     "output_type": "stream",
     "text": [
      "Train rmse: 0.8472916715358719\n",
      "Val rmse: 0.7883139004626974\n"
     ]
    }
   ],
   "source": [
    "from sklearn.ensemble import RandomForestRegressor\n",
    "from sklearn.metrics import mean_squared_error\n",
    "\n",
    "model = RandomForestRegressor(random_state=42,max_depth=5,n_estimators=50,min_samples_split=4)\n",
    "model.fit(X_train,y_train)\n",
    "y_train_pred = model.predict(X_train)\n",
    "y_val_pred = model.predict(X_val)\n",
    "y_test_pred = model.predict(X_test)\n",
    "\n",
    "train_rmse = mean_squared_error(y_train,y_train_pred,squared=False)\n",
    "val_rmse = mean_squared_error(y_val,y_val_pred,squared=False)\n",
    "\n",
    "print(f'Train rmse: {train_rmse}')\n",
    "print(f'Val rmse: {val_rmse}')"
   ]
  },
  {
   "cell_type": "markdown",
   "id": "49a7a95d",
   "metadata": {
    "papermill": {
     "duration": 0.046492,
     "end_time": "2022-06-29T10:28:40.409435",
     "exception": false,
     "start_time": "2022-06-29T10:28:40.362943",
     "status": "completed"
    },
    "tags": []
   },
   "source": [
    "### 4-(2). Xgboost"
   ]
  },
  {
   "cell_type": "code",
   "execution_count": 58,
   "id": "62080f0d",
   "metadata": {
    "execution": {
     "iopub.execute_input": "2022-06-29T10:28:40.506746Z",
     "iopub.status.busy": "2022-06-29T10:28:40.506029Z",
     "iopub.status.idle": "2022-06-29T10:29:12.120880Z",
     "shell.execute_reply": "2022-06-29T10:29:12.119690Z"
    },
    "papermill": {
     "duration": 31.667055,
     "end_time": "2022-06-29T10:29:12.123372",
     "exception": false,
     "start_time": "2022-06-29T10:28:40.456317",
     "status": "completed"
    },
    "tags": []
   },
   "outputs": [
    {
     "name": "stdout",
     "output_type": "stream",
     "text": [
      "[0]\tvalidation_0-rmse:0.99001\tvalidation_1-rmse:0.89773\n",
      "[1]\tvalidation_0-rmse:0.91739\tvalidation_1-rmse:0.84090\n",
      "[2]\tvalidation_0-rmse:0.87880\tvalidation_1-rmse:0.81123\n",
      "[3]\tvalidation_0-rmse:0.85690\tvalidation_1-rmse:0.79462\n",
      "[4]\tvalidation_0-rmse:0.84795\tvalidation_1-rmse:0.78744\n",
      "[5]\tvalidation_0-rmse:0.84423\tvalidation_1-rmse:0.78416\n",
      "[6]\tvalidation_0-rmse:0.84129\tvalidation_1-rmse:0.78216\n",
      "[7]\tvalidation_0-rmse:0.83721\tvalidation_1-rmse:0.78008\n",
      "[8]\tvalidation_0-rmse:0.83505\tvalidation_1-rmse:0.77929\n",
      "[9]\tvalidation_0-rmse:0.83404\tvalidation_1-rmse:0.77884\n",
      "[10]\tvalidation_0-rmse:0.83337\tvalidation_1-rmse:0.77890\n",
      "[11]\tvalidation_0-rmse:0.83294\tvalidation_1-rmse:0.77903\n",
      "[12]\tvalidation_0-rmse:0.83265\tvalidation_1-rmse:0.77903\n",
      "[13]\tvalidation_0-rmse:0.83252\tvalidation_1-rmse:0.77911\n",
      "[14]\tvalidation_0-rmse:0.83234\tvalidation_1-rmse:0.77922\n",
      "[15]\tvalidation_0-rmse:0.83221\tvalidation_1-rmse:0.77933\n",
      "[16]\tvalidation_0-rmse:0.83206\tvalidation_1-rmse:0.77929\n",
      "[17]\tvalidation_0-rmse:0.83191\tvalidation_1-rmse:0.77947\n",
      "[18]\tvalidation_0-rmse:0.83179\tvalidation_1-rmse:0.77949\n",
      "[19]\tvalidation_0-rmse:0.83170\tvalidation_1-rmse:0.77967\n"
     ]
    },
    {
     "data": {
      "text/plain": [
       "31.485252618789673"
      ]
     },
     "execution_count": 58,
     "metadata": {},
     "output_type": "execute_result"
    }
   ],
   "source": [
    "import xgboost as xgb\n",
    "ts = time.time()\n",
    "\n",
    "model = xgb.XGBRegressor(\n",
    "    max_depth=8,\n",
    "    n_estimators=1000,\n",
    "    min_child_weight=300, \n",
    "    colsample_bytree=0.8, \n",
    "    subsample=0.8, \n",
    "    eta=0.3,    \n",
    "    seed=42)\n",
    "\n",
    "model.fit(\n",
    "    X_train, \n",
    "    y_train, \n",
    "    eval_metric=\"rmse\", \n",
    "    eval_set=[(X_train, y_train), (X_val, y_val)], \n",
    "    verbose=True, \n",
    "    early_stopping_rounds = 10)\n",
    "\n",
    "time.time() - ts"
   ]
  },
  {
   "cell_type": "markdown",
   "id": "4fca74aa",
   "metadata": {
    "papermill": {
     "duration": 0.062377,
     "end_time": "2022-06-29T10:29:12.239865",
     "exception": false,
     "start_time": "2022-06-29T10:29:12.177488",
     "status": "completed"
    },
    "tags": []
   },
   "source": [
    "## **5. Improve our reslut**\n",
    "### 5-(1). Feature engineering"
   ]
  },
  {
   "cell_type": "markdown",
   "id": "682ff672",
   "metadata": {
    "papermill": {
     "duration": 0.049177,
     "end_time": "2022-06-29T10:29:12.350839",
     "exception": false,
     "start_time": "2022-06-29T10:29:12.301662",
     "status": "completed"
    },
    "tags": []
   },
   "source": [
    "#### Lag features based on average number of items sold per month.\n",
    "- mean aggregation of `item_cnt_month` based on `date_block_num`"
   ]
  },
  {
   "cell_type": "code",
   "execution_count": 59,
   "id": "0837f10c",
   "metadata": {
    "execution": {
     "iopub.execute_input": "2022-06-29T10:29:12.451071Z",
     "iopub.status.busy": "2022-06-29T10:29:12.450131Z",
     "iopub.status.idle": "2022-06-29T10:29:14.829615Z",
     "shell.execute_reply": "2022-06-29T10:29:14.828327Z"
    },
    "papermill": {
     "duration": 2.432057,
     "end_time": "2022-06-29T10:29:14.833055",
     "exception": false,
     "start_time": "2022-06-29T10:29:12.400998",
     "status": "completed"
    },
    "tags": []
   },
   "outputs": [],
   "source": [
    "group = matrix.groupby(by=['date_block_num']).agg({'item_cnt_month':['mean']})\n",
    "group.columns = ['item_cnt_month_mean_date']\n",
    "group = group.reset_index()\n",
    "\n",
    "# merging with skelton\n",
    "matrix = matrix.merge(group,on=['date_block_num'],how=\"left\")\n",
    "\n",
    "#adjusting datatype\n",
    "matrix['item_cnt_month_mean_date'] = matrix['item_cnt_month_mean_date'].astype(np.float16)"
   ]
  },
  {
   "cell_type": "code",
   "execution_count": 60,
   "id": "0bd4cd1d",
   "metadata": {
    "execution": {
     "iopub.execute_input": "2022-06-29T10:29:14.944193Z",
     "iopub.status.busy": "2022-06-29T10:29:14.943104Z",
     "iopub.status.idle": "2022-06-29T10:30:14.044979Z",
     "shell.execute_reply": "2022-06-29T10:30:14.043806Z"
    },
    "papermill": {
     "duration": 59.206653,
     "end_time": "2022-06-29T10:30:14.095111",
     "exception": false,
     "start_time": "2022-06-29T10:29:14.888458",
     "status": "completed"
    },
    "tags": []
   },
   "outputs": [
    {
     "data": {
      "text/plain": [
       "59.092254400253296"
      ]
     },
     "execution_count": 60,
     "metadata": {},
     "output_type": "execute_result"
    }
   ],
   "source": [
    "ts = time.time()\n",
    "matrix = lag_feature(matrix, [1,2,3,4,5,6], 'item_cnt_month_mean_date')\n",
    "#fill missing values\n",
    "matrix = matrix.fillna(0)\n",
    "# drop the unneeded feature\n",
    "matrix = matrix.drop(columns=['item_cnt_month_mean_date'])\n",
    "time.time() - ts"
   ]
  },
  {
   "cell_type": "markdown",
   "id": "a5635083",
   "metadata": {
    "papermill": {
     "duration": 0.04862,
     "end_time": "2022-06-29T10:30:14.192284",
     "exception": false,
     "start_time": "2022-06-29T10:30:14.143664",
     "status": "completed"
    },
    "tags": []
   },
   "source": [
    "#### Lag features based on average number of items sold per month on each shop\n",
    "- mean aggregation of `item_cnt_month` based on `[date_block_num,shop_id]`"
   ]
  },
  {
   "cell_type": "code",
   "execution_count": 61,
   "id": "01fdfa85",
   "metadata": {
    "execution": {
     "iopub.execute_input": "2022-06-29T10:30:14.303720Z",
     "iopub.status.busy": "2022-06-29T10:30:14.302931Z",
     "iopub.status.idle": "2022-06-29T10:30:17.481125Z",
     "shell.execute_reply": "2022-06-29T10:30:17.479923Z"
    },
    "papermill": {
     "duration": 3.238051,
     "end_time": "2022-06-29T10:30:17.484122",
     "exception": false,
     "start_time": "2022-06-29T10:30:14.246071",
     "status": "completed"
    },
    "tags": []
   },
   "outputs": [],
   "source": [
    "group = matrix.groupby(by=['date_block_num','shop_id']).agg({'item_cnt_month':['mean']})\n",
    "group.columns = ['item_cnt_month_mean_date_shopid']\n",
    "group = group.reset_index()\n",
    "\n",
    "# merging with skelton\n",
    "matrix = matrix.merge(group,on=['date_block_num','shop_id'],how=\"left\")\n",
    "\n",
    "#adjusting datatype\n",
    "matrix['item_cnt_month_mean_date_shopid'] = matrix['item_cnt_month_mean_date_shopid'].astype(np.float16)"
   ]
  },
  {
   "cell_type": "code",
   "execution_count": 62,
   "id": "d837c963",
   "metadata": {
    "execution": {
     "iopub.execute_input": "2022-06-29T10:30:17.592765Z",
     "iopub.status.busy": "2022-06-29T10:30:17.591990Z",
     "iopub.status.idle": "2022-06-29T10:31:20.731126Z",
     "shell.execute_reply": "2022-06-29T10:31:20.729445Z"
    },
    "papermill": {
     "duration": 63.243704,
     "end_time": "2022-06-29T10:31:20.782280",
     "exception": false,
     "start_time": "2022-06-29T10:30:17.538576",
     "status": "completed"
    },
    "tags": []
   },
   "outputs": [
    {
     "data": {
      "text/plain": [
       "63.128512144088745"
      ]
     },
     "execution_count": 62,
     "metadata": {},
     "output_type": "execute_result"
    }
   ],
   "source": [
    "# LAG FEATURES\n",
    "\n",
    "ts = time.time()\n",
    "matrix = lag_feature(matrix, [1,2,3,4,5,6], 'item_cnt_month_mean_date_shopid')\n",
    "#fill missing values\n",
    "matrix = matrix.fillna(0)\n",
    "# drop the unneeded feature\n",
    "matrix.drop(columns=['item_cnt_month_mean_date_shopid'],inplace=True)\n",
    "time.time() - ts"
   ]
  },
  {
   "cell_type": "markdown",
   "id": "7c3d18f3",
   "metadata": {
    "papermill": {
     "duration": 0.153933,
     "end_time": "2022-06-29T10:31:20.985573",
     "exception": false,
     "start_time": "2022-06-29T10:31:20.831640",
     "status": "completed"
    },
    "tags": []
   },
   "source": [
    "#### Lag features based on average number of each item sold per month\n",
    "- mean aggregation of `item_cnt_month` based on `[date_block_num,item_id]`"
   ]
  },
  {
   "cell_type": "code",
   "execution_count": 63,
   "id": "e90524e3",
   "metadata": {
    "execution": {
     "iopub.execute_input": "2022-06-29T10:31:21.089016Z",
     "iopub.status.busy": "2022-06-29T10:31:21.088271Z",
     "iopub.status.idle": "2022-06-29T10:31:25.313588Z",
     "shell.execute_reply": "2022-06-29T10:31:25.312280Z"
    },
    "papermill": {
     "duration": 4.282351,
     "end_time": "2022-06-29T10:31:25.316632",
     "exception": false,
     "start_time": "2022-06-29T10:31:21.034281",
     "status": "completed"
    },
    "tags": []
   },
   "outputs": [],
   "source": [
    "group = matrix.groupby(by=['date_block_num','item_id']).agg({'item_cnt_month':['mean']})\n",
    "group.columns = ['item_cnt_month_mean_date_itemid']\n",
    "group = group.reset_index()\n",
    "\n",
    "# merging with skelton\n",
    "matrix = matrix.merge(group,on=['date_block_num','item_id'],how=\"left\")\n",
    "\n",
    "#adjusting datatype\n",
    "matrix['item_cnt_month_mean_date_itemid'] = matrix['item_cnt_month_mean_date_itemid'].astype(np.float16)"
   ]
  },
  {
   "cell_type": "code",
   "execution_count": 64,
   "id": "b7517503",
   "metadata": {
    "execution": {
     "iopub.execute_input": "2022-06-29T10:31:25.415532Z",
     "iopub.status.busy": "2022-06-29T10:31:25.414644Z",
     "iopub.status.idle": "2022-06-29T10:32:33.263761Z",
     "shell.execute_reply": "2022-06-29T10:32:33.262389Z"
    },
    "papermill": {
     "duration": 67.954858,
     "end_time": "2022-06-29T10:32:33.319623",
     "exception": false,
     "start_time": "2022-06-29T10:31:25.364765",
     "status": "completed"
    },
    "tags": []
   },
   "outputs": [
    {
     "data": {
      "text/plain": [
       "67.83809900283813"
      ]
     },
     "execution_count": 64,
     "metadata": {},
     "output_type": "execute_result"
    }
   ],
   "source": [
    "# LAG FEATURES\n",
    "\n",
    "ts = time.time()\n",
    "matrix = lag_feature(matrix, [1,2,3,4,5,6], 'item_cnt_month_mean_date_itemid')\n",
    "#fill missing values\n",
    "matrix = matrix.fillna(0)\n",
    "# drop the unneeded feature\n",
    "matrix.drop(columns=['item_cnt_month_mean_date_itemid'],inplace=True)\n",
    "time.time() - ts"
   ]
  },
  {
   "cell_type": "markdown",
   "id": "4f55ad05",
   "metadata": {
    "papermill": {
     "duration": 0.048146,
     "end_time": "2022-06-29T10:32:33.415944",
     "exception": false,
     "start_time": "2022-06-29T10:32:33.367798",
     "status": "completed"
    },
    "tags": []
   },
   "source": [
    "#### Lag features based on Revenue generated form each item of each month\n",
    "- sales on item = `item_cnt_month`*`item_price`"
   ]
  },
  {
   "cell_type": "code",
   "execution_count": 65,
   "id": "e2d49bda",
   "metadata": {
    "execution": {
     "iopub.execute_input": "2022-06-29T10:32:33.519864Z",
     "iopub.status.busy": "2022-06-29T10:32:33.518991Z",
     "iopub.status.idle": "2022-06-29T10:32:37.937267Z",
     "shell.execute_reply": "2022-06-29T10:32:37.936013Z"
    },
    "papermill": {
     "duration": 4.474638,
     "end_time": "2022-06-29T10:32:37.940154",
     "exception": false,
     "start_time": "2022-06-29T10:32:33.465516",
     "status": "completed"
    },
    "tags": []
   },
   "outputs": [],
   "source": [
    "# mean item price per item\n",
    "df_train['revenue'] = df_train['item_cnt_day']*df_train['item_price']\n",
    "item_id_price = df_train[['item_id','revenue','date_block_num']].groupby(by=['date_block_num','item_id']).agg({'revenue':['mean']})\n",
    "item_id_price.columns = ['mean_revenue']\n",
    "item_id_price = item_id_price.reset_index()\n",
    "matrix = matrix.merge(item_id_price,on=['date_block_num','item_id'],how=\"left\")\n",
    "matrix['mean_revenue'] = matrix['mean_revenue'].astype(np.float16)"
   ]
  },
  {
   "cell_type": "code",
   "execution_count": 66,
   "id": "8a14da9c",
   "metadata": {
    "execution": {
     "iopub.execute_input": "2022-06-29T10:32:38.041434Z",
     "iopub.status.busy": "2022-06-29T10:32:38.040713Z",
     "iopub.status.idle": "2022-06-29T10:33:43.748695Z",
     "shell.execute_reply": "2022-06-29T10:33:43.747548Z"
    },
    "papermill": {
     "duration": 65.762856,
     "end_time": "2022-06-29T10:33:43.751621",
     "exception": false,
     "start_time": "2022-06-29T10:32:37.988765",
     "status": "completed"
    },
    "tags": []
   },
   "outputs": [],
   "source": [
    "#lag features\n",
    "lags = [1,2,3,4,5,6]\n",
    "matrix = lag_feature(matrix, lags, 'mean_revenue')\n",
    "\n",
    "for i in lags:\n",
    "    matrix['mean_revenue_lag_'+str(i)] = matrix['mean_revenue_lag_'+str(i)].fillna(0)"
   ]
  },
  {
   "cell_type": "markdown",
   "id": "ca70958b",
   "metadata": {
    "papermill": {
     "duration": 0.0489,
     "end_time": "2022-06-29T10:33:43.850030",
     "exception": false,
     "start_time": "2022-06-29T10:33:43.801130",
     "status": "completed"
    },
    "tags": []
   },
   "source": [
    "### 5-(2). Final model"
   ]
  },
  {
   "cell_type": "code",
   "execution_count": 67,
   "id": "4d7ab708",
   "metadata": {
    "execution": {
     "iopub.execute_input": "2022-06-29T10:33:43.949686Z",
     "iopub.status.busy": "2022-06-29T10:33:43.948937Z",
     "iopub.status.idle": "2022-06-29T10:33:48.370492Z",
     "shell.execute_reply": "2022-06-29T10:33:48.368988Z"
    },
    "papermill": {
     "duration": 4.474796,
     "end_time": "2022-06-29T10:33:48.373380",
     "exception": false,
     "start_time": "2022-06-29T10:33:43.898584",
     "status": "completed"
    },
    "tags": []
   },
   "outputs": [
    {
     "name": "stdout",
     "output_type": "stream",
     "text": [
      "(6167580, 36) (238084, 36) (214200, 36)\n"
     ]
    }
   ],
   "source": [
    "feats = [i for i in matrix.columns if 'lag' in i] + ['shop_id','item_id','date_block_num','item_cnt_month']\n",
    "\n",
    "data = matrix[feats]\n",
    "train_df = data.loc[(data['date_block_num'] > 11) & (data['date_block_num'] < 33)]\n",
    "val_df = data.loc[data['date_block_num'] == 33]\n",
    "test_df = data.loc[data['date_block_num'] == 34]\n",
    "\n",
    "X_train = train_df.drop(columns=['shop_id','item_id','date_block_num','item_cnt_month'])\n",
    "y_train = train_df['item_cnt_month']\n",
    "X_val = val_df.drop(columns=['shop_id','item_id','date_block_num','item_cnt_month'])\n",
    "y_val = val_df['item_cnt_month']\n",
    "X_test = test_df.drop(columns=['shop_id','item_id','date_block_num','item_cnt_month'])\n",
    "\n",
    "print(X_train.shape,X_val.shape,X_test.shape)"
   ]
  },
  {
   "cell_type": "code",
   "execution_count": 68,
   "id": "a1ff9904",
   "metadata": {
    "execution": {
     "iopub.execute_input": "2022-06-29T10:33:48.474417Z",
     "iopub.status.busy": "2022-06-29T10:33:48.473611Z",
     "iopub.status.idle": "2022-06-29T10:33:48.527463Z",
     "shell.execute_reply": "2022-06-29T10:33:48.526108Z"
    },
    "papermill": {
     "duration": 0.107678,
     "end_time": "2022-06-29T10:33:48.530202",
     "exception": false,
     "start_time": "2022-06-29T10:33:48.422524",
     "status": "completed"
    },
    "tags": []
   },
   "outputs": [],
   "source": [
    "# del matrix\n",
    "del data\n",
    "del train_df\n",
    "del val_df\n",
    "del test_df"
   ]
  },
  {
   "cell_type": "code",
   "execution_count": 69,
   "id": "73e16fe5",
   "metadata": {
    "execution": {
     "iopub.execute_input": "2022-06-29T10:33:48.628430Z",
     "iopub.status.busy": "2022-06-29T10:33:48.628015Z",
     "iopub.status.idle": "2022-06-29T10:34:29.749354Z",
     "shell.execute_reply": "2022-06-29T10:34:29.748258Z"
    },
    "papermill": {
     "duration": 41.173542,
     "end_time": "2022-06-29T10:34:29.751871",
     "exception": false,
     "start_time": "2022-06-29T10:33:48.578329",
     "status": "completed"
    },
    "tags": []
   },
   "outputs": [
    {
     "name": "stdout",
     "output_type": "stream",
     "text": [
      "[0]\tvalidation_0-rmse:0.98564\tvalidation_1-rmse:0.89667\n",
      "[1]\tvalidation_0-rmse:0.90391\tvalidation_1-rmse:0.83733\n",
      "[2]\tvalidation_0-rmse:0.86110\tvalidation_1-rmse:0.80738\n",
      "[3]\tvalidation_0-rmse:0.83393\tvalidation_1-rmse:0.78986\n",
      "[4]\tvalidation_0-rmse:0.81840\tvalidation_1-rmse:0.78100\n",
      "[5]\tvalidation_0-rmse:0.80915\tvalidation_1-rmse:0.77682\n",
      "[6]\tvalidation_0-rmse:0.80407\tvalidation_1-rmse:0.77475\n",
      "[7]\tvalidation_0-rmse:0.79898\tvalidation_1-rmse:0.77338\n",
      "[8]\tvalidation_0-rmse:0.79638\tvalidation_1-rmse:0.77640\n",
      "[9]\tvalidation_0-rmse:0.79344\tvalidation_1-rmse:0.77701\n",
      "[10]\tvalidation_0-rmse:0.79157\tvalidation_1-rmse:0.77641\n",
      "[11]\tvalidation_0-rmse:0.78975\tvalidation_1-rmse:0.77699\n",
      "[12]\tvalidation_0-rmse:0.78785\tvalidation_1-rmse:0.77791\n",
      "[13]\tvalidation_0-rmse:0.78657\tvalidation_1-rmse:0.77799\n",
      "[14]\tvalidation_0-rmse:0.78522\tvalidation_1-rmse:0.77742\n",
      "[15]\tvalidation_0-rmse:0.78438\tvalidation_1-rmse:0.77739\n",
      "[16]\tvalidation_0-rmse:0.78323\tvalidation_1-rmse:0.77736\n"
     ]
    },
    {
     "data": {
      "text/plain": [
       "41.11238980293274"
      ]
     },
     "execution_count": 69,
     "metadata": {},
     "output_type": "execute_result"
    }
   ],
   "source": [
    "ts = time.time()\n",
    "\n",
    "model = xgb.XGBRegressor(\n",
    "    max_depth=8,\n",
    "    n_estimators=1000,\n",
    "    min_child_weight=300, \n",
    "    colsample_bytree=0.8, \n",
    "    subsample=0.8, \n",
    "    eta=0.3,    \n",
    "    seed=42)\n",
    "\n",
    "model.fit(\n",
    "    X_train, \n",
    "    y_train, \n",
    "    eval_metric=\"rmse\", \n",
    "    eval_set=[(X_train, y_train), (X_val, y_val)], \n",
    "    verbose=True, \n",
    "    early_stopping_rounds = 10)\n",
    "\n",
    "time.time() - ts"
   ]
  },
  {
   "cell_type": "code",
   "execution_count": 70,
   "id": "2dabe051",
   "metadata": {
    "execution": {
     "iopub.execute_input": "2022-06-29T10:34:29.854859Z",
     "iopub.status.busy": "2022-06-29T10:34:29.854192Z",
     "iopub.status.idle": "2022-06-29T10:34:30.605984Z",
     "shell.execute_reply": "2022-06-29T10:34:30.604823Z"
    },
    "papermill": {
     "duration": 0.806667,
     "end_time": "2022-06-29T10:34:30.608901",
     "exception": false,
     "start_time": "2022-06-29T10:34:29.802234",
     "status": "completed"
    },
    "tags": []
   },
   "outputs": [],
   "source": [
    "Y_test = model.predict(X_test).clip(0, 20)\n",
    "df_test = pd.read_csv('/kaggle/input/competitive-data-science-predict-future-sales/test.csv')\n",
    "submission = pd.DataFrame({\n",
    "    \"ID\": df_test.index, \n",
    "    \"item_cnt_month\": Y_test\n",
    "})\n",
    "submission.to_csv('submission.csv', index=False)"
   ]
  }
 ],
 "metadata": {
  "kernelspec": {
   "display_name": "Python 3",
   "language": "python",
   "name": "python3"
  },
  "language_info": {
   "codemirror_mode": {
    "name": "ipython",
    "version": 3
   },
   "file_extension": ".py",
   "mimetype": "text/x-python",
   "name": "python",
   "nbconvert_exporter": "python",
   "pygments_lexer": "ipython3",
   "version": "3.7.12"
  },
  "papermill": {
   "default_parameters": {},
   "duration": 911.528643,
   "end_time": "2022-06-29T10:34:31.985129",
   "environment_variables": {},
   "exception": null,
   "input_path": "__notebook__.ipynb",
   "output_path": "__notebook__.ipynb",
   "parameters": {},
   "start_time": "2022-06-29T10:19:20.456486",
   "version": "2.3.4"
  }
 },
 "nbformat": 4,
 "nbformat_minor": 5
}
